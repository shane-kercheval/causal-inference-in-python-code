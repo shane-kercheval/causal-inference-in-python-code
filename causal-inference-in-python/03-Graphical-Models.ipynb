{
 "cells": [
  {
   "cell_type": "markdown",
   "metadata": {},
   "source": [
    "# 03 - Graphical Causal Models\n",
    " \n",
    " \n",
    "\n",
    " \n",
    "## Thinking About Causality\n",
    " \n"
   ]
  },
  {
   "cell_type": "code",
   "execution_count": 1,
   "metadata": {},
   "outputs": [
    {
     "name": "stdout",
     "output_type": "stream",
     "text": [
      "/code/causal-inference-in-python\n"
     ]
    }
   ],
   "source": [
    "%cd /code/causal-inference-in-python"
   ]
  },
  {
   "cell_type": "code",
   "execution_count": 2,
   "metadata": {
    "ExecuteTime": {
     "end_time": "2023-06-25T15:09:27.723424Z",
     "start_time": "2023-06-25T15:09:25.235237Z"
    },
    "tags": [
     "hide-input",
     "hide-output"
    ]
   },
   "outputs": [],
   "source": [
    "import warnings\n",
    "warnings.filterwarnings('ignore')\n",
    "\n",
    "import pandas as pd\n",
    "import numpy as np\n",
    "import graphviz as gr\n",
    "from matplotlib import style\n",
    "import seaborn as sns\n",
    "from matplotlib import pyplot as plt\n",
    "\n",
    "color=['0.3', '0.5', '0.7', '0.9']\n",
    "linestyle=['-', '--', ':', '-.']\n",
    "marker=['o', 'v', 'd', 'p']\n",
    "\n",
    "pd.set_option('display.max_rows', 6)\n",
    "\n",
    "gr.set_default_format(\"png\");"
   ]
  },
  {
   "cell_type": "code",
   "execution_count": 3,
   "metadata": {
    "ExecuteTime": {
     "end_time": "2023-06-25T15:09:27.743557Z",
     "start_time": "2023-06-25T15:09:27.725297Z"
    }
   },
   "outputs": [
    {
     "data": {
      "text/html": [
       "<div>\n",
       "<style scoped>\n",
       "    .dataframe tbody tr th:only-of-type {\n",
       "        vertical-align: middle;\n",
       "    }\n",
       "\n",
       "    .dataframe tbody tr th {\n",
       "        vertical-align: top;\n",
       "    }\n",
       "\n",
       "    .dataframe thead th {\n",
       "        text-align: right;\n",
       "    }\n",
       "</style>\n",
       "<table border=\"1\" class=\"dataframe\">\n",
       "  <thead>\n",
       "    <tr style=\"text-align: right;\">\n",
       "      <th></th>\n",
       "      <th>gender</th>\n",
       "      <th>cross_sell_email</th>\n",
       "      <th>age</th>\n",
       "      <th>conversion</th>\n",
       "    </tr>\n",
       "  </thead>\n",
       "  <tbody>\n",
       "    <tr>\n",
       "      <th>0</th>\n",
       "      <td>0</td>\n",
       "      <td>short</td>\n",
       "      <td>15</td>\n",
       "      <td>0</td>\n",
       "    </tr>\n",
       "    <tr>\n",
       "      <th>1</th>\n",
       "      <td>1</td>\n",
       "      <td>short</td>\n",
       "      <td>27</td>\n",
       "      <td>0</td>\n",
       "    </tr>\n",
       "    <tr>\n",
       "      <th>2</th>\n",
       "      <td>1</td>\n",
       "      <td>long</td>\n",
       "      <td>17</td>\n",
       "      <td>0</td>\n",
       "    </tr>\n",
       "    <tr>\n",
       "      <th>...</th>\n",
       "      <td>...</td>\n",
       "      <td>...</td>\n",
       "      <td>...</td>\n",
       "      <td>...</td>\n",
       "    </tr>\n",
       "    <tr>\n",
       "      <th>320</th>\n",
       "      <td>0</td>\n",
       "      <td>no_email</td>\n",
       "      <td>15</td>\n",
       "      <td>0</td>\n",
       "    </tr>\n",
       "    <tr>\n",
       "      <th>321</th>\n",
       "      <td>1</td>\n",
       "      <td>no_email</td>\n",
       "      <td>16</td>\n",
       "      <td>0</td>\n",
       "    </tr>\n",
       "    <tr>\n",
       "      <th>322</th>\n",
       "      <td>1</td>\n",
       "      <td>long</td>\n",
       "      <td>24</td>\n",
       "      <td>1</td>\n",
       "    </tr>\n",
       "  </tbody>\n",
       "</table>\n",
       "<p>323 rows × 4 columns</p>\n",
       "</div>"
      ],
      "text/plain": [
       "     gender cross_sell_email  age  conversion\n",
       "0         0            short   15           0\n",
       "1         1            short   27           0\n",
       "2         1             long   17           0\n",
       "..      ...              ...  ...         ...\n",
       "320       0         no_email   15           0\n",
       "321       1         no_email   16           0\n",
       "322       1             long   24           1\n",
       "\n",
       "[323 rows x 4 columns]"
      ]
     },
     "execution_count": 3,
     "metadata": {},
     "output_type": "execute_result"
    }
   ],
   "source": [
    "import pandas as pd\n",
    "import numpy as np\n",
    "\n",
    "data = pd.read_csv(\"./data/cross_sell_email.csv\")\n",
    "data"
   ]
  },
  {
   "cell_type": "markdown",
   "metadata": {},
   "source": [
    "\n",
    "### Visualizing Causal Relationships \n"
   ]
  },
  {
   "cell_type": "code",
   "execution_count": 4,
   "metadata": {
    "ExecuteTime": {
     "end_time": "2023-06-25T15:09:28.364202Z",
     "start_time": "2023-06-25T15:09:27.744786Z"
    },
    "tags": [
     "hide-output"
    ]
   },
   "outputs": [
    {
     "data": {
      "image/svg+xml": [
       "<?xml version=\"1.0\" encoding=\"UTF-8\" standalone=\"no\"?>\n",
       "<!DOCTYPE svg PUBLIC \"-//W3C//DTD SVG 1.1//EN\"\n",
       " \"http://www.w3.org/Graphics/SVG/1.1/DTD/svg11.dtd\">\n",
       "<!-- Generated by graphviz version 2.43.0 (0)\n",
       " -->\n",
       "<!-- Title: %3 Pages: 1 -->\n",
       "<svg width=\"370pt\" height=\"188pt\"\n",
       " viewBox=\"0.00 0.00 369.76 188.00\" xmlns=\"http://www.w3.org/2000/svg\" xmlns:xlink=\"http://www.w3.org/1999/xlink\">\n",
       "<g id=\"graph0\" class=\"graph\" transform=\"scale(1 1) rotate(0) translate(4 184)\">\n",
       "<title>%3</title>\n",
       "<polygon fill=\"white\" stroke=\"transparent\" points=\"-4,4 -4,-184 365.76,-184 365.76,4 -4,4\"/>\n",
       "<!-- U -->\n",
       "<g id=\"node1\" class=\"node\">\n",
       "<title>U</title>\n",
       "<ellipse fill=\"none\" stroke=\"black\" cx=\"40.61\" cy=\"-162\" rx=\"27\" ry=\"18\"/>\n",
       "<text text-anchor=\"middle\" x=\"40.61\" y=\"-158.3\" font-family=\"Times,serif\" font-size=\"14.00\">U</text>\n",
       "</g>\n",
       "<!-- conversion -->\n",
       "<g id=\"node2\" class=\"node\">\n",
       "<title>conversion</title>\n",
       "<ellipse fill=\"none\" stroke=\"black\" cx=\"84.61\" cy=\"-18\" rx=\"61.19\" ry=\"18\"/>\n",
       "<text text-anchor=\"middle\" x=\"84.61\" y=\"-14.3\" font-family=\"Times,serif\" font-size=\"14.00\">conversion</text>\n",
       "</g>\n",
       "<!-- U&#45;&gt;conversion -->\n",
       "<g id=\"edge1\" class=\"edge\">\n",
       "<title>U&#45;&gt;conversion</title>\n",
       "<path fill=\"none\" stroke=\"black\" d=\"M26.88,-146.38C11.72,-128.38 -8.87,-97.11 4.61,-72 12.44,-57.43 26.22,-46.19 40.17,-37.89\"/>\n",
       "<polygon fill=\"black\" stroke=\"black\" points=\"42.23,-40.75 49.29,-32.86 38.85,-34.62 42.23,-40.75\"/>\n",
       "</g>\n",
       "<!-- age -->\n",
       "<g id=\"node3\" class=\"node\">\n",
       "<title>age</title>\n",
       "<ellipse fill=\"none\" stroke=\"black\" cx=\"40.61\" cy=\"-90\" rx=\"27.1\" ry=\"18\"/>\n",
       "<text text-anchor=\"middle\" x=\"40.61\" y=\"-86.3\" font-family=\"Times,serif\" font-size=\"14.00\">age</text>\n",
       "</g>\n",
       "<!-- U&#45;&gt;age -->\n",
       "<g id=\"edge2\" class=\"edge\">\n",
       "<title>U&#45;&gt;age</title>\n",
       "<path fill=\"none\" stroke=\"black\" d=\"M40.61,-143.7C40.61,-135.98 40.61,-126.71 40.61,-118.11\"/>\n",
       "<polygon fill=\"black\" stroke=\"black\" points=\"44.11,-118.1 40.61,-108.1 37.11,-118.1 44.11,-118.1\"/>\n",
       "</g>\n",
       "<!-- gender -->\n",
       "<g id=\"node4\" class=\"node\">\n",
       "<title>gender</title>\n",
       "<ellipse fill=\"none\" stroke=\"black\" cx=\"129.61\" cy=\"-90\" rx=\"43.59\" ry=\"18\"/>\n",
       "<text text-anchor=\"middle\" x=\"129.61\" y=\"-86.3\" font-family=\"Times,serif\" font-size=\"14.00\">gender</text>\n",
       "</g>\n",
       "<!-- U&#45;&gt;gender -->\n",
       "<g id=\"edge3\" class=\"edge\">\n",
       "<title>U&#45;&gt;gender</title>\n",
       "<path fill=\"none\" stroke=\"black\" d=\"M57.35,-147.83C69.9,-137.97 87.34,-124.25 101.95,-112.76\"/>\n",
       "<polygon fill=\"black\" stroke=\"black\" points=\"104.46,-115.23 110.16,-106.3 100.13,-109.73 104.46,-115.23\"/>\n",
       "</g>\n",
       "<!-- age&#45;&gt;conversion -->\n",
       "<g id=\"edge6\" class=\"edge\">\n",
       "<title>age&#45;&gt;conversion</title>\n",
       "<path fill=\"none\" stroke=\"black\" d=\"M50.6,-73.12C55.9,-64.68 62.55,-54.1 68.55,-44.55\"/>\n",
       "<polygon fill=\"black\" stroke=\"black\" points=\"71.7,-46.13 74.05,-35.8 65.77,-42.4 71.7,-46.13\"/>\n",
       "</g>\n",
       "<!-- gender&#45;&gt;conversion -->\n",
       "<g id=\"edge7\" class=\"edge\">\n",
       "<title>gender&#45;&gt;conversion</title>\n",
       "<path fill=\"none\" stroke=\"black\" d=\"M118.95,-72.41C113.59,-64.08 106.98,-53.8 101,-44.49\"/>\n",
       "<polygon fill=\"black\" stroke=\"black\" points=\"103.86,-42.48 95.51,-35.96 97.98,-46.26 103.86,-42.48\"/>\n",
       "</g>\n",
       "<!-- rnd -->\n",
       "<g id=\"node5\" class=\"node\">\n",
       "<title>rnd</title>\n",
       "<ellipse fill=\"none\" stroke=\"black\" cx=\"276.61\" cy=\"-162\" rx=\"27\" ry=\"18\"/>\n",
       "<text text-anchor=\"middle\" x=\"276.61\" y=\"-158.3\" font-family=\"Times,serif\" font-size=\"14.00\">rnd</text>\n",
       "</g>\n",
       "<!-- cross_sell_email -->\n",
       "<g id=\"node6\" class=\"node\">\n",
       "<title>cross_sell_email</title>\n",
       "<ellipse fill=\"none\" stroke=\"black\" cx=\"276.61\" cy=\"-90\" rx=\"85.29\" ry=\"18\"/>\n",
       "<text text-anchor=\"middle\" x=\"276.61\" y=\"-86.3\" font-family=\"Times,serif\" font-size=\"14.00\">cross_sell_email</text>\n",
       "</g>\n",
       "<!-- rnd&#45;&gt;cross_sell_email -->\n",
       "<g id=\"edge4\" class=\"edge\">\n",
       "<title>rnd&#45;&gt;cross_sell_email</title>\n",
       "<path fill=\"none\" stroke=\"black\" d=\"M276.61,-143.7C276.61,-135.98 276.61,-126.71 276.61,-118.11\"/>\n",
       "<polygon fill=\"black\" stroke=\"black\" points=\"280.11,-118.1 276.61,-108.1 273.11,-118.1 280.11,-118.1\"/>\n",
       "</g>\n",
       "<!-- cross_sell_email&#45;&gt;conversion -->\n",
       "<g id=\"edge5\" class=\"edge\">\n",
       "<title>cross_sell_email&#45;&gt;conversion</title>\n",
       "<path fill=\"none\" stroke=\"black\" d=\"M235.89,-74.15C205.17,-62.95 162.98,-47.57 130.96,-35.9\"/>\n",
       "<polygon fill=\"black\" stroke=\"black\" points=\"131.97,-32.54 121.38,-32.4 129.57,-39.12 131.97,-32.54\"/>\n",
       "</g>\n",
       "</g>\n",
       "</svg>\n"
      ],
      "text/plain": [
       "<graphviz.graphs.Digraph at 0xffff73736610>"
      ]
     },
     "execution_count": 4,
     "metadata": {},
     "output_type": "execute_result"
    }
   ],
   "source": [
    "import graphviz as gr\n",
    "\n",
    "g_cross_sell = gr.Digraph()\n",
    "\n",
    "g_cross_sell.edge(\"U\", \"conversion\")\n",
    "g_cross_sell.edge(\"U\", \"age\")\n",
    "g_cross_sell.edge(\"U\", \"gender\")\n",
    "\n",
    "g_cross_sell.edge(\"rnd\", \"cross_sell_email\")\n",
    "g_cross_sell.edge(\"cross_sell_email\", \"conversion\")\n",
    "g_cross_sell.edge(\"age\", \"conversion\")\n",
    "g_cross_sell.edge(\"gender\", \"conversion\")\n",
    "\n",
    "g_cross_sell"
   ]
  },
  {
   "cell_type": "code",
   "execution_count": 5,
   "metadata": {
    "ExecuteTime": {
     "end_time": "2023-06-25T15:09:28.575818Z",
     "start_time": "2023-06-25T15:09:28.367014Z"
    },
    "tags": [
     "hide-input"
    ]
   },
   "outputs": [
    {
     "data": {
      "image/svg+xml": [
       "<?xml version=\"1.0\" encoding=\"UTF-8\" standalone=\"no\"?>\n",
       "<!DOCTYPE svg PUBLIC \"-//W3C//DTD SVG 1.1//EN\"\n",
       " \"http://www.w3.org/Graphics/SVG/1.1/DTD/svg11.dtd\">\n",
       "<!-- Generated by graphviz version 2.43.0 (0)\n",
       " -->\n",
       "<!-- Title: %3 Pages: 1 -->\n",
       "<svg width=\"370pt\" height=\"188pt\"\n",
       " viewBox=\"0.00 0.00 369.76 188.00\" xmlns=\"http://www.w3.org/2000/svg\" xmlns:xlink=\"http://www.w3.org/1999/xlink\">\n",
       "<g id=\"graph0\" class=\"graph\" transform=\"scale(1 1) rotate(0) translate(4 184)\">\n",
       "<title>%3</title>\n",
       "<polygon fill=\"white\" stroke=\"transparent\" points=\"-4,4 -4,-184 365.76,-184 365.76,4 -4,4\"/>\n",
       "<!-- U -->\n",
       "<g id=\"node1\" class=\"node\">\n",
       "<title>U</title>\n",
       "<ellipse fill=\"none\" stroke=\"black\" cx=\"40.61\" cy=\"-162\" rx=\"27\" ry=\"18\"/>\n",
       "<text text-anchor=\"middle\" x=\"40.61\" y=\"-158.3\" font-family=\"Times,serif\" font-size=\"14.00\">U</text>\n",
       "</g>\n",
       "<!-- conversion -->\n",
       "<g id=\"node2\" class=\"node\">\n",
       "<title>conversion</title>\n",
       "<ellipse fill=\"none\" stroke=\"black\" cx=\"84.61\" cy=\"-18\" rx=\"61.19\" ry=\"18\"/>\n",
       "<text text-anchor=\"middle\" x=\"84.61\" y=\"-14.3\" font-family=\"Times,serif\" font-size=\"14.00\">conversion</text>\n",
       "</g>\n",
       "<!-- U&#45;&gt;conversion -->\n",
       "<g id=\"edge1\" class=\"edge\">\n",
       "<title>U&#45;&gt;conversion</title>\n",
       "<path fill=\"none\" stroke=\"black\" d=\"M26.88,-146.38C11.72,-128.38 -8.87,-97.11 4.61,-72 12.44,-57.43 26.22,-46.19 40.17,-37.89\"/>\n",
       "<polygon fill=\"black\" stroke=\"black\" points=\"42.23,-40.75 49.29,-32.86 38.85,-34.62 42.23,-40.75\"/>\n",
       "</g>\n",
       "<!-- age -->\n",
       "<g id=\"node3\" class=\"node\">\n",
       "<title>age</title>\n",
       "<ellipse fill=\"none\" stroke=\"black\" cx=\"40.61\" cy=\"-90\" rx=\"27.1\" ry=\"18\"/>\n",
       "<text text-anchor=\"middle\" x=\"40.61\" y=\"-86.3\" font-family=\"Times,serif\" font-size=\"14.00\">age</text>\n",
       "</g>\n",
       "<!-- U&#45;&gt;age -->\n",
       "<g id=\"edge2\" class=\"edge\">\n",
       "<title>U&#45;&gt;age</title>\n",
       "<path fill=\"none\" stroke=\"black\" d=\"M40.61,-143.7C40.61,-135.98 40.61,-126.71 40.61,-118.11\"/>\n",
       "<polygon fill=\"black\" stroke=\"black\" points=\"44.11,-118.1 40.61,-108.1 37.11,-118.1 44.11,-118.1\"/>\n",
       "</g>\n",
       "<!-- gender -->\n",
       "<g id=\"node4\" class=\"node\">\n",
       "<title>gender</title>\n",
       "<ellipse fill=\"none\" stroke=\"black\" cx=\"129.61\" cy=\"-90\" rx=\"43.59\" ry=\"18\"/>\n",
       "<text text-anchor=\"middle\" x=\"129.61\" y=\"-86.3\" font-family=\"Times,serif\" font-size=\"14.00\">gender</text>\n",
       "</g>\n",
       "<!-- U&#45;&gt;gender -->\n",
       "<g id=\"edge3\" class=\"edge\">\n",
       "<title>U&#45;&gt;gender</title>\n",
       "<path fill=\"none\" stroke=\"black\" d=\"M57.35,-147.83C69.9,-137.97 87.34,-124.25 101.95,-112.76\"/>\n",
       "<polygon fill=\"black\" stroke=\"black\" points=\"104.46,-115.23 110.16,-106.3 100.13,-109.73 104.46,-115.23\"/>\n",
       "</g>\n",
       "<!-- age&#45;&gt;conversion -->\n",
       "<g id=\"edge6\" class=\"edge\">\n",
       "<title>age&#45;&gt;conversion</title>\n",
       "<path fill=\"none\" stroke=\"black\" d=\"M50.6,-73.12C55.9,-64.68 62.55,-54.1 68.55,-44.55\"/>\n",
       "<polygon fill=\"black\" stroke=\"black\" points=\"71.7,-46.13 74.05,-35.8 65.77,-42.4 71.7,-46.13\"/>\n",
       "</g>\n",
       "<!-- gender&#45;&gt;conversion -->\n",
       "<g id=\"edge7\" class=\"edge\">\n",
       "<title>gender&#45;&gt;conversion</title>\n",
       "<path fill=\"none\" stroke=\"black\" d=\"M118.95,-72.41C113.59,-64.08 106.98,-53.8 101,-44.49\"/>\n",
       "<polygon fill=\"black\" stroke=\"black\" points=\"103.86,-42.48 95.51,-35.96 97.98,-46.26 103.86,-42.48\"/>\n",
       "</g>\n",
       "<!-- rnd -->\n",
       "<g id=\"node5\" class=\"node\">\n",
       "<title>rnd</title>\n",
       "<ellipse fill=\"none\" stroke=\"black\" cx=\"276.61\" cy=\"-162\" rx=\"27\" ry=\"18\"/>\n",
       "<text text-anchor=\"middle\" x=\"276.61\" y=\"-158.3\" font-family=\"Times,serif\" font-size=\"14.00\">rnd</text>\n",
       "</g>\n",
       "<!-- cross_sell_email -->\n",
       "<g id=\"node6\" class=\"node\">\n",
       "<title>cross_sell_email</title>\n",
       "<ellipse fill=\"none\" stroke=\"black\" cx=\"276.61\" cy=\"-90\" rx=\"85.29\" ry=\"18\"/>\n",
       "<text text-anchor=\"middle\" x=\"276.61\" y=\"-86.3\" font-family=\"Times,serif\" font-size=\"14.00\">cross_sell_email</text>\n",
       "</g>\n",
       "<!-- rnd&#45;&gt;cross_sell_email -->\n",
       "<g id=\"edge4\" class=\"edge\">\n",
       "<title>rnd&#45;&gt;cross_sell_email</title>\n",
       "<path fill=\"none\" stroke=\"black\" d=\"M276.61,-143.7C276.61,-135.98 276.61,-126.71 276.61,-118.11\"/>\n",
       "<polygon fill=\"black\" stroke=\"black\" points=\"280.11,-118.1 276.61,-108.1 273.11,-118.1 280.11,-118.1\"/>\n",
       "</g>\n",
       "<!-- cross_sell_email&#45;&gt;conversion -->\n",
       "<g id=\"edge5\" class=\"edge\">\n",
       "<title>cross_sell_email&#45;&gt;conversion</title>\n",
       "<path fill=\"none\" stroke=\"black\" d=\"M235.89,-74.15C205.17,-62.95 162.98,-47.57 130.96,-35.9\"/>\n",
       "<polygon fill=\"black\" stroke=\"black\" points=\"131.97,-32.54 121.38,-32.4 129.57,-39.12 131.97,-32.54\"/>\n",
       "</g>\n",
       "</g>\n",
       "</svg>\n"
      ],
      "text/plain": [
       "<graphviz.graphs.Digraph at 0xffff676b0050>"
      ]
     },
     "execution_count": 5,
     "metadata": {},
     "output_type": "execute_result"
    }
   ],
   "source": [
    "g_cross_sell = gr.Digraph()\n",
    "\n",
    "g_cross_sell.edge(\"U\", \"conversion\")\n",
    "g_cross_sell.edge(\"U\", \"age\")\n",
    "g_cross_sell.edge(\"U\", \"gender\")\n",
    "\n",
    "g_cross_sell.edge(\"rnd\", \"cross_sell_email\")\n",
    "g_cross_sell.edge(\"cross_sell_email\", \"conversion\")\n",
    "g_cross_sell.edge(\"age\", \"conversion\")\n",
    "g_cross_sell.edge(\"gender\", \"conversion\")\n",
    "\n",
    "g_cross_sell"
   ]
  },
  {
   "cell_type": "code",
   "execution_count": 6,
   "metadata": {
    "ExecuteTime": {
     "end_time": "2023-06-25T15:09:28.798849Z",
     "start_time": "2023-06-25T15:09:28.578426Z"
    },
    "tags": [
     "hide-output"
    ]
   },
   "outputs": [
    {
     "data": {
      "image/svg+xml": [
       "<?xml version=\"1.0\" encoding=\"UTF-8\" standalone=\"no\"?>\n",
       "<!DOCTYPE svg PUBLIC \"-//W3C//DTD SVG 1.1//EN\"\n",
       " \"http://www.w3.org/Graphics/SVG/1.1/DTD/svg11.dtd\">\n",
       "<!-- Generated by graphviz version 2.43.0 (0)\n",
       " -->\n",
       "<!-- Title: %3 Pages: 1 -->\n",
       "<svg width=\"426pt\" height=\"121pt\"\n",
       " viewBox=\"0.00 0.00 426.47 121.00\" xmlns=\"http://www.w3.org/2000/svg\" xmlns:xlink=\"http://www.w3.org/1999/xlink\">\n",
       "<g id=\"graph0\" class=\"graph\" transform=\"scale(1 1) rotate(0) translate(4 117)\">\n",
       "<title>%3</title>\n",
       "<polygon fill=\"white\" stroke=\"transparent\" points=\"-4,4 -4,-117 422.47,-117 422.47,4 -4,4\"/>\n",
       "<!-- U -->\n",
       "<g id=\"node1\" class=\"node\">\n",
       "<title>U</title>\n",
       "<ellipse fill=\"none\" stroke=\"black\" cx=\"27\" cy=\"-95\" rx=\"27\" ry=\"18\"/>\n",
       "<text text-anchor=\"middle\" x=\"27\" y=\"-91.3\" font-family=\"Times,serif\" font-size=\"14.00\">U</text>\n",
       "</g>\n",
       "<!-- conversion -->\n",
       "<g id=\"node2\" class=\"node\">\n",
       "<title>conversion</title>\n",
       "<ellipse fill=\"none\" stroke=\"black\" cx=\"357.38\" cy=\"-72\" rx=\"61.19\" ry=\"18\"/>\n",
       "<text text-anchor=\"middle\" x=\"357.38\" y=\"-68.3\" font-family=\"Times,serif\" font-size=\"14.00\">conversion</text>\n",
       "</g>\n",
       "<!-- U&#45;&gt;conversion -->\n",
       "<g id=\"edge1\" class=\"edge\">\n",
       "<title>U&#45;&gt;conversion</title>\n",
       "<path fill=\"none\" stroke=\"black\" d=\"M53.93,-98.03C97.02,-102.49 185.97,-109.24 260.28,-99 275.77,-96.87 292.27,-92.88 307.15,-88.62\"/>\n",
       "<polygon fill=\"black\" stroke=\"black\" points=\"308.57,-91.85 317.16,-85.65 306.57,-85.14 308.57,-91.85\"/>\n",
       "</g>\n",
       "<!-- X -->\n",
       "<g id=\"node3\" class=\"node\">\n",
       "<title>X</title>\n",
       "<ellipse fill=\"none\" stroke=\"black\" cx=\"175.14\" cy=\"-72\" rx=\"27\" ry=\"18\"/>\n",
       "<text text-anchor=\"middle\" x=\"175.14\" y=\"-68.3\" font-family=\"Times,serif\" font-size=\"14.00\">X</text>\n",
       "</g>\n",
       "<!-- U&#45;&gt;X -->\n",
       "<g id=\"edge2\" class=\"edge\">\n",
       "<title>U&#45;&gt;X</title>\n",
       "<path fill=\"none\" stroke=\"black\" d=\"M53.46,-90.99C76.99,-87.29 112.2,-81.75 138.52,-77.61\"/>\n",
       "<polygon fill=\"black\" stroke=\"black\" points=\"139.15,-81.05 148.49,-76.04 138.07,-74.13 139.15,-81.05\"/>\n",
       "</g>\n",
       "<!-- X&#45;&gt;conversion -->\n",
       "<g id=\"edge4\" class=\"edge\">\n",
       "<title>X&#45;&gt;conversion</title>\n",
       "<path fill=\"none\" stroke=\"black\" d=\"M202.35,-72C224.27,-72 256.59,-72 285.97,-72\"/>\n",
       "<polygon fill=\"black\" stroke=\"black\" points=\"286.21,-75.5 296.21,-72 286.21,-68.5 286.21,-75.5\"/>\n",
       "</g>\n",
       "<!-- cross_sell_email -->\n",
       "<g id=\"node4\" class=\"node\">\n",
       "<title>cross_sell_email</title>\n",
       "<ellipse fill=\"none\" stroke=\"black\" cx=\"175.14\" cy=\"-18\" rx=\"85.29\" ry=\"18\"/>\n",
       "<text text-anchor=\"middle\" x=\"175.14\" y=\"-14.3\" font-family=\"Times,serif\" font-size=\"14.00\">cross_sell_email</text>\n",
       "</g>\n",
       "<!-- cross_sell_email&#45;&gt;conversion -->\n",
       "<g id=\"edge3\" class=\"edge\">\n",
       "<title>cross_sell_email&#45;&gt;conversion</title>\n",
       "<path fill=\"none\" stroke=\"black\" d=\"M224.92,-32.61C249.49,-39.98 279.3,-48.91 304.32,-56.4\"/>\n",
       "<polygon fill=\"black\" stroke=\"black\" points=\"303.42,-59.79 314,-59.3 305.43,-53.08 303.42,-59.79\"/>\n",
       "</g>\n",
       "</g>\n",
       "</svg>\n"
      ],
      "text/plain": [
       "<graphviz.graphs.Digraph at 0xffff676a3890>"
      ]
     },
     "execution_count": 6,
     "metadata": {},
     "output_type": "execute_result"
    }
   ],
   "source": [
    "# rankdir:LR layers the graph from left to right\n",
    "g_cross_sell = gr.Digraph(graph_attr={\"rankdir\": \"LR\"})\n",
    "\n",
    "g_cross_sell.edge(\"U\", \"conversion\")\n",
    "g_cross_sell.edge(\"U\", \"X\")\n",
    "\n",
    "g_cross_sell.edge(\"cross_sell_email\", \"conversion\")\n",
    "g_cross_sell.edge(\"X\", \"conversion\")\n",
    "\n",
    "g_cross_sell"
   ]
  },
  {
   "cell_type": "code",
   "execution_count": 7,
   "metadata": {
    "ExecuteTime": {
     "end_time": "2023-06-25T15:09:29.004349Z",
     "start_time": "2023-06-25T15:09:28.801559Z"
    },
    "tags": [
     "hide-input"
    ]
   },
   "outputs": [
    {
     "data": {
      "image/svg+xml": [
       "<?xml version=\"1.0\" encoding=\"UTF-8\" standalone=\"no\"?>\n",
       "<!DOCTYPE svg PUBLIC \"-//W3C//DTD SVG 1.1//EN\"\n",
       " \"http://www.w3.org/Graphics/SVG/1.1/DTD/svg11.dtd\">\n",
       "<!-- Generated by graphviz version 2.43.0 (0)\n",
       " -->\n",
       "<!-- Title: %3 Pages: 1 -->\n",
       "<svg width=\"426pt\" height=\"121pt\"\n",
       " viewBox=\"0.00 0.00 426.47 121.00\" xmlns=\"http://www.w3.org/2000/svg\" xmlns:xlink=\"http://www.w3.org/1999/xlink\">\n",
       "<g id=\"graph0\" class=\"graph\" transform=\"scale(1 1) rotate(0) translate(4 117)\">\n",
       "<title>%3</title>\n",
       "<polygon fill=\"white\" stroke=\"transparent\" points=\"-4,4 -4,-117 422.47,-117 422.47,4 -4,4\"/>\n",
       "<!-- U -->\n",
       "<g id=\"node1\" class=\"node\">\n",
       "<title>U</title>\n",
       "<ellipse fill=\"none\" stroke=\"black\" cx=\"27\" cy=\"-95\" rx=\"27\" ry=\"18\"/>\n",
       "<text text-anchor=\"middle\" x=\"27\" y=\"-91.3\" font-family=\"Times,serif\" font-size=\"14.00\">U</text>\n",
       "</g>\n",
       "<!-- conversion -->\n",
       "<g id=\"node2\" class=\"node\">\n",
       "<title>conversion</title>\n",
       "<ellipse fill=\"none\" stroke=\"black\" cx=\"357.38\" cy=\"-72\" rx=\"61.19\" ry=\"18\"/>\n",
       "<text text-anchor=\"middle\" x=\"357.38\" y=\"-68.3\" font-family=\"Times,serif\" font-size=\"14.00\">conversion</text>\n",
       "</g>\n",
       "<!-- U&#45;&gt;conversion -->\n",
       "<g id=\"edge1\" class=\"edge\">\n",
       "<title>U&#45;&gt;conversion</title>\n",
       "<path fill=\"none\" stroke=\"black\" d=\"M53.93,-98.03C97.02,-102.49 185.97,-109.24 260.28,-99 275.77,-96.87 292.27,-92.88 307.15,-88.62\"/>\n",
       "<polygon fill=\"black\" stroke=\"black\" points=\"308.57,-91.85 317.16,-85.65 306.57,-85.14 308.57,-91.85\"/>\n",
       "</g>\n",
       "<!-- X -->\n",
       "<g id=\"node3\" class=\"node\">\n",
       "<title>X</title>\n",
       "<ellipse fill=\"none\" stroke=\"black\" cx=\"175.14\" cy=\"-72\" rx=\"27\" ry=\"18\"/>\n",
       "<text text-anchor=\"middle\" x=\"175.14\" y=\"-68.3\" font-family=\"Times,serif\" font-size=\"14.00\">X</text>\n",
       "</g>\n",
       "<!-- U&#45;&gt;X -->\n",
       "<g id=\"edge2\" class=\"edge\">\n",
       "<title>U&#45;&gt;X</title>\n",
       "<path fill=\"none\" stroke=\"black\" d=\"M53.46,-90.99C76.99,-87.29 112.2,-81.75 138.52,-77.61\"/>\n",
       "<polygon fill=\"black\" stroke=\"black\" points=\"139.15,-81.05 148.49,-76.04 138.07,-74.13 139.15,-81.05\"/>\n",
       "</g>\n",
       "<!-- X&#45;&gt;conversion -->\n",
       "<g id=\"edge4\" class=\"edge\">\n",
       "<title>X&#45;&gt;conversion</title>\n",
       "<path fill=\"none\" stroke=\"black\" d=\"M202.35,-72C224.27,-72 256.59,-72 285.97,-72\"/>\n",
       "<polygon fill=\"black\" stroke=\"black\" points=\"286.21,-75.5 296.21,-72 286.21,-68.5 286.21,-75.5\"/>\n",
       "</g>\n",
       "<!-- cross_sell_email -->\n",
       "<g id=\"node4\" class=\"node\">\n",
       "<title>cross_sell_email</title>\n",
       "<ellipse fill=\"none\" stroke=\"black\" cx=\"175.14\" cy=\"-18\" rx=\"85.29\" ry=\"18\"/>\n",
       "<text text-anchor=\"middle\" x=\"175.14\" y=\"-14.3\" font-family=\"Times,serif\" font-size=\"14.00\">cross_sell_email</text>\n",
       "</g>\n",
       "<!-- cross_sell_email&#45;&gt;conversion -->\n",
       "<g id=\"edge3\" class=\"edge\">\n",
       "<title>cross_sell_email&#45;&gt;conversion</title>\n",
       "<path fill=\"none\" stroke=\"black\" d=\"M224.92,-32.61C249.49,-39.98 279.3,-48.91 304.32,-56.4\"/>\n",
       "<polygon fill=\"black\" stroke=\"black\" points=\"303.42,-59.79 314,-59.3 305.43,-53.08 303.42,-59.79\"/>\n",
       "</g>\n",
       "</g>\n",
       "</svg>\n"
      ],
      "text/plain": [
       "<graphviz.graphs.Digraph at 0xffff676b12d0>"
      ]
     },
     "execution_count": 7,
     "metadata": {},
     "output_type": "execute_result"
    }
   ],
   "source": [
    "g_cross_sell = gr.Digraph(graph_attr={\"rankdir\": \"LR\"})\n",
    "\n",
    "g_cross_sell.edge(\"U\", \"conversion\")\n",
    "g_cross_sell.edge(\"U\", \"X\")\n",
    "\n",
    "g_cross_sell.edge(\"cross_sell_email\", \"conversion\")\n",
    "g_cross_sell.edge(\"X\", \"conversion\")\n",
    "\n",
    "g_cross_sell"
   ]
  },
  {
   "cell_type": "markdown",
   "metadata": {},
   "source": [
    " \n",
    "### Are Consultants Worth it?\n"
   ]
  },
  {
   "cell_type": "code",
   "execution_count": 8,
   "metadata": {
    "ExecuteTime": {
     "end_time": "2023-06-25T15:09:29.204706Z",
     "start_time": "2023-06-25T15:09:29.006360Z"
    },
    "tags": [
     "hide-input",
     "hide-code"
    ]
   },
   "outputs": [
    {
     "data": {
      "image/svg+xml": [
       "<?xml version=\"1.0\" encoding=\"UTF-8\" standalone=\"no\"?>\n",
       "<!DOCTYPE svg PUBLIC \"-//W3C//DTD SVG 1.1//EN\"\n",
       " \"http://www.w3.org/Graphics/SVG/1.1/DTD/svg11.dtd\">\n",
       "<!-- Generated by graphviz version 2.43.0 (0)\n",
       " -->\n",
       "<!-- Title: %3 Pages: 1 -->\n",
       "<svg width=\"642pt\" height=\"144pt\"\n",
       " viewBox=\"0.00 0.00 641.86 144.00\" xmlns=\"http://www.w3.org/2000/svg\" xmlns:xlink=\"http://www.w3.org/1999/xlink\">\n",
       "<g id=\"graph0\" class=\"graph\" transform=\"scale(1 1) rotate(0) translate(4 140)\">\n",
       "<title>%3</title>\n",
       "<polygon fill=\"white\" stroke=\"transparent\" points=\"-4,4 -4,-140 637.86,-140 637.86,4 -4,4\"/>\n",
       "<!-- U1 -->\n",
       "<g id=\"node1\" class=\"node\">\n",
       "<title>U1</title>\n",
       "<ellipse fill=\"none\" stroke=\"black\" cx=\"361.93\" cy=\"-118\" rx=\"27\" ry=\"18\"/>\n",
       "<text text-anchor=\"middle\" x=\"361.93\" y=\"-114.3\" font-family=\"Times,serif\" font-size=\"14.00\">U1</text>\n",
       "</g>\n",
       "<!-- profits_next_6m -->\n",
       "<g id=\"node2\" class=\"node\">\n",
       "<title>profits_next_6m</title>\n",
       "<ellipse fill=\"none\" stroke=\"black\" cx=\"548.72\" cy=\"-64\" rx=\"85.29\" ry=\"18\"/>\n",
       "<text text-anchor=\"middle\" x=\"548.72\" y=\"-60.3\" font-family=\"Times,serif\" font-size=\"14.00\">profits_next_6m</text>\n",
       "</g>\n",
       "<!-- U1&#45;&gt;profits_next_6m -->\n",
       "<g id=\"edge1\" class=\"edge\">\n",
       "<title>U1&#45;&gt;profits_next_6m</title>\n",
       "<path fill=\"none\" stroke=\"black\" d=\"M387.09,-110.94C412.55,-103.5 453.64,-91.49 487.89,-81.48\"/>\n",
       "<polygon fill=\"black\" stroke=\"black\" points=\"489.19,-84.75 497.81,-78.58 487.23,-78.03 489.19,-84.75\"/>\n",
       "</g>\n",
       "<!-- U2 -->\n",
       "<g id=\"node3\" class=\"node\">\n",
       "<title>U2</title>\n",
       "<ellipse fill=\"none\" stroke=\"black\" cx=\"175.14\" cy=\"-72\" rx=\"27\" ry=\"18\"/>\n",
       "<text text-anchor=\"middle\" x=\"175.14\" y=\"-68.3\" font-family=\"Times,serif\" font-size=\"14.00\">U2</text>\n",
       "</g>\n",
       "<!-- consultancy -->\n",
       "<g id=\"node4\" class=\"node\">\n",
       "<title>consultancy</title>\n",
       "<ellipse fill=\"none\" stroke=\"black\" cx=\"361.93\" cy=\"-64\" rx=\"65.79\" ry=\"18\"/>\n",
       "<text text-anchor=\"middle\" x=\"361.93\" y=\"-60.3\" font-family=\"Times,serif\" font-size=\"14.00\">consultancy</text>\n",
       "</g>\n",
       "<!-- U2&#45;&gt;consultancy -->\n",
       "<g id=\"edge2\" class=\"edge\">\n",
       "<title>U2&#45;&gt;consultancy</title>\n",
       "<path fill=\"none\" stroke=\"black\" d=\"M202.23,-70.87C224.21,-69.92 256.79,-68.51 286.72,-67.21\"/>\n",
       "<polygon fill=\"black\" stroke=\"black\" points=\"286.91,-70.71 296.75,-66.78 286.61,-63.71 286.91,-70.71\"/>\n",
       "</g>\n",
       "<!-- consultancy&#45;&gt;profits_next_6m -->\n",
       "<g id=\"edge4\" class=\"edge\">\n",
       "<title>consultancy&#45;&gt;profits_next_6m</title>\n",
       "<path fill=\"none\" stroke=\"black\" d=\"M427.82,-64C436.11,-64 444.74,-64 453.38,-64\"/>\n",
       "<polygon fill=\"black\" stroke=\"black\" points=\"453.52,-67.5 463.52,-64 453.52,-60.5 453.52,-67.5\"/>\n",
       "</g>\n",
       "<!-- U3 -->\n",
       "<g id=\"node5\" class=\"node\">\n",
       "<title>U3</title>\n",
       "<ellipse fill=\"none\" stroke=\"black\" cx=\"27\" cy=\"-18\" rx=\"27\" ry=\"18\"/>\n",
       "<text text-anchor=\"middle\" x=\"27\" y=\"-14.3\" font-family=\"Times,serif\" font-size=\"14.00\">U3</text>\n",
       "</g>\n",
       "<!-- profits_prev_6m -->\n",
       "<g id=\"node6\" class=\"node\">\n",
       "<title>profits_prev_6m</title>\n",
       "<ellipse fill=\"none\" stroke=\"black\" cx=\"175.14\" cy=\"-18\" rx=\"85.29\" ry=\"18\"/>\n",
       "<text text-anchor=\"middle\" x=\"175.14\" y=\"-14.3\" font-family=\"Times,serif\" font-size=\"14.00\">profits_prev_6m</text>\n",
       "</g>\n",
       "<!-- U3&#45;&gt;profits_prev_6m -->\n",
       "<g id=\"edge3\" class=\"edge\">\n",
       "<title>U3&#45;&gt;profits_prev_6m</title>\n",
       "<path fill=\"none\" stroke=\"black\" d=\"M54.13,-18C61.72,-18 70.5,-18 79.77,-18\"/>\n",
       "<polygon fill=\"black\" stroke=\"black\" points=\"79.99,-21.5 89.99,-18 79.99,-14.5 79.99,-21.5\"/>\n",
       "</g>\n",
       "<!-- profits_prev_6m&#45;&gt;profits_next_6m -->\n",
       "<g id=\"edge6\" class=\"edge\">\n",
       "<title>profits_prev_6m&#45;&gt;profits_next_6m</title>\n",
       "<path fill=\"none\" stroke=\"black\" d=\"M259.15,-21.23C308.31,-23.9 371.72,-28.66 427.57,-37 446.04,-39.76 465.89,-43.78 484.02,-47.87\"/>\n",
       "<polygon fill=\"black\" stroke=\"black\" points=\"483.37,-51.32 493.91,-50.15 484.95,-44.49 483.37,-51.32\"/>\n",
       "</g>\n",
       "<!-- profits_prev_6m&#45;&gt;consultancy -->\n",
       "<g id=\"edge5\" class=\"edge\">\n",
       "<title>profits_prev_6m&#45;&gt;consultancy</title>\n",
       "<path fill=\"none\" stroke=\"black\" d=\"M231.08,-31.68C253.7,-37.31 279.91,-43.83 302.84,-49.54\"/>\n",
       "<polygon fill=\"black\" stroke=\"black\" points=\"302.23,-53 312.78,-52.01 303.92,-46.2 302.23,-53\"/>\n",
       "</g>\n",
       "</g>\n",
       "</svg>\n"
      ],
      "text/plain": [
       "<graphviz.graphs.Digraph at 0xffff676b18d0>"
      ]
     },
     "execution_count": 8,
     "metadata": {},
     "output_type": "execute_result"
    }
   ],
   "source": [
    "g_consultancy = gr.Digraph(graph_attr={\"rankdir\": \"LR\"})\n",
    "\n",
    "g_consultancy.edge(\"U1\", \"profits_next_6m\")\n",
    "g_consultancy.edge(\"U2\", \"consultancy\")\n",
    "g_consultancy.edge(\"U3\", \"profits_prev_6m\")\n",
    "\n",
    "g_consultancy.edge(\"consultancy\", \"profits_next_6m\")\n",
    "\n",
    "g_consultancy.edge(\"profits_prev_6m\", \"consultancy\")\n",
    "g_consultancy.edge(\"profits_prev_6m\", \"profits_next_6m\")\n",
    "\n",
    "g_consultancy"
   ]
  },
  {
   "cell_type": "code",
   "execution_count": 9,
   "metadata": {
    "ExecuteTime": {
     "end_time": "2023-06-25T15:09:29.429558Z",
     "start_time": "2023-06-25T15:09:29.207127Z"
    },
    "tags": [
     "hide-input",
     "hide-code"
    ]
   },
   "outputs": [
    {
     "data": {
      "image/svg+xml": [
       "<?xml version=\"1.0\" encoding=\"UTF-8\" standalone=\"no\"?>\n",
       "<!DOCTYPE svg PUBLIC \"-//W3C//DTD SVG 1.1//EN\"\n",
       " \"http://www.w3.org/Graphics/SVG/1.1/DTD/svg11.dtd\">\n",
       "<!-- Generated by graphviz version 2.43.0 (0)\n",
       " -->\n",
       "<!-- Title: %3 Pages: 1 -->\n",
       "<svg width=\"552pt\" height=\"67pt\"\n",
       " viewBox=\"0.00 0.00 551.86 67.00\" xmlns=\"http://www.w3.org/2000/svg\" xmlns:xlink=\"http://www.w3.org/1999/xlink\">\n",
       "<g id=\"graph0\" class=\"graph\" transform=\"scale(1 1) rotate(0) translate(4 63)\">\n",
       "<title>%3</title>\n",
       "<polygon fill=\"white\" stroke=\"transparent\" points=\"-4,4 -4,-63 547.86,-63 547.86,4 -4,4\"/>\n",
       "<!-- consultancy -->\n",
       "<g id=\"node1\" class=\"node\">\n",
       "<title>consultancy</title>\n",
       "<ellipse fill=\"none\" stroke=\"black\" cx=\"271.93\" cy=\"-41\" rx=\"65.79\" ry=\"18\"/>\n",
       "<text text-anchor=\"middle\" x=\"271.93\" y=\"-37.3\" font-family=\"Times,serif\" font-size=\"14.00\">consultancy</text>\n",
       "</g>\n",
       "<!-- profits_next_6m -->\n",
       "<g id=\"node2\" class=\"node\">\n",
       "<title>profits_next_6m</title>\n",
       "<ellipse fill=\"none\" stroke=\"black\" cx=\"458.72\" cy=\"-18\" rx=\"85.29\" ry=\"18\"/>\n",
       "<text text-anchor=\"middle\" x=\"458.72\" y=\"-14.3\" font-family=\"Times,serif\" font-size=\"14.00\">profits_next_6m</text>\n",
       "</g>\n",
       "<!-- consultancy&#45;&gt;profits_next_6m -->\n",
       "<g id=\"edge1\" class=\"edge\">\n",
       "<title>consultancy&#45;&gt;profits_next_6m</title>\n",
       "<path fill=\"none\" stroke=\"black\" d=\"M331.9,-33.66C345.64,-31.95 360.5,-30.1 375.05,-28.29\"/>\n",
       "<polygon fill=\"black\" stroke=\"black\" points=\"375.56,-31.75 385.05,-27.04 374.69,-24.81 375.56,-31.75\"/>\n",
       "</g>\n",
       "<!-- profits_prev_6m -->\n",
       "<g id=\"node3\" class=\"node\">\n",
       "<title>profits_prev_6m</title>\n",
       "<ellipse fill=\"none\" stroke=\"black\" cx=\"85.14\" cy=\"-18\" rx=\"85.29\" ry=\"18\"/>\n",
       "<text text-anchor=\"middle\" x=\"85.14\" y=\"-14.3\" font-family=\"Times,serif\" font-size=\"14.00\">profits_prev_6m</text>\n",
       "</g>\n",
       "<!-- profits_prev_6m&#45;&gt;consultancy -->\n",
       "<g id=\"edge2\" class=\"edge\">\n",
       "<title>profits_prev_6m&#45;&gt;consultancy</title>\n",
       "<path fill=\"none\" stroke=\"black\" d=\"M158.91,-27.06C173.05,-28.82 187.84,-30.66 201.85,-32.4\"/>\n",
       "<polygon fill=\"black\" stroke=\"black\" points=\"201.55,-35.89 211.9,-33.65 202.41,-28.94 201.55,-35.89\"/>\n",
       "</g>\n",
       "<!-- profits_prev_6m&#45;&gt;profits_next_6m -->\n",
       "<g id=\"edge3\" class=\"edge\">\n",
       "<title>profits_prev_6m&#45;&gt;profits_next_6m</title>\n",
       "<path fill=\"none\" stroke=\"black\" d=\"M169.18,-14.87C181.62,-14.51 194.29,-14.2 206.28,-14 264.63,-13.03 279.23,-13.03 337.57,-14 346.29,-14.15 355.36,-14.35 364.44,-14.59\"/>\n",
       "<polygon fill=\"black\" stroke=\"black\" points=\"364.58,-18.09 374.68,-14.87 364.78,-11.1 364.58,-18.09\"/>\n",
       "</g>\n",
       "</g>\n",
       "</svg>\n"
      ],
      "text/plain": [
       "<graphviz.graphs.Digraph at 0xffff676b2910>"
      ]
     },
     "execution_count": 9,
     "metadata": {},
     "output_type": "execute_result"
    }
   ],
   "source": [
    "g_consultancy = gr.Digraph(graph_attr={\"rankdir\":\"LR\"})\n",
    "\n",
    "g_consultancy.edge(\"consultancy\", \"profits_next_6m\")\n",
    "g_consultancy.edge(\"profits_prev_6m\", \"consultancy\")\n",
    "g_consultancy.edge(\"profits_prev_6m\", \"profits_next_6m\")\n",
    "\n",
    "g_consultancy"
   ]
  },
  {
   "cell_type": "markdown",
   "metadata": {},
   "source": [
    "## Crash Course in Graphical Models\n",
    " \n",
    " \n",
    "### Chains\n"
   ]
  },
  {
   "cell_type": "code",
   "execution_count": 10,
   "metadata": {
    "ExecuteTime": {
     "end_time": "2023-06-25T15:09:29.656253Z",
     "start_time": "2023-06-25T15:09:29.431670Z"
    },
    "tags": [
     "hide-input"
    ]
   },
   "outputs": [
    {
     "data": {
      "image/svg+xml": [
       "<?xml version=\"1.0\" encoding=\"UTF-8\" standalone=\"no\"?>\n",
       "<!DOCTYPE svg PUBLIC \"-//W3C//DTD SVG 1.1//EN\"\n",
       " \"http://www.w3.org/Graphics/SVG/1.1/DTD/svg11.dtd\">\n",
       "<!-- Generated by graphviz version 2.43.0 (0)\n",
       " -->\n",
       "<!-- Title: %3 Pages: 1 -->\n",
       "<svg width=\"579pt\" height=\"98pt\"\n",
       " viewBox=\"0.00 0.00 579.16 98.00\" xmlns=\"http://www.w3.org/2000/svg\" xmlns:xlink=\"http://www.w3.org/1999/xlink\">\n",
       "<g id=\"graph0\" class=\"graph\" transform=\"scale(1 1) rotate(0) translate(4 94)\">\n",
       "<title>%3</title>\n",
       "<polygon fill=\"white\" stroke=\"transparent\" points=\"-4,4 -4,-94 575.16,-94 575.16,4 -4,4\"/>\n",
       "<!-- T -->\n",
       "<g id=\"node1\" class=\"node\">\n",
       "<title>T</title>\n",
       "<ellipse fill=\"none\" stroke=\"black\" cx=\"92.94\" cy=\"-18\" rx=\"27\" ry=\"18\"/>\n",
       "<text text-anchor=\"middle\" x=\"92.94\" y=\"-14.3\" font-family=\"Times,serif\" font-size=\"14.00\">T</text>\n",
       "</g>\n",
       "<!-- M -->\n",
       "<g id=\"node2\" class=\"node\">\n",
       "<title>M</title>\n",
       "<ellipse fill=\"none\" stroke=\"black\" cx=\"303.13\" cy=\"-18\" rx=\"27\" ry=\"18\"/>\n",
       "<text text-anchor=\"middle\" x=\"303.13\" y=\"-14.3\" font-family=\"Times,serif\" font-size=\"14.00\">M</text>\n",
       "</g>\n",
       "<!-- T&#45;&gt;M -->\n",
       "<g id=\"edge1\" class=\"edge\">\n",
       "<title>T&#45;&gt;M</title>\n",
       "<path fill=\"none\" stroke=\"black\" d=\"M120.31,-18C157.15,-18 224.16,-18 265.73,-18\"/>\n",
       "<polygon fill=\"black\" stroke=\"black\" points=\"265.97,-21.5 275.97,-18 265.97,-14.5 265.97,-21.5\"/>\n",
       "</g>\n",
       "<!-- Y -->\n",
       "<g id=\"node3\" class=\"node\">\n",
       "<title>Y</title>\n",
       "<ellipse fill=\"none\" stroke=\"black\" cx=\"495.76\" cy=\"-18\" rx=\"27\" ry=\"18\"/>\n",
       "<text text-anchor=\"middle\" x=\"495.76\" y=\"-14.3\" font-family=\"Times,serif\" font-size=\"14.00\">Y</text>\n",
       "</g>\n",
       "<!-- M&#45;&gt;Y -->\n",
       "<g id=\"edge2\" class=\"edge\">\n",
       "<title>M&#45;&gt;Y</title>\n",
       "<path fill=\"none\" stroke=\"black\" d=\"M330.23,-18C363.37,-18 420.71,-18 458.19,-18\"/>\n",
       "<polygon fill=\"black\" stroke=\"black\" points=\"458.67,-21.5 468.67,-18 458.67,-14.5 458.67,-21.5\"/>\n",
       "</g>\n",
       "<!-- causal knowledge -->\n",
       "<g id=\"node4\" class=\"node\">\n",
       "<title>causal knowledge</title>\n",
       "<ellipse fill=\"none\" stroke=\"black\" cx=\"92.94\" cy=\"-72\" rx=\"92.88\" ry=\"18\"/>\n",
       "<text text-anchor=\"middle\" x=\"92.94\" y=\"-68.3\" font-family=\"Times,serif\" font-size=\"14.00\">causal knowledge</text>\n",
       "</g>\n",
       "<!-- solve problems -->\n",
       "<g id=\"node5\" class=\"node\">\n",
       "<title>solve problems</title>\n",
       "<ellipse fill=\"none\" stroke=\"black\" cx=\"303.13\" cy=\"-72\" rx=\"81.49\" ry=\"18\"/>\n",
       "<text text-anchor=\"middle\" x=\"303.13\" y=\"-68.3\" font-family=\"Times,serif\" font-size=\"14.00\">solve problems</text>\n",
       "</g>\n",
       "<!-- causal knowledge&#45;&gt;solve problems -->\n",
       "<g id=\"edge3\" class=\"edge\">\n",
       "<title>causal knowledge&#45;&gt;solve problems</title>\n",
       "<path fill=\"none\" stroke=\"black\" d=\"M186.16,-72C194.59,-72 203.13,-72 211.54,-72\"/>\n",
       "<polygon fill=\"black\" stroke=\"black\" points=\"211.73,-75.5 221.73,-72 211.73,-68.5 211.73,-75.5\"/>\n",
       "</g>\n",
       "<!-- job promotion -->\n",
       "<g id=\"node6\" class=\"node\">\n",
       "<title>job promotion</title>\n",
       "<ellipse fill=\"none\" stroke=\"black\" cx=\"495.76\" cy=\"-72\" rx=\"75.29\" ry=\"18\"/>\n",
       "<text text-anchor=\"middle\" x=\"495.76\" y=\"-68.3\" font-family=\"Times,serif\" font-size=\"14.00\">job promotion</text>\n",
       "</g>\n",
       "<!-- solve problems&#45;&gt;job promotion -->\n",
       "<g id=\"edge4\" class=\"edge\">\n",
       "<title>solve problems&#45;&gt;job promotion</title>\n",
       "<path fill=\"none\" stroke=\"black\" d=\"M384.42,-72C392.98,-72 401.7,-72 410.3,-72\"/>\n",
       "<polygon fill=\"black\" stroke=\"black\" points=\"410.33,-75.5 420.33,-72 410.33,-68.5 410.33,-75.5\"/>\n",
       "</g>\n",
       "</g>\n",
       "</svg>\n"
      ],
      "text/plain": [
       "<graphviz.graphs.Digraph at 0xffff676b1c50>"
      ]
     },
     "execution_count": 10,
     "metadata": {},
     "output_type": "execute_result"
    }
   ],
   "source": [
    "g = gr.Digraph(graph_attr={\"rankdir\": \"LR\"})\n",
    "\n",
    "g.edge(\"T\", \"M\")\n",
    "g.edge(\"M\", \"Y\")\n",
    "g.node(\"M\", \"M\")\n",
    "\n",
    "\n",
    "g.edge(\"causal knowledge\", \"solve problems\")\n",
    "g.edge(\"solve problems\", \"job promotion\")\n",
    "\n",
    "g"
   ]
  },
  {
   "cell_type": "code",
   "execution_count": 11,
   "metadata": {
    "ExecuteTime": {
     "end_time": "2023-06-25T15:09:29.870382Z",
     "start_time": "2023-06-25T15:09:29.661788Z"
    },
    "tags": [
     "hide-input"
    ]
   },
   "outputs": [
    {
     "data": {
      "image/svg+xml": [
       "<?xml version=\"1.0\" encoding=\"UTF-8\" standalone=\"no\"?>\n",
       "<!DOCTYPE svg PUBLIC \"-//W3C//DTD SVG 1.1//EN\"\n",
       " \"http://www.w3.org/Graphics/SVG/1.1/DTD/svg11.dtd\">\n",
       "<!-- Generated by graphviz version 2.43.0 (0)\n",
       " -->\n",
       "<!-- Title: %3 Pages: 1 -->\n",
       "<svg width=\"579pt\" height=\"98pt\"\n",
       " viewBox=\"0.00 0.00 579.16 98.00\" xmlns=\"http://www.w3.org/2000/svg\" xmlns:xlink=\"http://www.w3.org/1999/xlink\">\n",
       "<g id=\"graph0\" class=\"graph\" transform=\"scale(1 1) rotate(0) translate(4 94)\">\n",
       "<title>%3</title>\n",
       "<polygon fill=\"white\" stroke=\"transparent\" points=\"-4,4 -4,-94 575.16,-94 575.16,4 -4,4\"/>\n",
       "<!-- T -->\n",
       "<g id=\"node1\" class=\"node\">\n",
       "<title>T</title>\n",
       "<ellipse fill=\"none\" stroke=\"black\" cx=\"92.94\" cy=\"-18\" rx=\"27\" ry=\"18\"/>\n",
       "<text text-anchor=\"middle\" x=\"92.94\" y=\"-14.3\" font-family=\"Times,serif\" font-size=\"14.00\">T</text>\n",
       "</g>\n",
       "<!-- M -->\n",
       "<g id=\"node2\" class=\"node\">\n",
       "<title>M</title>\n",
       "<ellipse fill=\"lightgrey\" stroke=\"lightgrey\" cx=\"303.13\" cy=\"-18\" rx=\"27\" ry=\"18\"/>\n",
       "<text text-anchor=\"middle\" x=\"303.13\" y=\"-14.3\" font-family=\"Times,serif\" font-size=\"14.00\">M</text>\n",
       "</g>\n",
       "<!-- T&#45;&gt;M -->\n",
       "<g id=\"edge1\" class=\"edge\">\n",
       "<title>T&#45;&gt;M</title>\n",
       "<path fill=\"none\" stroke=\"black\" d=\"M120.31,-18C157.15,-18 224.16,-18 265.73,-18\"/>\n",
       "<polygon fill=\"black\" stroke=\"black\" points=\"265.97,-21.5 275.97,-18 265.97,-14.5 265.97,-21.5\"/>\n",
       "</g>\n",
       "<!-- Y -->\n",
       "<g id=\"node3\" class=\"node\">\n",
       "<title>Y</title>\n",
       "<ellipse fill=\"none\" stroke=\"black\" cx=\"495.76\" cy=\"-18\" rx=\"27\" ry=\"18\"/>\n",
       "<text text-anchor=\"middle\" x=\"495.76\" y=\"-14.3\" font-family=\"Times,serif\" font-size=\"14.00\">Y</text>\n",
       "</g>\n",
       "<!-- M&#45;&gt;Y -->\n",
       "<g id=\"edge2\" class=\"edge\">\n",
       "<title>M&#45;&gt;Y</title>\n",
       "<path fill=\"none\" stroke=\"black\" d=\"M330.23,-18C363.37,-18 420.71,-18 458.19,-18\"/>\n",
       "<polygon fill=\"black\" stroke=\"black\" points=\"458.67,-21.5 468.67,-18 458.67,-14.5 458.67,-21.5\"/>\n",
       "</g>\n",
       "<!-- causal knowledge -->\n",
       "<g id=\"node4\" class=\"node\">\n",
       "<title>causal knowledge</title>\n",
       "<ellipse fill=\"none\" stroke=\"black\" cx=\"92.94\" cy=\"-72\" rx=\"92.88\" ry=\"18\"/>\n",
       "<text text-anchor=\"middle\" x=\"92.94\" y=\"-68.3\" font-family=\"Times,serif\" font-size=\"14.00\">causal knowledge</text>\n",
       "</g>\n",
       "<!-- solve problems -->\n",
       "<g id=\"node5\" class=\"node\">\n",
       "<title>solve problems</title>\n",
       "<ellipse fill=\"lightgrey\" stroke=\"lightgrey\" cx=\"303.13\" cy=\"-72\" rx=\"81.49\" ry=\"18\"/>\n",
       "<text text-anchor=\"middle\" x=\"303.13\" y=\"-68.3\" font-family=\"Times,serif\" font-size=\"14.00\">solve problems</text>\n",
       "</g>\n",
       "<!-- causal knowledge&#45;&gt;solve problems -->\n",
       "<g id=\"edge3\" class=\"edge\">\n",
       "<title>causal knowledge&#45;&gt;solve problems</title>\n",
       "<path fill=\"none\" stroke=\"black\" d=\"M186.16,-72C194.59,-72 203.13,-72 211.54,-72\"/>\n",
       "<polygon fill=\"black\" stroke=\"black\" points=\"211.73,-75.5 221.73,-72 211.73,-68.5 211.73,-75.5\"/>\n",
       "</g>\n",
       "<!-- job promotion -->\n",
       "<g id=\"node6\" class=\"node\">\n",
       "<title>job promotion</title>\n",
       "<ellipse fill=\"none\" stroke=\"black\" cx=\"495.76\" cy=\"-72\" rx=\"75.29\" ry=\"18\"/>\n",
       "<text text-anchor=\"middle\" x=\"495.76\" y=\"-68.3\" font-family=\"Times,serif\" font-size=\"14.00\">job promotion</text>\n",
       "</g>\n",
       "<!-- solve problems&#45;&gt;job promotion -->\n",
       "<g id=\"edge4\" class=\"edge\">\n",
       "<title>solve problems&#45;&gt;job promotion</title>\n",
       "<path fill=\"none\" stroke=\"black\" d=\"M384.42,-72C392.98,-72 401.7,-72 410.3,-72\"/>\n",
       "<polygon fill=\"black\" stroke=\"black\" points=\"410.33,-75.5 420.33,-72 410.33,-68.5 410.33,-75.5\"/>\n",
       "</g>\n",
       "</g>\n",
       "</svg>\n"
      ],
      "text/plain": [
       "<graphviz.graphs.Digraph at 0xffff676b44d0>"
      ]
     },
     "execution_count": 11,
     "metadata": {},
     "output_type": "execute_result"
    }
   ],
   "source": [
    "g = gr.Digraph(graph_attr={\"rankdir\": \"LR\"})\n",
    "\n",
    "g.edge(\"T\", \"M\")\n",
    "g.edge(\"M\", \"Y\")\n",
    "g.node(\"M\", \"M\")\n",
    "g.node(\"M\", color=\"lightgrey\", style=\"filled\")\n",
    "\n",
    "\n",
    "g.edge(\"causal knowledge\", \"solve problems\")\n",
    "g.edge(\"solve problems\", \"job promotion\")\n",
    "g.node(\"solve problems\", color=\"lightgrey\", style=\"filled\")\n",
    "\n",
    "g"
   ]
  },
  {
   "cell_type": "markdown",
   "metadata": {},
   "source": [
    "\n",
    "### Forks\n",
    " \n"
   ]
  },
  {
   "cell_type": "code",
   "execution_count": 12,
   "metadata": {
    "ExecuteTime": {
     "end_time": "2023-06-25T15:09:30.108147Z",
     "start_time": "2023-06-25T15:09:29.872267Z"
    },
    "tags": [
     "hide-input"
    ]
   },
   "outputs": [
    {
     "data": {
      "image/svg+xml": [
       "<?xml version=\"1.0\" encoding=\"UTF-8\" standalone=\"no\"?>\n",
       "<!DOCTYPE svg PUBLIC \"-//W3C//DTD SVG 1.1//EN\"\n",
       " \"http://www.w3.org/Graphics/SVG/1.1/DTD/svg11.dtd\">\n",
       "<!-- Generated by graphviz version 2.43.0 (0)\n",
       " -->\n",
       "<!-- Title: %3 Pages: 1 -->\n",
       "<svg width=\"524pt\" height=\"116pt\"\n",
       " viewBox=\"0.00 0.00 523.99 116.00\" xmlns=\"http://www.w3.org/2000/svg\" xmlns:xlink=\"http://www.w3.org/1999/xlink\">\n",
       "<g id=\"graph0\" class=\"graph\" transform=\"scale(1 1) rotate(0) translate(4 112)\">\n",
       "<title>%3</title>\n",
       "<polygon fill=\"white\" stroke=\"transparent\" points=\"-4,4 -4,-112 519.99,-112 519.99,4 -4,4\"/>\n",
       "<!-- X -->\n",
       "<g id=\"node1\" class=\"node\">\n",
       "<title>X</title>\n",
       "<ellipse fill=\"none\" stroke=\"black\" cx=\"63\" cy=\"-90\" rx=\"27\" ry=\"18\"/>\n",
       "<text text-anchor=\"middle\" x=\"63\" y=\"-86.3\" font-family=\"Times,serif\" font-size=\"14.00\">X</text>\n",
       "</g>\n",
       "<!-- Y -->\n",
       "<g id=\"node2\" class=\"node\">\n",
       "<title>Y</title>\n",
       "<ellipse fill=\"none\" stroke=\"black\" cx=\"27\" cy=\"-18\" rx=\"27\" ry=\"18\"/>\n",
       "<text text-anchor=\"middle\" x=\"27\" y=\"-14.3\" font-family=\"Times,serif\" font-size=\"14.00\">Y</text>\n",
       "</g>\n",
       "<!-- X&#45;&gt;Y -->\n",
       "<g id=\"edge1\" class=\"edge\">\n",
       "<title>X&#45;&gt;Y</title>\n",
       "<path fill=\"none\" stroke=\"black\" d=\"M54.65,-72.76C50.29,-64.28 44.85,-53.71 39.96,-44.2\"/>\n",
       "<polygon fill=\"black\" stroke=\"black\" points=\"42.99,-42.44 35.3,-35.15 36.77,-45.64 42.99,-42.44\"/>\n",
       "</g>\n",
       "<!-- T -->\n",
       "<g id=\"node3\" class=\"node\">\n",
       "<title>T</title>\n",
       "<ellipse fill=\"none\" stroke=\"black\" cx=\"99\" cy=\"-18\" rx=\"27\" ry=\"18\"/>\n",
       "<text text-anchor=\"middle\" x=\"99\" y=\"-14.3\" font-family=\"Times,serif\" font-size=\"14.00\">T</text>\n",
       "</g>\n",
       "<!-- X&#45;&gt;T -->\n",
       "<g id=\"edge2\" class=\"edge\">\n",
       "<title>X&#45;&gt;T</title>\n",
       "<path fill=\"none\" stroke=\"black\" d=\"M71.35,-72.76C75.71,-64.28 81.15,-53.71 86.04,-44.2\"/>\n",
       "<polygon fill=\"black\" stroke=\"black\" points=\"89.23,-45.64 90.7,-35.15 83.01,-42.44 89.23,-45.64\"/>\n",
       "</g>\n",
       "<!-- statistics -->\n",
       "<g id=\"node4\" class=\"node\">\n",
       "<title>statistics</title>\n",
       "<ellipse fill=\"none\" stroke=\"black\" cx=\"327\" cy=\"-90\" rx=\"53.09\" ry=\"18\"/>\n",
       "<text text-anchor=\"middle\" x=\"327\" y=\"-86.3\" font-family=\"Times,serif\" font-size=\"14.00\">statistics</text>\n",
       "</g>\n",
       "<!-- causal inference -->\n",
       "<g id=\"node5\" class=\"node\">\n",
       "<title>causal inference</title>\n",
       "<ellipse fill=\"none\" stroke=\"black\" cx=\"230\" cy=\"-18\" rx=\"86.38\" ry=\"18\"/>\n",
       "<text text-anchor=\"middle\" x=\"230\" y=\"-14.3\" font-family=\"Times,serif\" font-size=\"14.00\">causal inference</text>\n",
       "</g>\n",
       "<!-- statistics&#45;&gt;causal inference -->\n",
       "<g id=\"edge3\" class=\"edge\">\n",
       "<title>statistics&#45;&gt;causal inference</title>\n",
       "<path fill=\"none\" stroke=\"black\" d=\"M305.47,-73.46C292.41,-64.04 275.52,-51.85 261.03,-41.39\"/>\n",
       "<polygon fill=\"black\" stroke=\"black\" points=\"262.98,-38.48 252.82,-35.47 258.88,-44.16 262.98,-38.48\"/>\n",
       "</g>\n",
       "<!-- machine learning -->\n",
       "<g id=\"node6\" class=\"node\">\n",
       "<title>machine learning</title>\n",
       "<ellipse fill=\"none\" stroke=\"black\" cx=\"425\" cy=\"-18\" rx=\"90.98\" ry=\"18\"/>\n",
       "<text text-anchor=\"middle\" x=\"425\" y=\"-14.3\" font-family=\"Times,serif\" font-size=\"14.00\">machine learning</text>\n",
       "</g>\n",
       "<!-- statistics&#45;&gt;machine learning -->\n",
       "<g id=\"edge4\" class=\"edge\">\n",
       "<title>statistics&#45;&gt;machine learning</title>\n",
       "<path fill=\"none\" stroke=\"black\" d=\"M348.75,-73.46C361.95,-64.04 379.01,-51.85 393.65,-41.39\"/>\n",
       "<polygon fill=\"black\" stroke=\"black\" points=\"395.84,-44.13 401.95,-35.47 391.77,-38.43 395.84,-44.13\"/>\n",
       "</g>\n",
       "</g>\n",
       "</svg>\n"
      ],
      "text/plain": [
       "<graphviz.graphs.Digraph at 0xffff676b3950>"
      ]
     },
     "execution_count": 12,
     "metadata": {},
     "output_type": "execute_result"
    }
   ],
   "source": [
    "g = gr.Digraph()\n",
    "\n",
    "\n",
    "g.edge(\"X\", \"Y\")\n",
    "g.edge(\"X\", \"T\")\n",
    "g.node(\"X\", \"X\")\n",
    "\n",
    "g.edge(\"statistics\", \"causal inference\")\n",
    "g.edge(\"statistics\", \"machine learning\")\n",
    "\n",
    "g"
   ]
  },
  {
   "cell_type": "code",
   "execution_count": 13,
   "metadata": {
    "ExecuteTime": {
     "end_time": "2023-06-25T15:09:30.323535Z",
     "start_time": "2023-06-25T15:09:30.110294Z"
    },
    "tags": [
     "hide-input"
    ]
   },
   "outputs": [
    {
     "data": {
      "image/svg+xml": [
       "<?xml version=\"1.0\" encoding=\"UTF-8\" standalone=\"no\"?>\n",
       "<!DOCTYPE svg PUBLIC \"-//W3C//DTD SVG 1.1//EN\"\n",
       " \"http://www.w3.org/Graphics/SVG/1.1/DTD/svg11.dtd\">\n",
       "<!-- Generated by graphviz version 2.43.0 (0)\n",
       " -->\n",
       "<!-- Title: %3 Pages: 1 -->\n",
       "<svg width=\"428pt\" height=\"116pt\"\n",
       " viewBox=\"0.00 0.00 427.83 116.00\" xmlns=\"http://www.w3.org/2000/svg\" xmlns:xlink=\"http://www.w3.org/1999/xlink\">\n",
       "<g id=\"graph0\" class=\"graph\" transform=\"scale(1 1) rotate(0) translate(4 112)\">\n",
       "<title>%3</title>\n",
       "<polygon fill=\"white\" stroke=\"transparent\" points=\"-4,4 -4,-112 423.83,-112 423.83,4 -4,4\"/>\n",
       "<!-- good programmer -->\n",
       "<g id=\"node1\" class=\"node\">\n",
       "<title>good programmer</title>\n",
       "<ellipse fill=\"none\" stroke=\"black\" cx=\"229.24\" cy=\"-90\" rx=\"94.78\" ry=\"18\"/>\n",
       "<text text-anchor=\"middle\" x=\"229.24\" y=\"-86.3\" font-family=\"Times,serif\" font-size=\"14.00\">good programmer</text>\n",
       "</g>\n",
       "<!-- can invert a binary tree -->\n",
       "<g id=\"node2\" class=\"node\">\n",
       "<title>can invert a binary tree</title>\n",
       "<ellipse fill=\"none\" stroke=\"black\" cx=\"120.24\" cy=\"-18\" rx=\"120.48\" ry=\"18\"/>\n",
       "<text text-anchor=\"middle\" x=\"120.24\" y=\"-14.3\" font-family=\"Times,serif\" font-size=\"14.00\">can invert a binary tree</text>\n",
       "</g>\n",
       "<!-- good programmer&#45;&gt;can invert a binary tree -->\n",
       "<g id=\"edge1\" class=\"edge\">\n",
       "<title>good programmer&#45;&gt;can invert a binary tree</title>\n",
       "<path fill=\"none\" stroke=\"black\" d=\"M203.68,-72.59C189.14,-63.25 170.71,-51.41 154.88,-41.25\"/>\n",
       "<polygon fill=\"black\" stroke=\"black\" points=\"156.7,-38.25 146.39,-35.8 152.91,-44.14 156.7,-38.25\"/>\n",
       "</g>\n",
       "<!-- good employee -->\n",
       "<g id=\"node3\" class=\"node\">\n",
       "<title>good employee</title>\n",
       "<ellipse fill=\"none\" stroke=\"black\" cx=\"339.24\" cy=\"-18\" rx=\"80.69\" ry=\"18\"/>\n",
       "<text text-anchor=\"middle\" x=\"339.24\" y=\"-14.3\" font-family=\"Times,serif\" font-size=\"14.00\">good employee</text>\n",
       "</g>\n",
       "<!-- good programmer&#45;&gt;good employee -->\n",
       "<g id=\"edge2\" class=\"edge\">\n",
       "<title>good programmer&#45;&gt;good employee</title>\n",
       "<path fill=\"none\" stroke=\"black\" d=\"M255.03,-72.59C269.92,-63.11 288.85,-51.07 304.98,-40.8\"/>\n",
       "<polygon fill=\"black\" stroke=\"black\" points=\"307.05,-43.63 313.61,-35.31 303.3,-37.73 307.05,-43.63\"/>\n",
       "</g>\n",
       "</g>\n",
       "</svg>\n"
      ],
      "text/plain": [
       "<graphviz.graphs.Digraph at 0xffff676b5b90>"
      ]
     },
     "execution_count": 13,
     "metadata": {},
     "output_type": "execute_result"
    }
   ],
   "source": [
    "g = gr.Digraph()\n",
    "\n",
    "g.edge(\"good programmer\", \"can invert a binary tree\")\n",
    "g.edge(\"good programmer\", \"good employee\")\n",
    "\n",
    "g"
   ]
  },
  {
   "cell_type": "markdown",
   "metadata": {},
   "source": [
    "\n",
    " \n",
    "### Immorality or Collider \n"
   ]
  },
  {
   "cell_type": "code",
   "execution_count": 14,
   "metadata": {
    "ExecuteTime": {
     "end_time": "2023-06-25T15:09:30.517990Z",
     "start_time": "2023-06-25T15:09:30.326021Z"
    },
    "tags": [
     "hide-input"
    ]
   },
   "outputs": [
    {
     "data": {
      "image/svg+xml": [
       "<?xml version=\"1.0\" encoding=\"UTF-8\" standalone=\"no\"?>\n",
       "<!DOCTYPE svg PUBLIC \"-//W3C//DTD SVG 1.1//EN\"\n",
       " \"http://www.w3.org/Graphics/SVG/1.1/DTD/svg11.dtd\">\n",
       "<!-- Generated by graphviz version 2.43.0 (0)\n",
       " -->\n",
       "<!-- Title: %3 Pages: 1 -->\n",
       "<svg width=\"367pt\" height=\"116pt\"\n",
       " viewBox=\"0.00 0.00 366.65 116.00\" xmlns=\"http://www.w3.org/2000/svg\" xmlns:xlink=\"http://www.w3.org/1999/xlink\">\n",
       "<g id=\"graph0\" class=\"graph\" transform=\"scale(1 1) rotate(0) translate(4 112)\">\n",
       "<title>%3</title>\n",
       "<polygon fill=\"white\" stroke=\"transparent\" points=\"-4,4 -4,-112 362.65,-112 362.65,4 -4,4\"/>\n",
       "<!-- Y -->\n",
       "<g id=\"node1\" class=\"node\">\n",
       "<title>Y</title>\n",
       "<ellipse fill=\"none\" stroke=\"black\" cx=\"27\" cy=\"-90\" rx=\"27\" ry=\"18\"/>\n",
       "<text text-anchor=\"middle\" x=\"27\" y=\"-86.3\" font-family=\"Times,serif\" font-size=\"14.00\">Y</text>\n",
       "</g>\n",
       "<!-- X -->\n",
       "<g id=\"node2\" class=\"node\">\n",
       "<title>X</title>\n",
       "<ellipse fill=\"none\" stroke=\"black\" cx=\"78\" cy=\"-18\" rx=\"27\" ry=\"18\"/>\n",
       "<text text-anchor=\"middle\" x=\"78\" y=\"-14.3\" font-family=\"Times,serif\" font-size=\"14.00\">X</text>\n",
       "</g>\n",
       "<!-- Y&#45;&gt;X -->\n",
       "<g id=\"edge1\" class=\"edge\">\n",
       "<title>Y&#45;&gt;X</title>\n",
       "<path fill=\"none\" stroke=\"black\" d=\"M38.32,-73.46C44.92,-64.4 53.38,-52.79 60.8,-42.61\"/>\n",
       "<polygon fill=\"black\" stroke=\"black\" points=\"63.65,-44.64 66.71,-34.49 58,-40.51 63.65,-44.64\"/>\n",
       "</g>\n",
       "<!-- T -->\n",
       "<g id=\"node3\" class=\"node\">\n",
       "<title>T</title>\n",
       "<ellipse fill=\"none\" stroke=\"black\" cx=\"99\" cy=\"-90\" rx=\"27\" ry=\"18\"/>\n",
       "<text text-anchor=\"middle\" x=\"99\" y=\"-86.3\" font-family=\"Times,serif\" font-size=\"14.00\">T</text>\n",
       "</g>\n",
       "<!-- T&#45;&gt;X -->\n",
       "<g id=\"edge2\" class=\"edge\">\n",
       "<title>T&#45;&gt;X</title>\n",
       "<path fill=\"none\" stroke=\"black\" d=\"M93.92,-72.05C91.52,-64.06 88.6,-54.33 85.92,-45.4\"/>\n",
       "<polygon fill=\"black\" stroke=\"black\" points=\"89.26,-44.36 83.04,-35.79 82.56,-46.37 89.26,-44.36\"/>\n",
       "</g>\n",
       "<!-- statistics -->\n",
       "<g id=\"node4\" class=\"node\">\n",
       "<title>statistics</title>\n",
       "<ellipse fill=\"none\" stroke=\"black\" cx=\"208\" cy=\"-90\" rx=\"53.09\" ry=\"18\"/>\n",
       "<text text-anchor=\"middle\" x=\"208\" y=\"-86.3\" font-family=\"Times,serif\" font-size=\"14.00\">statistics</text>\n",
       "</g>\n",
       "<!-- job promotion -->\n",
       "<g id=\"node5\" class=\"node\">\n",
       "<title>job promotion</title>\n",
       "<ellipse fill=\"none\" stroke=\"black\" cx=\"228\" cy=\"-18\" rx=\"75.29\" ry=\"18\"/>\n",
       "<text text-anchor=\"middle\" x=\"228\" y=\"-14.3\" font-family=\"Times,serif\" font-size=\"14.00\">job promotion</text>\n",
       "</g>\n",
       "<!-- statistics&#45;&gt;job promotion -->\n",
       "<g id=\"edge3\" class=\"edge\">\n",
       "<title>statistics&#45;&gt;job promotion</title>\n",
       "<path fill=\"none\" stroke=\"black\" d=\"M212.84,-72.05C215.07,-64.26 217.77,-54.82 220.26,-46.08\"/>\n",
       "<polygon fill=\"black\" stroke=\"black\" points=\"223.68,-46.85 223.06,-36.28 216.95,-44.93 223.68,-46.85\"/>\n",
       "</g>\n",
       "<!-- flatter -->\n",
       "<g id=\"node6\" class=\"node\">\n",
       "<title>flatter</title>\n",
       "<ellipse fill=\"none\" stroke=\"black\" cx=\"319\" cy=\"-90\" rx=\"39.79\" ry=\"18\"/>\n",
       "<text text-anchor=\"middle\" x=\"319\" y=\"-86.3\" font-family=\"Times,serif\" font-size=\"14.00\">flatter</text>\n",
       "</g>\n",
       "<!-- flatter&#45;&gt;job promotion -->\n",
       "<g id=\"edge4\" class=\"edge\">\n",
       "<title>flatter&#45;&gt;job promotion</title>\n",
       "<path fill=\"none\" stroke=\"black\" d=\"M299.7,-74.15C287.43,-64.72 271.3,-52.31 257.45,-41.66\"/>\n",
       "<polygon fill=\"black\" stroke=\"black\" points=\"259.24,-38.61 249.18,-35.29 254.97,-44.16 259.24,-38.61\"/>\n",
       "</g>\n",
       "</g>\n",
       "</svg>\n"
      ],
      "text/plain": [
       "<graphviz.graphs.Digraph at 0xffff676b6690>"
      ]
     },
     "execution_count": 14,
     "metadata": {},
     "output_type": "execute_result"
    }
   ],
   "source": [
    "g = gr.Digraph()\n",
    "\n",
    "g.edge(\"Y\", \"X\")\n",
    "g.edge(\"T\", \"X\")\n",
    "\n",
    "g.edge(\"statistics\", \"job promotion\")\n",
    "g.edge(\"flatter\", \"job promotion\")\n",
    "\n",
    "g"
   ]
  },
  {
   "cell_type": "code",
   "execution_count": 15,
   "metadata": {
    "ExecuteTime": {
     "end_time": "2023-06-25T15:09:30.744680Z",
     "start_time": "2023-06-25T15:09:30.519766Z"
    },
    "scrolled": true,
    "tags": [
     "hide-input"
    ]
   },
   "outputs": [
    {
     "data": {
      "image/svg+xml": [
       "<?xml version=\"1.0\" encoding=\"UTF-8\" standalone=\"no\"?>\n",
       "<!DOCTYPE svg PUBLIC \"-//W3C//DTD SVG 1.1//EN\"\n",
       " \"http://www.w3.org/Graphics/SVG/1.1/DTD/svg11.dtd\">\n",
       "<!-- Generated by graphviz version 2.43.0 (0)\n",
       " -->\n",
       "<!-- Title: %3 Pages: 1 -->\n",
       "<svg width=\"367pt\" height=\"188pt\"\n",
       " viewBox=\"0.00 0.00 366.65 188.00\" xmlns=\"http://www.w3.org/2000/svg\" xmlns:xlink=\"http://www.w3.org/1999/xlink\">\n",
       "<g id=\"graph0\" class=\"graph\" transform=\"scale(1 1) rotate(0) translate(4 184)\">\n",
       "<title>%3</title>\n",
       "<polygon fill=\"white\" stroke=\"transparent\" points=\"-4,4 -4,-184 362.65,-184 362.65,4 -4,4\"/>\n",
       "<!-- Y -->\n",
       "<g id=\"node1\" class=\"node\">\n",
       "<title>Y</title>\n",
       "<ellipse fill=\"none\" stroke=\"black\" cx=\"27\" cy=\"-162\" rx=\"27\" ry=\"18\"/>\n",
       "<text text-anchor=\"middle\" x=\"27\" y=\"-158.3\" font-family=\"Times,serif\" font-size=\"14.00\">Y</text>\n",
       "</g>\n",
       "<!-- X1 -->\n",
       "<g id=\"node2\" class=\"node\">\n",
       "<title>X1</title>\n",
       "<ellipse fill=\"none\" stroke=\"black\" cx=\"78\" cy=\"-90\" rx=\"27\" ry=\"18\"/>\n",
       "<text text-anchor=\"middle\" x=\"78\" y=\"-86.3\" font-family=\"Times,serif\" font-size=\"14.00\">X1</text>\n",
       "</g>\n",
       "<!-- Y&#45;&gt;X1 -->\n",
       "<g id=\"edge1\" class=\"edge\">\n",
       "<title>Y&#45;&gt;X1</title>\n",
       "<path fill=\"none\" stroke=\"black\" d=\"M38.32,-145.46C44.92,-136.4 53.38,-124.79 60.8,-114.61\"/>\n",
       "<polygon fill=\"black\" stroke=\"black\" points=\"63.65,-116.64 66.71,-106.49 58,-112.51 63.65,-116.64\"/>\n",
       "</g>\n",
       "<!-- X2 -->\n",
       "<g id=\"node4\" class=\"node\">\n",
       "<title>X2</title>\n",
       "<ellipse fill=\"lightgrey\" stroke=\"lightgrey\" cx=\"78\" cy=\"-18\" rx=\"27\" ry=\"18\"/>\n",
       "<text text-anchor=\"middle\" x=\"78\" y=\"-14.3\" font-family=\"Times,serif\" font-size=\"14.00\">X2</text>\n",
       "</g>\n",
       "<!-- X1&#45;&gt;X2 -->\n",
       "<g id=\"edge3\" class=\"edge\">\n",
       "<title>X1&#45;&gt;X2</title>\n",
       "<path fill=\"none\" stroke=\"black\" d=\"M78,-71.7C78,-63.98 78,-54.71 78,-46.11\"/>\n",
       "<polygon fill=\"black\" stroke=\"black\" points=\"81.5,-46.1 78,-36.1 74.5,-46.1 81.5,-46.1\"/>\n",
       "</g>\n",
       "<!-- T -->\n",
       "<g id=\"node3\" class=\"node\">\n",
       "<title>T</title>\n",
       "<ellipse fill=\"none\" stroke=\"black\" cx=\"99\" cy=\"-162\" rx=\"27\" ry=\"18\"/>\n",
       "<text text-anchor=\"middle\" x=\"99\" y=\"-158.3\" font-family=\"Times,serif\" font-size=\"14.00\">T</text>\n",
       "</g>\n",
       "<!-- T&#45;&gt;X1 -->\n",
       "<g id=\"edge2\" class=\"edge\">\n",
       "<title>T&#45;&gt;X1</title>\n",
       "<path fill=\"none\" stroke=\"black\" d=\"M93.92,-144.05C91.52,-136.06 88.6,-126.33 85.92,-117.4\"/>\n",
       "<polygon fill=\"black\" stroke=\"black\" points=\"89.26,-116.36 83.04,-107.79 82.56,-118.37 89.26,-116.36\"/>\n",
       "</g>\n",
       "<!-- statistics -->\n",
       "<g id=\"node5\" class=\"node\">\n",
       "<title>statistics</title>\n",
       "<ellipse fill=\"none\" stroke=\"black\" cx=\"208\" cy=\"-162\" rx=\"53.09\" ry=\"18\"/>\n",
       "<text text-anchor=\"middle\" x=\"208\" y=\"-158.3\" font-family=\"Times,serif\" font-size=\"14.00\">statistics</text>\n",
       "</g>\n",
       "<!-- job promotion -->\n",
       "<g id=\"node6\" class=\"node\">\n",
       "<title>job promotion</title>\n",
       "<ellipse fill=\"none\" stroke=\"black\" cx=\"228\" cy=\"-90\" rx=\"75.29\" ry=\"18\"/>\n",
       "<text text-anchor=\"middle\" x=\"228\" y=\"-86.3\" font-family=\"Times,serif\" font-size=\"14.00\">job promotion</text>\n",
       "</g>\n",
       "<!-- statistics&#45;&gt;job promotion -->\n",
       "<g id=\"edge4\" class=\"edge\">\n",
       "<title>statistics&#45;&gt;job promotion</title>\n",
       "<path fill=\"none\" stroke=\"black\" d=\"M212.84,-144.05C215.07,-136.26 217.77,-126.82 220.26,-118.08\"/>\n",
       "<polygon fill=\"black\" stroke=\"black\" points=\"223.68,-118.85 223.06,-108.28 216.95,-116.93 223.68,-118.85\"/>\n",
       "</g>\n",
       "<!-- high salary -->\n",
       "<g id=\"node8\" class=\"node\">\n",
       "<title>high salary</title>\n",
       "<ellipse fill=\"lightgrey\" stroke=\"lightgrey\" cx=\"228\" cy=\"-18\" rx=\"62.29\" ry=\"18\"/>\n",
       "<text text-anchor=\"middle\" x=\"228\" y=\"-14.3\" font-family=\"Times,serif\" font-size=\"14.00\">high salary</text>\n",
       "</g>\n",
       "<!-- job promotion&#45;&gt;high salary -->\n",
       "<g id=\"edge6\" class=\"edge\">\n",
       "<title>job promotion&#45;&gt;high salary</title>\n",
       "<path fill=\"none\" stroke=\"black\" d=\"M228,-71.7C228,-63.98 228,-54.71 228,-46.11\"/>\n",
       "<polygon fill=\"black\" stroke=\"black\" points=\"231.5,-46.1 228,-36.1 224.5,-46.1 231.5,-46.1\"/>\n",
       "</g>\n",
       "<!-- flatter -->\n",
       "<g id=\"node7\" class=\"node\">\n",
       "<title>flatter</title>\n",
       "<ellipse fill=\"none\" stroke=\"black\" cx=\"319\" cy=\"-162\" rx=\"39.79\" ry=\"18\"/>\n",
       "<text text-anchor=\"middle\" x=\"319\" y=\"-158.3\" font-family=\"Times,serif\" font-size=\"14.00\">flatter</text>\n",
       "</g>\n",
       "<!-- flatter&#45;&gt;job promotion -->\n",
       "<g id=\"edge5\" class=\"edge\">\n",
       "<title>flatter&#45;&gt;job promotion</title>\n",
       "<path fill=\"none\" stroke=\"black\" d=\"M299.7,-146.15C287.43,-136.72 271.3,-124.31 257.45,-113.66\"/>\n",
       "<polygon fill=\"black\" stroke=\"black\" points=\"259.24,-110.61 249.18,-107.29 254.97,-116.16 259.24,-110.61\"/>\n",
       "</g>\n",
       "</g>\n",
       "</svg>\n"
      ],
      "text/plain": [
       "<graphviz.graphs.Digraph at 0xffff676b6b90>"
      ]
     },
     "execution_count": 15,
     "metadata": {},
     "output_type": "execute_result"
    }
   ],
   "source": [
    "g = gr.Digraph()\n",
    "\n",
    "g.edge(\"Y\", \"X1\")\n",
    "g.edge(\"T\", \"X1\")\n",
    "g.edge(\"X1\", \"X2\")\n",
    "g.node(\"X2\", color=\"lightgrey\", style=\"filled\")\n",
    "\n",
    "g.edge(\"statistics\", \"job promotion\")\n",
    "g.edge(\"flatter\", \"job promotion\")\n",
    "g.edge(\"job promotion\", \"high salary\")\n",
    "\n",
    "g.node(\"high salary\", color=\"lightgrey\", style=\"filled\")\n",
    "\n",
    "g"
   ]
  },
  {
   "cell_type": "markdown",
   "metadata": {},
   "source": [
    "### The Flow of Association Cheat Sheet\n"
   ]
  },
  {
   "cell_type": "markdown",
   "metadata": {},
   "source": [
    "### Querying a Graph in Python\n"
   ]
  },
  {
   "cell_type": "code",
   "execution_count": 16,
   "metadata": {
    "ExecuteTime": {
     "end_time": "2023-06-25T15:09:30.952339Z",
     "start_time": "2023-06-25T15:09:30.746564Z"
    },
    "tags": [
     "hide-input"
    ]
   },
   "outputs": [
    {
     "data": {
      "image/svg+xml": [
       "<?xml version=\"1.0\" encoding=\"UTF-8\" standalone=\"no\"?>\n",
       "<!DOCTYPE svg PUBLIC \"-//W3C//DTD SVG 1.1//EN\"\n",
       " \"http://www.w3.org/Graphics/SVG/1.1/DTD/svg11.dtd\">\n",
       "<!-- Generated by graphviz version 2.43.0 (0)\n",
       " -->\n",
       "<!-- Title: %3 Pages: 1 -->\n",
       "<svg width=\"242pt\" height=\"152pt\"\n",
       " viewBox=\"0.00 0.00 242.00 152.00\" xmlns=\"http://www.w3.org/2000/svg\" xmlns:xlink=\"http://www.w3.org/1999/xlink\">\n",
       "<g id=\"graph0\" class=\"graph\" transform=\"scale(1 1) rotate(0) translate(4 148)\">\n",
       "<title>%3</title>\n",
       "<polygon fill=\"white\" stroke=\"transparent\" points=\"-4,4 -4,-148 238,-148 238,4 -4,4\"/>\n",
       "<!-- C -->\n",
       "<g id=\"node1\" class=\"node\">\n",
       "<title>C</title>\n",
       "<ellipse fill=\"none\" stroke=\"black\" cx=\"27\" cy=\"-72\" rx=\"27\" ry=\"18\"/>\n",
       "<text text-anchor=\"middle\" x=\"27\" y=\"-68.3\" font-family=\"Times,serif\" font-size=\"14.00\">C</text>\n",
       "</g>\n",
       "<!-- A -->\n",
       "<g id=\"node2\" class=\"node\">\n",
       "<title>A</title>\n",
       "<ellipse fill=\"none\" stroke=\"black\" cx=\"117\" cy=\"-126\" rx=\"27\" ry=\"18\"/>\n",
       "<text text-anchor=\"middle\" x=\"117\" y=\"-122.3\" font-family=\"Times,serif\" font-size=\"14.00\">A</text>\n",
       "</g>\n",
       "<!-- C&#45;&gt;A -->\n",
       "<g id=\"edge1\" class=\"edge\">\n",
       "<title>C&#45;&gt;A</title>\n",
       "<path fill=\"none\" stroke=\"black\" d=\"M47.53,-83.98C59.38,-91.26 74.7,-100.66 87.84,-108.72\"/>\n",
       "<polygon fill=\"black\" stroke=\"black\" points=\"86.17,-111.8 96.52,-114.05 89.83,-105.84 86.17,-111.8\"/>\n",
       "</g>\n",
       "<!-- B -->\n",
       "<g id=\"node3\" class=\"node\">\n",
       "<title>B</title>\n",
       "<ellipse fill=\"none\" stroke=\"black\" cx=\"117\" cy=\"-72\" rx=\"27\" ry=\"18\"/>\n",
       "<text text-anchor=\"middle\" x=\"117\" y=\"-68.3\" font-family=\"Times,serif\" font-size=\"14.00\">B</text>\n",
       "</g>\n",
       "<!-- C&#45;&gt;B -->\n",
       "<g id=\"edge2\" class=\"edge\">\n",
       "<title>C&#45;&gt;B</title>\n",
       "<path fill=\"none\" stroke=\"black\" d=\"M54.4,-72C62.39,-72 71.31,-72 79.82,-72\"/>\n",
       "<polygon fill=\"black\" stroke=\"black\" points=\"79.92,-75.5 89.92,-72 79.92,-68.5 79.92,-75.5\"/>\n",
       "</g>\n",
       "<!-- G -->\n",
       "<g id=\"node7\" class=\"node\">\n",
       "<title>G</title>\n",
       "<ellipse fill=\"none\" stroke=\"black\" cx=\"207\" cy=\"-126\" rx=\"27\" ry=\"18\"/>\n",
       "<text text-anchor=\"middle\" x=\"207\" y=\"-122.3\" font-family=\"Times,serif\" font-size=\"14.00\">G</text>\n",
       "</g>\n",
       "<!-- A&#45;&gt;G -->\n",
       "<g id=\"edge6\" class=\"edge\">\n",
       "<title>A&#45;&gt;G</title>\n",
       "<path fill=\"none\" stroke=\"black\" d=\"M144.4,-126C152.39,-126 161.31,-126 169.82,-126\"/>\n",
       "<polygon fill=\"black\" stroke=\"black\" points=\"169.92,-129.5 179.92,-126 169.92,-122.5 169.92,-129.5\"/>\n",
       "</g>\n",
       "<!-- E -->\n",
       "<g id=\"node5\" class=\"node\">\n",
       "<title>E</title>\n",
       "<ellipse fill=\"none\" stroke=\"black\" cx=\"207\" cy=\"-45\" rx=\"27\" ry=\"18\"/>\n",
       "<text text-anchor=\"middle\" x=\"207\" y=\"-41.3\" font-family=\"Times,serif\" font-size=\"14.00\">E</text>\n",
       "</g>\n",
       "<!-- B&#45;&gt;E -->\n",
       "<g id=\"edge4\" class=\"edge\">\n",
       "<title>B&#45;&gt;E</title>\n",
       "<path fill=\"none\" stroke=\"black\" d=\"M142.05,-64.62C151.44,-61.74 162.36,-58.39 172.5,-55.28\"/>\n",
       "<polygon fill=\"black\" stroke=\"black\" points=\"173.75,-58.55 182.29,-52.28 171.7,-51.86 173.75,-58.55\"/>\n",
       "</g>\n",
       "<!-- D -->\n",
       "<g id=\"node4\" class=\"node\">\n",
       "<title>D</title>\n",
       "<ellipse fill=\"none\" stroke=\"black\" cx=\"27\" cy=\"-126\" rx=\"27\" ry=\"18\"/>\n",
       "<text text-anchor=\"middle\" x=\"27\" y=\"-122.3\" font-family=\"Times,serif\" font-size=\"14.00\">D</text>\n",
       "</g>\n",
       "<!-- D&#45;&gt;A -->\n",
       "<g id=\"edge3\" class=\"edge\">\n",
       "<title>D&#45;&gt;A</title>\n",
       "<path fill=\"none\" stroke=\"black\" d=\"M54.4,-126C62.39,-126 71.31,-126 79.82,-126\"/>\n",
       "<polygon fill=\"black\" stroke=\"black\" points=\"79.92,-129.5 89.92,-126 79.92,-122.5 79.92,-129.5\"/>\n",
       "</g>\n",
       "<!-- F -->\n",
       "<g id=\"node6\" class=\"node\">\n",
       "<title>F</title>\n",
       "<ellipse fill=\"none\" stroke=\"black\" cx=\"117\" cy=\"-18\" rx=\"27\" ry=\"18\"/>\n",
       "<text text-anchor=\"middle\" x=\"117\" y=\"-14.3\" font-family=\"Times,serif\" font-size=\"14.00\">F</text>\n",
       "</g>\n",
       "<!-- F&#45;&gt;E -->\n",
       "<g id=\"edge5\" class=\"edge\">\n",
       "<title>F&#45;&gt;E</title>\n",
       "<path fill=\"none\" stroke=\"black\" d=\"M142.05,-25.38C151.44,-28.26 162.36,-31.61 172.5,-34.72\"/>\n",
       "<polygon fill=\"black\" stroke=\"black\" points=\"171.7,-38.14 182.29,-37.72 173.75,-31.45 171.7,-38.14\"/>\n",
       "</g>\n",
       "</g>\n",
       "</svg>\n"
      ],
      "text/plain": [
       "<graphviz.graphs.Digraph at 0xffff676b7090>"
      ]
     },
     "execution_count": 16,
     "metadata": {},
     "output_type": "execute_result"
    }
   ],
   "source": [
    "g = gr.Digraph(graph_attr={\"rankdir\": \"LR\"})\n",
    "g.edge(\"C\", \"A\")\n",
    "g.edge(\"C\", \"B\")\n",
    "g.edge(\"D\", \"A\")\n",
    "g.edge(\"B\", \"E\")\n",
    "g.edge(\"F\", \"E\")\n",
    "g.edge(\"A\", \"G\")\n",
    "\n",
    "g"
   ]
  },
  {
   "cell_type": "code",
   "execution_count": 17,
   "metadata": {
    "ExecuteTime": {
     "end_time": "2023-06-25T15:09:31.066650Z",
     "start_time": "2023-06-25T15:09:30.954496Z"
    }
   },
   "outputs": [],
   "source": [
    "import networkx as nx\n",
    "\n",
    "model = nx.DiGraph([\n",
    "    (\"C\", \"A\"),\n",
    "    (\"C\", \"B\"),\n",
    "    (\"D\", \"A\"),\n",
    "    (\"B\", \"E\"),\n",
    "    (\"F\", \"E\"),\n",
    "    (\"A\", \"G\"),\n",
    "])\n"
   ]
  },
  {
   "cell_type": "code",
   "execution_count": 18,
   "metadata": {
    "ExecuteTime": {
     "end_time": "2023-06-25T15:09:31.073162Z",
     "start_time": "2023-06-25T15:09:31.068365Z"
    }
   },
   "outputs": [
    {
     "name": "stdout",
     "output_type": "stream",
     "text": [
      "Are D and C dependent?\n",
      "False\n",
      "Are D and C dependent given A?\n",
      "True\n",
      "Are D and C dependent given G?\n",
      "True\n"
     ]
    }
   ],
   "source": [
    "print(\"Are D and C dependent?\")\n",
    "print(not(nx.d_separated(model, {\"D\"}, {\"C\"}, {})))\n",
    "\n",
    "print(\"Are D and C dependent given A?\")\n",
    "print(not(nx.d_separated(model, {\"D\"}, {\"C\"}, {\"A\"})))\n",
    "\n",
    "print(\"Are D and C dependent given G?\")\n",
    "print(not(nx.d_separated(model, {\"D\"}, {\"C\"}, {\"G\"})))"
   ]
  },
  {
   "cell_type": "code",
   "execution_count": 19,
   "metadata": {
    "ExecuteTime": {
     "end_time": "2023-06-25T15:09:31.077511Z",
     "start_time": "2023-06-25T15:09:31.074704Z"
    }
   },
   "outputs": [
    {
     "name": "stdout",
     "output_type": "stream",
     "text": [
      "Are G and D dependent?\n",
      "True\n",
      "Are G and D dependent given A?\n",
      "False\n"
     ]
    }
   ],
   "source": [
    "print(\"Are G and D dependent?\")\n",
    "print(not(nx.d_separated(model, {\"G\"}, {\"D\"}, {})))\n",
    "\n",
    "print(\"Are G and D dependent given A?\")\n",
    "print(not(nx.d_separated(model, {\"G\"}, {\"D\"}, {\"A\"})))"
   ]
  },
  {
   "cell_type": "code",
   "execution_count": 20,
   "metadata": {
    "ExecuteTime": {
     "end_time": "2023-06-25T15:09:31.082324Z",
     "start_time": "2023-06-25T15:09:31.079124Z"
    }
   },
   "outputs": [
    {
     "name": "stdout",
     "output_type": "stream",
     "text": [
      "Are A and B dependent?\n",
      "True\n",
      "Are A and B dependent given C?\n",
      "False\n"
     ]
    }
   ],
   "source": [
    "print(\"Are A and B dependent?\")\n",
    "print(not(nx.d_separated(model, {\"A\"}, {\"B\"}, {})))\n",
    "\n",
    "print(\"Are A and B dependent given C?\")\n",
    "print(not(nx.d_separated(model, {\"A\"}, {\"B\"}, {\"C\"})))"
   ]
  },
  {
   "cell_type": "code",
   "execution_count": 21,
   "metadata": {
    "ExecuteTime": {
     "end_time": "2023-06-25T15:09:31.087167Z",
     "start_time": "2023-06-25T15:09:31.083938Z"
    }
   },
   "outputs": [
    {
     "name": "stdout",
     "output_type": "stream",
     "text": [
      "Are G and F dependent?\n",
      "False\n",
      "Are G and F dependent given E?\n",
      "True\n"
     ]
    }
   ],
   "source": [
    "print(\"Are G and F dependent?\")\n",
    "print(not(nx.d_separated(model, {\"G\"}, {\"F\"}, {})))\n",
    "\n",
    "print(\"Are G and F dependent given E?\")\n",
    "print(not(nx.d_separated(model, {\"G\"}, {\"F\"}, {\"E\"})))"
   ]
  },
  {
   "cell_type": "markdown",
   "metadata": {},
   "source": [
    "\n",
    " \n",
    "## Identification Revisited\n"
   ]
  },
  {
   "cell_type": "code",
   "execution_count": 22,
   "metadata": {
    "ExecuteTime": {
     "end_time": "2023-06-25T15:09:31.290464Z",
     "start_time": "2023-06-25T15:09:31.088696Z"
    },
    "tags": [
     "hide-input"
    ]
   },
   "outputs": [
    {
     "data": {
      "image/svg+xml": [
       "<?xml version=\"1.0\" encoding=\"UTF-8\" standalone=\"no\"?>\n",
       "<!DOCTYPE svg PUBLIC \"-//W3C//DTD SVG 1.1//EN\"\n",
       " \"http://www.w3.org/Graphics/SVG/1.1/DTD/svg11.dtd\">\n",
       "<!-- Generated by graphviz version 2.43.0 (0)\n",
       " -->\n",
       "<!-- Title: %3 Pages: 1 -->\n",
       "<svg width=\"385pt\" height=\"98pt\"\n",
       " viewBox=\"0.00 0.00 384.57 98.00\" xmlns=\"http://www.w3.org/2000/svg\" xmlns:xlink=\"http://www.w3.org/1999/xlink\">\n",
       "<g id=\"graph0\" class=\"graph\" transform=\"scale(1 1) rotate(0) translate(4 94)\">\n",
       "<title>%3</title>\n",
       "<polygon fill=\"white\" stroke=\"transparent\" points=\"-4,4 -4,-94 380.57,-94 380.57,4 -4,4\"/>\n",
       "<!-- profits_prev_6m -->\n",
       "<g id=\"node1\" class=\"node\">\n",
       "<title>profits_prev_6m</title>\n",
       "<ellipse fill=\"none\" stroke=\"black\" cx=\"85.14\" cy=\"-45\" rx=\"85.29\" ry=\"18\"/>\n",
       "<text text-anchor=\"middle\" x=\"85.14\" y=\"-41.3\" font-family=\"Times,serif\" font-size=\"14.00\">profits_prev_6m</text>\n",
       "</g>\n",
       "<!-- profits_next_6m -->\n",
       "<g id=\"node2\" class=\"node\">\n",
       "<title>profits_next_6m</title>\n",
       "<ellipse fill=\"none\" stroke=\"black\" cx=\"291.43\" cy=\"-72\" rx=\"85.29\" ry=\"18\"/>\n",
       "<text text-anchor=\"middle\" x=\"291.43\" y=\"-68.3\" font-family=\"Times,serif\" font-size=\"14.00\">profits_next_6m</text>\n",
       "</g>\n",
       "<!-- profits_prev_6m&#45;&gt;profits_next_6m -->\n",
       "<g id=\"edge1\" class=\"edge\">\n",
       "<title>profits_prev_6m&#45;&gt;profits_next_6m</title>\n",
       "<path fill=\"none\" stroke=\"black\" d=\"M157.88,-54.48C174.25,-56.65 191.78,-58.96 208.54,-61.18\"/>\n",
       "<polygon fill=\"black\" stroke=\"black\" points=\"208.49,-64.7 218.86,-62.54 209.41,-57.76 208.49,-64.7\"/>\n",
       "</g>\n",
       "<!-- consultancy -->\n",
       "<g id=\"node3\" class=\"node\">\n",
       "<title>consultancy</title>\n",
       "<ellipse fill=\"none\" stroke=\"black\" cx=\"291.43\" cy=\"-18\" rx=\"65.79\" ry=\"18\"/>\n",
       "<text text-anchor=\"middle\" x=\"291.43\" y=\"-14.3\" font-family=\"Times,serif\" font-size=\"14.00\">consultancy</text>\n",
       "</g>\n",
       "<!-- profits_prev_6m&#45;&gt;consultancy -->\n",
       "<g id=\"edge2\" class=\"edge\">\n",
       "<title>profits_prev_6m&#45;&gt;consultancy</title>\n",
       "<path fill=\"none\" stroke=\"black\" d=\"M157.88,-35.52C178.72,-32.76 201.43,-29.76 222.06,-27.04\"/>\n",
       "<polygon fill=\"black\" stroke=\"black\" points=\"222.55,-30.5 232.01,-25.72 221.64,-23.56 222.55,-30.5\"/>\n",
       "</g>\n",
       "</g>\n",
       "</svg>\n"
      ],
      "text/plain": [
       "<graphviz.graphs.Digraph at 0xffff74816f50>"
      ]
     },
     "execution_count": 22,
     "metadata": {},
     "output_type": "execute_result"
    }
   ],
   "source": [
    "consultancy_sev = gr.Digraph(graph_attr={\"rankdir\": \"LR\"})\n",
    "consultancy_sev.edge(\"profits_prev_6m\", \"profits_next_6m\")\n",
    "consultancy_sev.edge(\"profits_prev_6m\", \"consultancy\")\n",
    "\n",
    "consultancy_sev"
   ]
  },
  {
   "cell_type": "code",
   "execution_count": 23,
   "metadata": {
    "ExecuteTime": {
     "end_time": "2023-06-25T15:09:31.297704Z",
     "start_time": "2023-06-25T15:09:31.292738Z"
    }
   },
   "outputs": [
    {
     "data": {
      "text/plain": [
       "True"
      ]
     },
     "execution_count": 23,
     "metadata": {},
     "output_type": "execute_result"
    }
   ],
   "source": [
    "consultancy_model_severed = nx.DiGraph([\n",
    "    (\"profits_prev_6m\", \"profits_next_6m\"),\n",
    "    (\"profits_prev_6m\", \"consultancy\"),\n",
    "#     (\"consultancy\", \"profits_next_6m\"), # causal relationship removed\n",
    "])\n",
    "\n",
    "not(nx.d_separated(consultancy_model_severed,\n",
    "                   {\"consultancy\"}, {\"profits_next_6m\"}, {}))"
   ]
  },
  {
   "cell_type": "code",
   "execution_count": 24,
   "metadata": {
    "ExecuteTime": {
     "end_time": "2023-06-25T15:09:31.505182Z",
     "start_time": "2023-06-25T15:09:31.299411Z"
    },
    "tags": [
     "hide-input"
    ]
   },
   "outputs": [
    {
     "data": {
      "image/svg+xml": [
       "<?xml version=\"1.0\" encoding=\"UTF-8\" standalone=\"no\"?>\n",
       "<!DOCTYPE svg PUBLIC \"-//W3C//DTD SVG 1.1//EN\"\n",
       " \"http://www.w3.org/Graphics/SVG/1.1/DTD/svg11.dtd\">\n",
       "<!-- Generated by graphviz version 2.43.0 (0)\n",
       " -->\n",
       "<!-- Title: %3 Pages: 1 -->\n",
       "<svg width=\"552pt\" height=\"67pt\"\n",
       " viewBox=\"0.00 0.00 551.86 67.00\" xmlns=\"http://www.w3.org/2000/svg\" xmlns:xlink=\"http://www.w3.org/1999/xlink\">\n",
       "<g id=\"graph0\" class=\"graph\" transform=\"scale(1 1) rotate(0) translate(4 63)\">\n",
       "<title>%3</title>\n",
       "<polygon fill=\"white\" stroke=\"transparent\" points=\"-4,4 -4,-63 547.86,-63 547.86,4 -4,4\"/>\n",
       "<!-- profits_prev_6m -->\n",
       "<g id=\"node1\" class=\"node\">\n",
       "<title>profits_prev_6m</title>\n",
       "<ellipse fill=\"lightgrey\" stroke=\"lightgrey\" cx=\"85.14\" cy=\"-41\" rx=\"85.29\" ry=\"18\"/>\n",
       "<text text-anchor=\"middle\" x=\"85.14\" y=\"-37.3\" font-family=\"Times,serif\" font-size=\"14.00\">profits_prev_6m</text>\n",
       "</g>\n",
       "<!-- profits_next_6m -->\n",
       "<g id=\"node2\" class=\"node\">\n",
       "<title>profits_next_6m</title>\n",
       "<ellipse fill=\"none\" stroke=\"black\" cx=\"458.72\" cy=\"-41\" rx=\"85.29\" ry=\"18\"/>\n",
       "<text text-anchor=\"middle\" x=\"458.72\" y=\"-37.3\" font-family=\"Times,serif\" font-size=\"14.00\">profits_next_6m</text>\n",
       "</g>\n",
       "<!-- profits_prev_6m&#45;&gt;profits_next_6m -->\n",
       "<g id=\"edge1\" class=\"edge\">\n",
       "<title>profits_prev_6m&#45;&gt;profits_next_6m</title>\n",
       "<path fill=\"none\" stroke=\"black\" d=\"M169.18,-44.13C181.62,-44.49 194.29,-44.8 206.28,-45 264.63,-45.97 279.23,-45.97 337.57,-45 346.29,-44.85 355.36,-44.65 364.44,-44.41\"/>\n",
       "<polygon fill=\"black\" stroke=\"black\" points=\"364.78,-47.9 374.68,-44.13 364.58,-40.91 364.78,-47.9\"/>\n",
       "</g>\n",
       "<!-- consultancy -->\n",
       "<g id=\"node3\" class=\"node\">\n",
       "<title>consultancy</title>\n",
       "<ellipse fill=\"none\" stroke=\"black\" cx=\"271.93\" cy=\"-18\" rx=\"65.79\" ry=\"18\"/>\n",
       "<text text-anchor=\"middle\" x=\"271.93\" y=\"-14.3\" font-family=\"Times,serif\" font-size=\"14.00\">consultancy</text>\n",
       "</g>\n",
       "<!-- profits_prev_6m&#45;&gt;consultancy -->\n",
       "<g id=\"edge2\" class=\"edge\">\n",
       "<title>profits_prev_6m&#45;&gt;consultancy</title>\n",
       "<path fill=\"none\" stroke=\"black\" d=\"M158.91,-31.94C173.05,-30.18 187.84,-28.34 201.85,-26.6\"/>\n",
       "<polygon fill=\"black\" stroke=\"black\" points=\"202.41,-30.06 211.9,-25.35 201.55,-23.11 202.41,-30.06\"/>\n",
       "</g>\n",
       "<!-- consultancy&#45;&gt;profits_next_6m -->\n",
       "<g id=\"edge3\" class=\"edge\">\n",
       "<title>consultancy&#45;&gt;profits_next_6m</title>\n",
       "<path fill=\"none\" stroke=\"black\" d=\"M331.9,-25.34C345.64,-27.05 360.5,-28.9 375.05,-30.71\"/>\n",
       "<polygon fill=\"black\" stroke=\"black\" points=\"374.69,-34.19 385.05,-31.96 375.56,-27.25 374.69,-34.19\"/>\n",
       "</g>\n",
       "</g>\n",
       "</svg>\n"
      ],
      "text/plain": [
       "<graphviz.graphs.Digraph at 0xffff672e9490>"
      ]
     },
     "execution_count": 24,
     "metadata": {},
     "output_type": "execute_result"
    }
   ],
   "source": [
    "g_consultancy = gr.Digraph(graph_attr={\"rankdir\":\"LR\"})\n",
    "g_consultancy.edge(\"profits_prev_6m\", \"profits_next_6m\")\n",
    "g_consultancy.edge(\"profits_prev_6m\", \"consultancy\")\n",
    "g_consultancy.edge(\"consultancy\", \"profits_next_6m\")\n",
    "g_consultancy.node(\"profits_prev_6m\", color=\"lightgrey\", style=\"filled\")\n",
    "\n",
    "g_consultancy"
   ]
  },
  {
   "cell_type": "markdown",
   "metadata": {},
   "source": [
    "## CIA and The Adjustment Formula\n",
    " \n",
    "## Positivity Assumption\n"
   ]
  },
  {
   "cell_type": "markdown",
   "metadata": {},
   "source": [
    "## An Identification Example with Data\n"
   ]
  },
  {
   "cell_type": "code",
   "execution_count": 25,
   "metadata": {
    "ExecuteTime": {
     "end_time": "2023-06-25T15:09:31.518818Z",
     "start_time": "2023-06-25T15:09:31.507110Z"
    }
   },
   "outputs": [
    {
     "data": {
      "text/html": [
       "<div>\n",
       "<style scoped>\n",
       "    .dataframe tbody tr th:only-of-type {\n",
       "        vertical-align: middle;\n",
       "    }\n",
       "\n",
       "    .dataframe tbody tr th {\n",
       "        vertical-align: top;\n",
       "    }\n",
       "\n",
       "    .dataframe thead th {\n",
       "        text-align: right;\n",
       "    }\n",
       "</style>\n",
       "<table border=\"1\" class=\"dataframe\">\n",
       "  <thead>\n",
       "    <tr style=\"text-align: right;\">\n",
       "      <th></th>\n",
       "      <th>profits_prev_6m</th>\n",
       "      <th>consultancy</th>\n",
       "      <th>profits_next_6m</th>\n",
       "    </tr>\n",
       "  </thead>\n",
       "  <tbody>\n",
       "    <tr>\n",
       "      <th>0</th>\n",
       "      <td>1.0</td>\n",
       "      <td>0</td>\n",
       "      <td>1.0</td>\n",
       "    </tr>\n",
       "    <tr>\n",
       "      <th>1</th>\n",
       "      <td>1.0</td>\n",
       "      <td>0</td>\n",
       "      <td>1.1</td>\n",
       "    </tr>\n",
       "    <tr>\n",
       "      <th>2</th>\n",
       "      <td>1.0</td>\n",
       "      <td>1</td>\n",
       "      <td>1.2</td>\n",
       "    </tr>\n",
       "    <tr>\n",
       "      <th>3</th>\n",
       "      <td>5.0</td>\n",
       "      <td>0</td>\n",
       "      <td>5.5</td>\n",
       "    </tr>\n",
       "    <tr>\n",
       "      <th>4</th>\n",
       "      <td>5.0</td>\n",
       "      <td>1</td>\n",
       "      <td>5.7</td>\n",
       "    </tr>\n",
       "    <tr>\n",
       "      <th>5</th>\n",
       "      <td>5.0</td>\n",
       "      <td>1</td>\n",
       "      <td>5.7</td>\n",
       "    </tr>\n",
       "  </tbody>\n",
       "</table>\n",
       "</div>"
      ],
      "text/plain": [
       "   profits_prev_6m  consultancy  profits_next_6m\n",
       "0              1.0            0              1.0\n",
       "1              1.0            0              1.1\n",
       "2              1.0            1              1.2\n",
       "3              5.0            0              5.5\n",
       "4              5.0            1              5.7\n",
       "5              5.0            1              5.7"
      ]
     },
     "execution_count": 25,
     "metadata": {},
     "output_type": "execute_result"
    }
   ],
   "source": [
    "df = pd.DataFrame(dict(\n",
    "    profits_prev_6m=[1.0, 1.0, 1.0, 5.0, 5.0, 5.0],\n",
    "    consultancy=[0, 0, 1, 0, 1, 1],\n",
    "    profits_next_6m=[1, 1.1, 1.2, 5.5, 5.7, 5.7],\n",
    "))\n",
    "\n",
    "df"
   ]
  },
  {
   "cell_type": "code",
   "execution_count": 26,
   "metadata": {
    "ExecuteTime": {
     "end_time": "2023-06-25T15:09:31.528085Z",
     "start_time": "2023-06-25T15:09:31.520733Z"
    }
   },
   "outputs": [
    {
     "data": {
      "text/plain": [
       "1.666666666666667"
      ]
     },
     "execution_count": 26,
     "metadata": {},
     "output_type": "execute_result"
    }
   ],
   "source": [
    "(df.query(\"consultancy==1\")[\"profits_next_6m\"].mean() \n",
    " - df.query(\"consultancy==0\")[\"profits_next_6m\"].mean())"
   ]
  },
  {
   "cell_type": "code",
   "execution_count": 27,
   "metadata": {
    "ExecuteTime": {
     "end_time": "2023-06-25T15:09:31.538760Z",
     "start_time": "2023-06-25T15:09:31.529677Z"
    }
   },
   "outputs": [
    {
     "data": {
      "text/plain": [
       "profits_prev_6m\n",
       "1.0    0.15\n",
       "5.0    0.20\n",
       "Name: profits_next_6m, dtype: float64"
      ]
     },
     "execution_count": 27,
     "metadata": {},
     "output_type": "execute_result"
    }
   ],
   "source": [
    "avg_df = (df\n",
    "          .groupby([\"consultancy\", \"profits_prev_6m\"])\n",
    "          [\"profits_next_6m\"]\n",
    "          .mean())\n",
    "\n",
    "avg_df.loc[1] - avg_df.loc[0] "
   ]
  },
  {
   "cell_type": "code",
   "execution_count": 28,
   "metadata": {
    "ExecuteTime": {
     "end_time": "2023-06-25T15:09:31.745712Z",
     "start_time": "2023-06-25T15:09:31.540150Z"
    },
    "tags": [
     "hide-input"
    ]
   },
   "outputs": [
    {
     "data": {
      "image/svg+xml": [
       "<?xml version=\"1.0\" encoding=\"UTF-8\" standalone=\"no\"?>\n",
       "<!DOCTYPE svg PUBLIC \"-//W3C//DTD SVG 1.1//EN\"\n",
       " \"http://www.w3.org/Graphics/SVG/1.1/DTD/svg11.dtd\">\n",
       "<!-- Generated by graphviz version 2.43.0 (0)\n",
       " -->\n",
       "<!-- Title: %3 Pages: 1 -->\n",
       "<svg width=\"332pt\" height=\"67pt\"\n",
       " viewBox=\"0.00 0.00 332.00 67.00\" xmlns=\"http://www.w3.org/2000/svg\" xmlns:xlink=\"http://www.w3.org/1999/xlink\">\n",
       "<g id=\"graph0\" class=\"graph\" transform=\"scale(1 1) rotate(0) translate(4 63)\">\n",
       "<title>%3</title>\n",
       "<polygon fill=\"white\" stroke=\"transparent\" points=\"-4,4 -4,-63 328,-63 328,4 -4,4\"/>\n",
       "<!-- U -->\n",
       "<g id=\"node1\" class=\"node\">\n",
       "<title>U</title>\n",
       "<ellipse fill=\"none\" stroke=\"black\" cx=\"27\" cy=\"-18\" rx=\"27\" ry=\"18\"/>\n",
       "<text text-anchor=\"middle\" x=\"27\" y=\"-14.3\" font-family=\"Times,serif\" font-size=\"14.00\">U</text>\n",
       "</g>\n",
       "<!-- T -->\n",
       "<g id=\"node2\" class=\"node\">\n",
       "<title>T</title>\n",
       "<ellipse fill=\"none\" stroke=\"black\" cx=\"117\" cy=\"-41\" rx=\"27\" ry=\"18\"/>\n",
       "<text text-anchor=\"middle\" x=\"117\" y=\"-37.3\" font-family=\"Times,serif\" font-size=\"14.00\">T</text>\n",
       "</g>\n",
       "<!-- U&#45;&gt;T -->\n",
       "<g id=\"edge1\" class=\"edge\">\n",
       "<title>U&#45;&gt;T</title>\n",
       "<path fill=\"none\" stroke=\"black\" d=\"M52.51,-24.41C61.57,-26.77 72.01,-29.5 81.78,-32.05\"/>\n",
       "<polygon fill=\"black\" stroke=\"black\" points=\"81.06,-35.49 91.62,-34.63 82.83,-28.71 81.06,-35.49\"/>\n",
       "</g>\n",
       "<!-- Y -->\n",
       "<g id=\"node3\" class=\"node\">\n",
       "<title>Y</title>\n",
       "<ellipse fill=\"none\" stroke=\"black\" cx=\"297\" cy=\"-18\" rx=\"27\" ry=\"18\"/>\n",
       "<text text-anchor=\"middle\" x=\"297\" y=\"-14.3\" font-family=\"Times,serif\" font-size=\"14.00\">Y</text>\n",
       "</g>\n",
       "<!-- U&#45;&gt;Y -->\n",
       "<g id=\"edge2\" class=\"edge\">\n",
       "<title>U&#45;&gt;Y</title>\n",
       "<path fill=\"none\" stroke=\"black\" d=\"M53.92,-15.95C65.03,-15.17 78.14,-14.38 90,-14 153.97,-11.94 170.03,-11.94 234,-14 242.43,-14.27 251.5,-14.75 260.02,-15.28\"/>\n",
       "<polygon fill=\"black\" stroke=\"black\" points=\"259.87,-18.78 270.08,-15.95 260.33,-11.8 259.87,-18.78\"/>\n",
       "</g>\n",
       "<!-- M -->\n",
       "<g id=\"node4\" class=\"node\">\n",
       "<title>M</title>\n",
       "<ellipse fill=\"none\" stroke=\"black\" cx=\"207\" cy=\"-41\" rx=\"27\" ry=\"18\"/>\n",
       "<text text-anchor=\"middle\" x=\"207\" y=\"-37.3\" font-family=\"Times,serif\" font-size=\"14.00\">M</text>\n",
       "</g>\n",
       "<!-- T&#45;&gt;M -->\n",
       "<g id=\"edge3\" class=\"edge\">\n",
       "<title>T&#45;&gt;M</title>\n",
       "<path fill=\"none\" stroke=\"black\" d=\"M144.4,-41C152.39,-41 161.31,-41 169.82,-41\"/>\n",
       "<polygon fill=\"black\" stroke=\"black\" points=\"169.92,-44.5 179.92,-41 169.92,-37.5 169.92,-44.5\"/>\n",
       "</g>\n",
       "<!-- M&#45;&gt;Y -->\n",
       "<g id=\"edge4\" class=\"edge\">\n",
       "<title>M&#45;&gt;Y</title>\n",
       "<path fill=\"none\" stroke=\"black\" d=\"M232.51,-34.59C241.57,-32.23 252.01,-29.5 261.78,-26.95\"/>\n",
       "<polygon fill=\"black\" stroke=\"black\" points=\"262.83,-30.29 271.62,-24.37 261.06,-23.51 262.83,-30.29\"/>\n",
       "</g>\n",
       "</g>\n",
       "</svg>\n"
      ],
      "text/plain": [
       "<graphviz.graphs.Digraph at 0xffff736fea10>"
      ]
     },
     "execution_count": 28,
     "metadata": {},
     "output_type": "execute_result"
    }
   ],
   "source": [
    "g = gr.Digraph(graph_attr={\"rankdir\":\"LR\"})\n",
    "g.edge(\"U\", \"T\")\n",
    "g.edge(\"U\", \"Y\")\n",
    "g.edge(\"T\", \"M\")\n",
    "g.edge(\"M\", \"Y\")\n",
    "\n",
    "g"
   ]
  },
  {
   "cell_type": "markdown",
   "metadata": {},
   "source": [
    "## Confounding Bias\n",
    " \n",
    "The first significant cause of bias is confounding. It's the bias we've been discussing so far. Now, we are just putting a name to it. **Confounding happens when there is an open backdoor path through which association flows non-causally, usually because the treatment and the outcome share a common cause**. For example, let's say that you work in HR and you want to know if your new management training program is increasing employers' engagement. However, since the training is optional, you believe only managers that are already doing great attend the program and those who need it the most, don't. When you measure engagement of the teams under the managers that took the training, it is much higher than that of the teams under the managers who didn't attend the training. But it's hard to know how much of this is causal. Since there is a common cause between treatment and outcome (the training and being a good manager, respectively) they would move together regardless of a causal effect. \n",
    " \n",
    "To identify that causal effect, you need to close all backdoor paths between the treatment and the outcome. If you do so, the only effect that will be left is the direct effect $T \\to Y$. In our example, you could somehow control for the manager's quality prior to taking the training. In that situation, the difference in the outcome will be only due to the training, since manager quality prior to the training would be held constant between treatment and control. Simply put, **to adjust for confounding bias, you need to adjust for the common causes of the treatment and the outcome**."
   ]
  },
  {
   "cell_type": "code",
   "execution_count": 29,
   "metadata": {
    "ExecuteTime": {
     "end_time": "2023-06-25T15:09:31.958504Z",
     "start_time": "2023-06-25T15:09:31.756409Z"
    },
    "tags": [
     "hide-input"
    ]
   },
   "outputs": [
    {
     "data": {
      "image/svg+xml": [
       "<?xml version=\"1.0\" encoding=\"UTF-8\" standalone=\"no\"?>\n",
       "<!DOCTYPE svg PUBLIC \"-//W3C//DTD SVG 1.1//EN\"\n",
       " \"http://www.w3.org/Graphics/SVG/1.1/DTD/svg11.dtd\">\n",
       "<!-- Generated by graphviz version 2.43.0 (0)\n",
       " -->\n",
       "<!-- Title: %3 Pages: 1 -->\n",
       "<svg width=\"497pt\" height=\"166pt\"\n",
       " viewBox=\"0.00 0.00 497.26 166.00\" xmlns=\"http://www.w3.org/2000/svg\" xmlns:xlink=\"http://www.w3.org/1999/xlink\">\n",
       "<g id=\"graph0\" class=\"graph\" transform=\"scale(1 1) rotate(0) translate(4 162)\">\n",
       "<title>%3</title>\n",
       "<polygon fill=\"white\" stroke=\"transparent\" points=\"-4,4 -4,-162 493.26,-162 493.26,4 -4,4\"/>\n",
       "<!-- X -->\n",
       "<g id=\"node1\" class=\"node\">\n",
       "<title>X</title>\n",
       "<ellipse fill=\"none\" stroke=\"black\" cx=\"89.04\" cy=\"-34\" rx=\"27\" ry=\"18\"/>\n",
       "<text text-anchor=\"middle\" x=\"89.04\" y=\"-30.3\" font-family=\"Times,serif\" font-size=\"14.00\">X</text>\n",
       "</g>\n",
       "<!-- T -->\n",
       "<g id=\"node2\" class=\"node\">\n",
       "<title>T</title>\n",
       "<ellipse fill=\"none\" stroke=\"black\" cx=\"264.13\" cy=\"-41\" rx=\"27\" ry=\"18\"/>\n",
       "<text text-anchor=\"middle\" x=\"264.13\" y=\"-37.3\" font-family=\"Times,serif\" font-size=\"14.00\">T</text>\n",
       "</g>\n",
       "<!-- X&#45;&gt;T -->\n",
       "<g id=\"edge1\" class=\"edge\">\n",
       "<title>X&#45;&gt;T</title>\n",
       "<path fill=\"none\" stroke=\"black\" d=\"M116.33,-35.06C145.86,-36.26 193.96,-38.2 227,-39.54\"/>\n",
       "<polygon fill=\"black\" stroke=\"black\" points=\"227.03,-43.04 237.16,-39.95 227.31,-36.05 227.03,-43.04\"/>\n",
       "</g>\n",
       "<!-- Y -->\n",
       "<g id=\"node3\" class=\"node\">\n",
       "<title>Y</title>\n",
       "<ellipse fill=\"none\" stroke=\"black\" cx=\"419.72\" cy=\"-18\" rx=\"27\" ry=\"18\"/>\n",
       "<text text-anchor=\"middle\" x=\"419.72\" y=\"-14.3\" font-family=\"Times,serif\" font-size=\"14.00\">Y</text>\n",
       "</g>\n",
       "<!-- X&#45;&gt;Y -->\n",
       "<g id=\"edge2\" class=\"edge\">\n",
       "<title>X&#45;&gt;Y</title>\n",
       "<path fill=\"none\" stroke=\"black\" d=\"M115.08,-28.75C140.03,-23.81 179.51,-16.77 214.08,-14 258.43,-10.45 269.7,-13.15 314.18,-14 336.91,-14.43 362.41,-15.4 382.53,-16.27\"/>\n",
       "<polygon fill=\"black\" stroke=\"black\" points=\"382.37,-19.77 392.52,-16.72 382.68,-12.78 382.37,-19.77\"/>\n",
       "</g>\n",
       "<!-- T&#45;&gt;Y -->\n",
       "<g id=\"edge3\" class=\"edge\">\n",
       "<title>T&#45;&gt;Y</title>\n",
       "<path fill=\"none\" stroke=\"black\" d=\"M290.84,-37.15C316.05,-33.37 354.72,-27.58 382.93,-23.36\"/>\n",
       "<polygon fill=\"black\" stroke=\"black\" points=\"383.81,-26.77 393.18,-21.82 382.78,-19.84 383.81,-26.77\"/>\n",
       "</g>\n",
       "<!-- Manager Quality -->\n",
       "<g id=\"node4\" class=\"node\">\n",
       "<title>Manager Quality</title>\n",
       "<ellipse fill=\"none\" stroke=\"black\" cx=\"89.04\" cy=\"-107\" rx=\"89.08\" ry=\"18\"/>\n",
       "<text text-anchor=\"middle\" x=\"89.04\" y=\"-103.3\" font-family=\"Times,serif\" font-size=\"14.00\">Manager Quality</text>\n",
       "</g>\n",
       "<!-- Training -->\n",
       "<g id=\"node5\" class=\"node\">\n",
       "<title>Training</title>\n",
       "<ellipse fill=\"none\" stroke=\"black\" cx=\"264.13\" cy=\"-140\" rx=\"50.09\" ry=\"18\"/>\n",
       "<text text-anchor=\"middle\" x=\"264.13\" y=\"-136.3\" font-family=\"Times,serif\" font-size=\"14.00\">Training</text>\n",
       "</g>\n",
       "<!-- Manager Quality&#45;&gt;Training -->\n",
       "<g id=\"edge4\" class=\"edge\">\n",
       "<title>Manager Quality&#45;&gt;Training</title>\n",
       "<path fill=\"none\" stroke=\"black\" d=\"M154.49,-119.29C172.65,-122.75 192.2,-126.48 209.64,-129.8\"/>\n",
       "<polygon fill=\"black\" stroke=\"black\" points=\"209.16,-133.27 219.64,-131.71 210.47,-126.4 209.16,-133.27\"/>\n",
       "</g>\n",
       "<!-- Engagement -->\n",
       "<g id=\"node6\" class=\"node\">\n",
       "<title>Engagement</title>\n",
       "<ellipse fill=\"none\" stroke=\"black\" cx=\"419.72\" cy=\"-117\" rx=\"69.59\" ry=\"18\"/>\n",
       "<text text-anchor=\"middle\" x=\"419.72\" y=\"-113.3\" font-family=\"Times,serif\" font-size=\"14.00\">Engagement</text>\n",
       "</g>\n",
       "<!-- Manager Quality&#45;&gt;Engagement -->\n",
       "<g id=\"edge5\" class=\"edge\">\n",
       "<title>Manager Quality&#45;&gt;Engagement</title>\n",
       "<path fill=\"none\" stroke=\"black\" d=\"M177.6,-109.11C219.01,-110.17 269.14,-111.54 314.18,-113 322.81,-113.28 331.85,-113.6 340.85,-113.92\"/>\n",
       "<polygon fill=\"black\" stroke=\"black\" points=\"340.84,-117.42 350.96,-114.29 341.09,-110.43 340.84,-117.42\"/>\n",
       "</g>\n",
       "<!-- Training&#45;&gt;Engagement -->\n",
       "<g id=\"edge6\" class=\"edge\">\n",
       "<title>Training&#45;&gt;Engagement</title>\n",
       "<path fill=\"none\" stroke=\"black\" d=\"M310.8,-133.16C322.92,-131.35 336.28,-129.35 349.36,-127.39\"/>\n",
       "<polygon fill=\"black\" stroke=\"black\" points=\"349.9,-130.84 359.27,-125.9 348.86,-123.92 349.9,-130.84\"/>\n",
       "</g>\n",
       "</g>\n",
       "</svg>\n"
      ],
      "text/plain": [
       "<graphviz.graphs.Digraph at 0xffffa5fb2590>"
      ]
     },
     "execution_count": 29,
     "metadata": {},
     "output_type": "execute_result"
    }
   ],
   "source": [
    "g = gr.Digraph(graph_attr={\"rankdir\":\"LR\"})\n",
    "g.edge(\"X\", \"T\")\n",
    "g.edge(\"X\", \"Y\")\n",
    "g.edge(\"T\", \"Y\")\n",
    "\n",
    "g.edge(\"Manager Quality\", \"Training\"),\n",
    "g.edge(\"Manager Quality\", \"Engagement\"),\n",
    "g.edge(\"Training\", \"Engagement\")\n",
    "\n",
    "g"
   ]
  },
  {
   "cell_type": "markdown",
   "metadata": {},
   "source": [
    "\n",
    "### Surrogate Confounding\n"
   ]
  },
  {
   "cell_type": "code",
   "execution_count": 30,
   "metadata": {
    "ExecuteTime": {
     "end_time": "2023-06-25T15:09:32.157902Z",
     "start_time": "2023-06-25T15:09:31.960159Z"
    },
    "tags": [
     "hide-input"
    ]
   },
   "outputs": [
    {
     "data": {
      "image/svg+xml": [
       "<?xml version=\"1.0\" encoding=\"UTF-8\" standalone=\"no\"?>\n",
       "<!DOCTYPE svg PUBLIC \"-//W3C//DTD SVG 1.1//EN\"\n",
       " \"http://www.w3.org/Graphics/SVG/1.1/DTD/svg11.dtd\">\n",
       "<!-- Generated by graphviz version 2.43.0 (0)\n",
       " -->\n",
       "<!-- Title: %3 Pages: 1 -->\n",
       "<svg width=\"866pt\" height=\"260pt\"\n",
       " viewBox=\"0.00 0.00 866.14 260.00\" xmlns=\"http://www.w3.org/2000/svg\" xmlns:xlink=\"http://www.w3.org/1999/xlink\">\n",
       "<g id=\"graph0\" class=\"graph\" transform=\"scale(1 1) rotate(0) translate(4 256)\">\n",
       "<title>%3</title>\n",
       "<polygon fill=\"white\" stroke=\"transparent\" points=\"-4,4 -4,-256 862.14,-256 862.14,4 -4,4\"/>\n",
       "<!-- X1 -->\n",
       "<g id=\"node1\" class=\"node\">\n",
       "<title>X1</title>\n",
       "<ellipse fill=\"none\" stroke=\"black\" cx=\"99\" cy=\"-234\" rx=\"27\" ry=\"18\"/>\n",
       "<text text-anchor=\"middle\" x=\"99\" y=\"-230.3\" font-family=\"Times,serif\" font-size=\"14.00\">X1</text>\n",
       "</g>\n",
       "<!-- U -->\n",
       "<g id=\"node2\" class=\"node\">\n",
       "<title>U</title>\n",
       "<ellipse fill=\"none\" stroke=\"black\" cx=\"99\" cy=\"-162\" rx=\"27\" ry=\"18\"/>\n",
       "<text text-anchor=\"middle\" x=\"99\" y=\"-158.3\" font-family=\"Times,serif\" font-size=\"14.00\">U</text>\n",
       "</g>\n",
       "<!-- X1&#45;&gt;U -->\n",
       "<g id=\"edge1\" class=\"edge\">\n",
       "<title>X1&#45;&gt;U</title>\n",
       "<path fill=\"none\" stroke=\"black\" d=\"M99,-215.7C99,-207.98 99,-198.71 99,-190.11\"/>\n",
       "<polygon fill=\"black\" stroke=\"black\" points=\"102.5,-190.1 99,-180.1 95.5,-190.1 102.5,-190.1\"/>\n",
       "</g>\n",
       "<!-- X2 -->\n",
       "<g id=\"node3\" class=\"node\">\n",
       "<title>X2</title>\n",
       "<ellipse fill=\"none\" stroke=\"black\" cx=\"27\" cy=\"-90\" rx=\"27\" ry=\"18\"/>\n",
       "<text text-anchor=\"middle\" x=\"27\" y=\"-86.3\" font-family=\"Times,serif\" font-size=\"14.00\">X2</text>\n",
       "</g>\n",
       "<!-- U&#45;&gt;X2 -->\n",
       "<g id=\"edge2\" class=\"edge\">\n",
       "<title>U&#45;&gt;X2</title>\n",
       "<path fill=\"none\" stroke=\"black\" d=\"M84.43,-146.83C74.25,-136.94 60.48,-123.55 48.97,-112.36\"/>\n",
       "<polygon fill=\"black\" stroke=\"black\" points=\"51.41,-109.85 41.8,-105.38 46.53,-114.87 51.41,-109.85\"/>\n",
       "</g>\n",
       "<!-- T -->\n",
       "<g id=\"node4\" class=\"node\">\n",
       "<title>T</title>\n",
       "<ellipse fill=\"none\" stroke=\"black\" cx=\"99\" cy=\"-90\" rx=\"27\" ry=\"18\"/>\n",
       "<text text-anchor=\"middle\" x=\"99\" y=\"-86.3\" font-family=\"Times,serif\" font-size=\"14.00\">T</text>\n",
       "</g>\n",
       "<!-- U&#45;&gt;T -->\n",
       "<g id=\"edge3\" class=\"edge\">\n",
       "<title>U&#45;&gt;T</title>\n",
       "<path fill=\"none\" stroke=\"black\" d=\"M99,-143.7C99,-135.98 99,-126.71 99,-118.11\"/>\n",
       "<polygon fill=\"black\" stroke=\"black\" points=\"102.5,-118.1 99,-108.1 95.5,-118.1 102.5,-118.1\"/>\n",
       "</g>\n",
       "<!-- Y -->\n",
       "<g id=\"node5\" class=\"node\">\n",
       "<title>Y</title>\n",
       "<ellipse fill=\"none\" stroke=\"black\" cx=\"127\" cy=\"-18\" rx=\"27\" ry=\"18\"/>\n",
       "<text text-anchor=\"middle\" x=\"127\" y=\"-14.3\" font-family=\"Times,serif\" font-size=\"14.00\">Y</text>\n",
       "</g>\n",
       "<!-- U&#45;&gt;Y -->\n",
       "<g id=\"edge5\" class=\"edge\">\n",
       "<title>U&#45;&gt;Y</title>\n",
       "<path fill=\"none\" stroke=\"black\" d=\"M112.75,-146.07C120.96,-136.1 130.62,-122.25 135,-108 141.25,-87.67 138.51,-63.59 134.62,-45.61\"/>\n",
       "<polygon fill=\"black\" stroke=\"black\" points=\"138,-44.7 132.25,-35.8 131.2,-46.34 138,-44.7\"/>\n",
       "</g>\n",
       "<!-- T&#45;&gt;Y -->\n",
       "<g id=\"edge4\" class=\"edge\">\n",
       "<title>T&#45;&gt;Y</title>\n",
       "<path fill=\"none\" stroke=\"black\" d=\"M105.64,-72.41C108.91,-64.22 112.94,-54.14 116.62,-44.95\"/>\n",
       "<polygon fill=\"black\" stroke=\"black\" points=\"119.95,-46.05 120.41,-35.47 113.45,-43.45 119.95,-46.05\"/>\n",
       "</g>\n",
       "<!-- Manager Quality -->\n",
       "<g id=\"node6\" class=\"node\">\n",
       "<title>Manager Quality</title>\n",
       "<ellipse fill=\"none\" stroke=\"black\" cx=\"596\" cy=\"-162\" rx=\"89.08\" ry=\"18\"/>\n",
       "<text text-anchor=\"middle\" x=\"596\" y=\"-158.3\" font-family=\"Times,serif\" font-size=\"14.00\">Manager Quality</text>\n",
       "</g>\n",
       "<!-- Team&#39;s Attrition -->\n",
       "<g id=\"node7\" class=\"node\">\n",
       "<title>Team&#39;s Attrition</title>\n",
       "<ellipse fill=\"none\" stroke=\"black\" cx=\"267\" cy=\"-90\" rx=\"85.29\" ry=\"18\"/>\n",
       "<text text-anchor=\"middle\" x=\"267\" y=\"-86.3\" font-family=\"Times,serif\" font-size=\"14.00\">Team&#39;s Attrition</text>\n",
       "</g>\n",
       "<!-- Manager Quality&#45;&gt;Team&#39;s Attrition -->\n",
       "<g id=\"edge6\" class=\"edge\">\n",
       "<title>Manager Quality&#45;&gt;Team&#39;s Attrition</title>\n",
       "<path fill=\"none\" stroke=\"black\" d=\"M537.18,-148.49C480.4,-136.4 394.48,-118.12 334.83,-105.43\"/>\n",
       "<polygon fill=\"black\" stroke=\"black\" points=\"335.27,-101.95 324.76,-103.29 333.81,-108.79 335.27,-101.95\"/>\n",
       "</g>\n",
       "<!-- Team&#39;s Past Performance -->\n",
       "<g id=\"node8\" class=\"node\">\n",
       "<title>Team&#39;s Past Performance</title>\n",
       "<ellipse fill=\"none\" stroke=\"black\" cx=\"498\" cy=\"-90\" rx=\"128.08\" ry=\"18\"/>\n",
       "<text text-anchor=\"middle\" x=\"498\" y=\"-86.3\" font-family=\"Times,serif\" font-size=\"14.00\">Team&#39;s Past Performance</text>\n",
       "</g>\n",
       "<!-- Manager Quality&#45;&gt;Team&#39;s Past Performance -->\n",
       "<g id=\"edge7\" class=\"edge\">\n",
       "<title>Manager Quality&#45;&gt;Team&#39;s Past Performance</title>\n",
       "<path fill=\"none\" stroke=\"black\" d=\"M572.78,-144.41C559.93,-135.24 543.79,-123.7 529.79,-113.71\"/>\n",
       "<polygon fill=\"black\" stroke=\"black\" points=\"531.57,-110.68 521.4,-107.71 527.5,-116.37 531.57,-110.68\"/>\n",
       "</g>\n",
       "<!-- Training -->\n",
       "<g id=\"node11\" class=\"node\">\n",
       "<title>Training</title>\n",
       "<ellipse fill=\"none\" stroke=\"black\" cx=\"694\" cy=\"-90\" rx=\"50.09\" ry=\"18\"/>\n",
       "<text text-anchor=\"middle\" x=\"694\" y=\"-86.3\" font-family=\"Times,serif\" font-size=\"14.00\">Training</text>\n",
       "</g>\n",
       "<!-- Manager Quality&#45;&gt;Training -->\n",
       "<g id=\"edge10\" class=\"edge\">\n",
       "<title>Manager Quality&#45;&gt;Training</title>\n",
       "<path fill=\"none\" stroke=\"black\" d=\"M619.22,-144.41C632.66,-134.81 649.72,-122.63 664.14,-112.33\"/>\n",
       "<polygon fill=\"black\" stroke=\"black\" points=\"666.18,-115.17 672.28,-106.51 662.11,-109.48 666.18,-115.17\"/>\n",
       "</g>\n",
       "<!-- Engagement -->\n",
       "<g id=\"node12\" class=\"node\">\n",
       "<title>Engagement</title>\n",
       "<ellipse fill=\"none\" stroke=\"black\" cx=\"733\" cy=\"-18\" rx=\"69.59\" ry=\"18\"/>\n",
       "<text text-anchor=\"middle\" x=\"733\" y=\"-14.3\" font-family=\"Times,serif\" font-size=\"14.00\">Engagement</text>\n",
       "</g>\n",
       "<!-- Manager Quality&#45;&gt;Engagement -->\n",
       "<g id=\"edge12\" class=\"edge\">\n",
       "<title>Manager Quality&#45;&gt;Engagement</title>\n",
       "<path fill=\"none\" stroke=\"black\" d=\"M674.99,-153.55C704.39,-146.49 734.97,-133.12 753,-108 766.19,-89.62 758.43,-64.04 749,-45.01\"/>\n",
       "<polygon fill=\"black\" stroke=\"black\" points=\"751.97,-43.16 744.16,-36 745.8,-46.47 751.97,-43.16\"/>\n",
       "</g>\n",
       "<!-- Manager&#39;s Tenure -->\n",
       "<g id=\"node9\" class=\"node\">\n",
       "<title>Manager&#39;s Tenure</title>\n",
       "<ellipse fill=\"none\" stroke=\"black\" cx=\"471\" cy=\"-234\" rx=\"94.78\" ry=\"18\"/>\n",
       "<text text-anchor=\"middle\" x=\"471\" y=\"-230.3\" font-family=\"Times,serif\" font-size=\"14.00\">Manager&#39;s Tenure</text>\n",
       "</g>\n",
       "<!-- Manager&#39;s Tenure&#45;&gt;Manager Quality -->\n",
       "<g id=\"edge8\" class=\"edge\">\n",
       "<title>Manager&#39;s Tenure&#45;&gt;Manager Quality</title>\n",
       "<path fill=\"none\" stroke=\"black\" d=\"M499.99,-216.76C517.35,-207.05 539.59,-194.59 558.3,-184.11\"/>\n",
       "<polygon fill=\"black\" stroke=\"black\" points=\"560.15,-187.09 567.17,-179.15 556.73,-180.98 560.15,-187.09\"/>\n",
       "</g>\n",
       "<!-- Manager&#39;s Education Level -->\n",
       "<g id=\"node10\" class=\"node\">\n",
       "<title>Manager&#39;s Education Level</title>\n",
       "<ellipse fill=\"none\" stroke=\"black\" cx=\"721\" cy=\"-234\" rx=\"137.28\" ry=\"18\"/>\n",
       "<text text-anchor=\"middle\" x=\"721\" y=\"-230.3\" font-family=\"Times,serif\" font-size=\"14.00\">Manager&#39;s Education Level</text>\n",
       "</g>\n",
       "<!-- Manager&#39;s Education Level&#45;&gt;Manager Quality -->\n",
       "<g id=\"edge9\" class=\"edge\">\n",
       "<title>Manager&#39;s Education Level&#45;&gt;Manager Quality</title>\n",
       "<path fill=\"none\" stroke=\"black\" d=\"M691.38,-216.41C674.13,-206.75 652.21,-194.48 633.74,-184.13\"/>\n",
       "<polygon fill=\"black\" stroke=\"black\" points=\"635.41,-181.06 624.98,-179.23 631.99,-187.17 635.41,-181.06\"/>\n",
       "</g>\n",
       "<!-- Training&#45;&gt;Engagement -->\n",
       "<g id=\"edge11\" class=\"edge\">\n",
       "<title>Training&#45;&gt;Engagement</title>\n",
       "<path fill=\"none\" stroke=\"black\" d=\"M703.44,-72.05C707.92,-64.01 713.39,-54.2 718.39,-45.23\"/>\n",
       "<polygon fill=\"black\" stroke=\"black\" points=\"721.57,-46.71 723.38,-36.28 715.45,-43.31 721.57,-46.71\"/>\n",
       "</g>\n",
       "</g>\n",
       "</svg>\n"
      ],
      "text/plain": [
       "<graphviz.graphs.Digraph at 0xffff672e15d0>"
      ]
     },
     "execution_count": 30,
     "metadata": {},
     "output_type": "execute_result"
    }
   ],
   "source": [
    "g = gr.Digraph()\n",
    "g.edge(\"X1\", \"U\")\n",
    "g.edge(\"U\", \"X2\")\n",
    "g.edge(\"U\", \"T\")\n",
    "g.edge(\"T\", \"Y\")\n",
    "g.edge(\"U\", \"Y\")\n",
    "\n",
    "g.edge(\"Manager Quality\", \"Team's Attrition\")\n",
    "g.edge(\"Manager Quality\", \"Team's Past Performance\")\n",
    "g.edge(\"Manager's Tenure\", \"Manager Quality\")\n",
    "g.edge(\"Manager's Education Level\", \"Manager Quality\")\n",
    "\n",
    "g.edge(\"Manager Quality\", \"Training\")\n",
    "g.edge(\"Training\", \"Engagement\")\n",
    "g.edge(\"Manager Quality\", \"Engagement\")\n",
    "\n",
    "g"
   ]
  },
  {
   "cell_type": "markdown",
   "metadata": {},
   "source": [
    "### Randomization Revisited\n"
   ]
  },
  {
   "cell_type": "code",
   "execution_count": 31,
   "metadata": {
    "ExecuteTime": {
     "end_time": "2023-06-25T15:09:32.361584Z",
     "start_time": "2023-06-25T15:09:32.160291Z"
    },
    "tags": [
     "hide-input"
    ]
   },
   "outputs": [
    {
     "data": {
      "image/svg+xml": [
       "<?xml version=\"1.0\" encoding=\"UTF-8\" standalone=\"no\"?>\n",
       "<!DOCTYPE svg PUBLIC \"-//W3C//DTD SVG 1.1//EN\"\n",
       " \"http://www.w3.org/Graphics/SVG/1.1/DTD/svg11.dtd\">\n",
       "<!-- Generated by graphviz version 2.43.0 (0)\n",
       " -->\n",
       "<!-- Title: %3 Pages: 1 -->\n",
       "<svg width=\"242pt\" height=\"98pt\"\n",
       " viewBox=\"0.00 0.00 242.00 98.00\" xmlns=\"http://www.w3.org/2000/svg\" xmlns:xlink=\"http://www.w3.org/1999/xlink\">\n",
       "<g id=\"graph0\" class=\"graph\" transform=\"scale(1 1) rotate(0) translate(4 94)\">\n",
       "<title>%3</title>\n",
       "<polygon fill=\"white\" stroke=\"transparent\" points=\"-4,4 -4,-94 238,-94 238,4 -4,4\"/>\n",
       "<!-- rnd -->\n",
       "<g id=\"node1\" class=\"node\">\n",
       "<title>rnd</title>\n",
       "<ellipse fill=\"none\" stroke=\"black\" cx=\"27\" cy=\"-72\" rx=\"27\" ry=\"18\"/>\n",
       "<text text-anchor=\"middle\" x=\"27\" y=\"-68.3\" font-family=\"Times,serif\" font-size=\"14.00\">rnd</text>\n",
       "</g>\n",
       "<!-- T -->\n",
       "<g id=\"node2\" class=\"node\">\n",
       "<title>T</title>\n",
       "<ellipse fill=\"none\" stroke=\"black\" cx=\"117\" cy=\"-72\" rx=\"27\" ry=\"18\"/>\n",
       "<text text-anchor=\"middle\" x=\"117\" y=\"-68.3\" font-family=\"Times,serif\" font-size=\"14.00\">T</text>\n",
       "</g>\n",
       "<!-- rnd&#45;&gt;T -->\n",
       "<g id=\"edge1\" class=\"edge\">\n",
       "<title>rnd&#45;&gt;T</title>\n",
       "<path fill=\"none\" stroke=\"black\" d=\"M54.4,-72C62.39,-72 71.31,-72 79.82,-72\"/>\n",
       "<polygon fill=\"black\" stroke=\"black\" points=\"79.92,-75.5 89.92,-72 79.92,-68.5 79.92,-75.5\"/>\n",
       "</g>\n",
       "<!-- Y -->\n",
       "<g id=\"node3\" class=\"node\">\n",
       "<title>Y</title>\n",
       "<ellipse fill=\"none\" stroke=\"black\" cx=\"207\" cy=\"-45\" rx=\"27\" ry=\"18\"/>\n",
       "<text text-anchor=\"middle\" x=\"207\" y=\"-41.3\" font-family=\"Times,serif\" font-size=\"14.00\">Y</text>\n",
       "</g>\n",
       "<!-- T&#45;&gt;Y -->\n",
       "<g id=\"edge2\" class=\"edge\">\n",
       "<title>T&#45;&gt;Y</title>\n",
       "<path fill=\"none\" stroke=\"black\" d=\"M142.05,-64.62C151.44,-61.74 162.36,-58.39 172.5,-55.28\"/>\n",
       "<polygon fill=\"black\" stroke=\"black\" points=\"173.75,-58.55 182.29,-52.28 171.7,-51.86 173.75,-58.55\"/>\n",
       "</g>\n",
       "<!-- U -->\n",
       "<g id=\"node4\" class=\"node\">\n",
       "<title>U</title>\n",
       "<ellipse fill=\"none\" stroke=\"black\" cx=\"117\" cy=\"-18\" rx=\"27\" ry=\"18\"/>\n",
       "<text text-anchor=\"middle\" x=\"117\" y=\"-14.3\" font-family=\"Times,serif\" font-size=\"14.00\">U</text>\n",
       "</g>\n",
       "<!-- U&#45;&gt;Y -->\n",
       "<g id=\"edge3\" class=\"edge\">\n",
       "<title>U&#45;&gt;Y</title>\n",
       "<path fill=\"none\" stroke=\"black\" d=\"M142.05,-25.38C151.44,-28.26 162.36,-31.61 172.5,-34.72\"/>\n",
       "<polygon fill=\"black\" stroke=\"black\" points=\"171.7,-38.14 182.29,-37.72 173.75,-31.45 171.7,-38.14\"/>\n",
       "</g>\n",
       "</g>\n",
       "</svg>\n"
      ],
      "text/plain": [
       "<graphviz.graphs.Digraph at 0xffff676b7410>"
      ]
     },
     "execution_count": 31,
     "metadata": {},
     "output_type": "execute_result"
    }
   ],
   "source": [
    "g = gr.Digraph(graph_attr={\"rankdir\":\"LR\"})\n",
    "g.edge(\"rnd\", \"T\")\n",
    "g.edge(\"T\", \"Y\")\n",
    "g.edge(\"U\", \"Y\")\n",
    "\n",
    "g"
   ]
  },
  {
   "cell_type": "markdown",
   "metadata": {},
   "source": [
    "## Selection Bias\n",
    " \n",
    "### Conditioning on a Collider\n"
   ]
  },
  {
   "cell_type": "code",
   "execution_count": 32,
   "metadata": {
    "ExecuteTime": {
     "end_time": "2023-06-25T15:09:32.574282Z",
     "start_time": "2023-06-25T15:09:32.363619Z"
    },
    "tags": [
     "hide-input"
    ]
   },
   "outputs": [
    {
     "data": {
      "image/svg+xml": [
       "<?xml version=\"1.0\" encoding=\"UTF-8\" standalone=\"no\"?>\n",
       "<!DOCTYPE svg PUBLIC \"-//W3C//DTD SVG 1.1//EN\"\n",
       " \"http://www.w3.org/Graphics/SVG/1.1/DTD/svg11.dtd\">\n",
       "<!-- Generated by graphviz version 2.43.0 (0)\n",
       " -->\n",
       "<!-- Title: %3 Pages: 1 -->\n",
       "<svg width=\"662pt\" height=\"180pt\"\n",
       " viewBox=\"0.00 0.00 661.95 180.00\" xmlns=\"http://www.w3.org/2000/svg\" xmlns:xlink=\"http://www.w3.org/1999/xlink\">\n",
       "<g id=\"graph0\" class=\"graph\" transform=\"scale(1 1) rotate(0) translate(4 176)\">\n",
       "<title>%3</title>\n",
       "<polygon fill=\"white\" stroke=\"transparent\" points=\"-4,4 -4,-176 657.95,-176 657.95,4 -4,4\"/>\n",
       "<!-- T -->\n",
       "<g id=\"node1\" class=\"node\">\n",
       "<title>T</title>\n",
       "<ellipse fill=\"none\" stroke=\"black\" cx=\"32.5\" cy=\"-50\" rx=\"27\" ry=\"18\"/>\n",
       "<text text-anchor=\"middle\" x=\"32.5\" y=\"-46.3\" font-family=\"Times,serif\" font-size=\"14.00\">T</text>\n",
       "</g>\n",
       "<!-- S -->\n",
       "<g id=\"node2\" class=\"node\">\n",
       "<title>S</title>\n",
       "<ellipse fill=\"lightgrey\" stroke=\"lightgrey\" cx=\"393.07\" cy=\"-18\" rx=\"27\" ry=\"18\"/>\n",
       "<text text-anchor=\"middle\" x=\"393.07\" y=\"-14.3\" font-family=\"Times,serif\" font-size=\"14.00\">S</text>\n",
       "</g>\n",
       "<!-- T&#45;&gt;S -->\n",
       "<g id=\"edge1\" class=\"edge\">\n",
       "<title>T&#45;&gt;S</title>\n",
       "<path fill=\"none\" stroke=\"black\" d=\"M59.67,-50.67C99.35,-51.4 177.09,-51.67 242.68,-45 282.32,-40.97 327.24,-32.28 357.38,-25.85\"/>\n",
       "<polygon fill=\"black\" stroke=\"black\" points=\"358.36,-29.21 367.39,-23.67 356.88,-22.37 358.36,-29.21\"/>\n",
       "</g>\n",
       "<!-- Y -->\n",
       "<g id=\"node3\" class=\"node\">\n",
       "<title>Y</title>\n",
       "<ellipse fill=\"none\" stroke=\"black\" cx=\"171.84\" cy=\"-18\" rx=\"27\" ry=\"18\"/>\n",
       "<text text-anchor=\"middle\" x=\"171.84\" y=\"-14.3\" font-family=\"Times,serif\" font-size=\"14.00\">Y</text>\n",
       "</g>\n",
       "<!-- T&#45;&gt;Y -->\n",
       "<g id=\"edge2\" class=\"edge\">\n",
       "<title>T&#45;&gt;Y</title>\n",
       "<path fill=\"none\" stroke=\"black\" d=\"M58.37,-44.21C80.15,-39.13 112.02,-31.71 136.27,-26.05\"/>\n",
       "<polygon fill=\"black\" stroke=\"black\" points=\"137.21,-29.43 146.15,-23.75 135.62,-22.61 137.21,-29.43\"/>\n",
       "</g>\n",
       "<!-- Y&#45;&gt;S -->\n",
       "<g id=\"edge3\" class=\"edge\">\n",
       "<title>Y&#45;&gt;S</title>\n",
       "<path fill=\"none\" stroke=\"black\" d=\"M198.85,-18C237.8,-18 311.45,-18 355.71,-18\"/>\n",
       "<polygon fill=\"black\" stroke=\"black\" points=\"355.75,-21.5 365.75,-18 355.75,-14.5 355.75,-21.5\"/>\n",
       "</g>\n",
       "<!-- RND -->\n",
       "<g id=\"node4\" class=\"node\">\n",
       "<title>RND</title>\n",
       "<ellipse fill=\"none\" stroke=\"black\" cx=\"32.5\" cy=\"-123\" rx=\"32.49\" ry=\"18\"/>\n",
       "<text text-anchor=\"middle\" x=\"32.5\" y=\"-119.3\" font-family=\"Times,serif\" font-size=\"14.00\">RND</text>\n",
       "</g>\n",
       "<!-- New Feature -->\n",
       "<g id=\"node5\" class=\"node\">\n",
       "<title>New Feature</title>\n",
       "<ellipse fill=\"none\" stroke=\"black\" cx=\"171.84\" cy=\"-123\" rx=\"70.69\" ry=\"18\"/>\n",
       "<text text-anchor=\"middle\" x=\"171.84\" y=\"-119.3\" font-family=\"Times,serif\" font-size=\"14.00\">New Feature</text>\n",
       "</g>\n",
       "<!-- RND&#45;&gt;New Feature -->\n",
       "<g id=\"edge4\" class=\"edge\">\n",
       "<title>RND&#45;&gt;New Feature</title>\n",
       "<path fill=\"none\" stroke=\"black\" d=\"M65.01,-123C72.83,-123 81.58,-123 90.6,-123\"/>\n",
       "<polygon fill=\"black\" stroke=\"black\" points=\"90.87,-126.5 100.87,-123 90.87,-119.5 90.87,-126.5\"/>\n",
       "</g>\n",
       "<!-- Customer Satisfaction -->\n",
       "<g id=\"node6\" class=\"node\">\n",
       "<title>Customer Satisfaction</title>\n",
       "<ellipse fill=\"none\" stroke=\"black\" cx=\"393.07\" cy=\"-146\" rx=\"114.28\" ry=\"18\"/>\n",
       "<text text-anchor=\"middle\" x=\"393.07\" y=\"-142.3\" font-family=\"Times,serif\" font-size=\"14.00\">Customer Satisfaction</text>\n",
       "</g>\n",
       "<!-- New Feature&#45;&gt;Customer Satisfaction -->\n",
       "<g id=\"edge5\" class=\"edge\">\n",
       "<title>New Feature&#45;&gt;Customer Satisfaction</title>\n",
       "<path fill=\"none\" stroke=\"black\" d=\"M237.73,-129.81C253.2,-131.43 270.11,-133.21 286.88,-134.96\"/>\n",
       "<polygon fill=\"black\" stroke=\"black\" points=\"286.98,-138.49 297.29,-136.06 287.71,-131.53 286.98,-138.49\"/>\n",
       "</g>\n",
       "<!-- Response -->\n",
       "<g id=\"node8\" class=\"node\">\n",
       "<title>Response</title>\n",
       "<ellipse fill=\"lightgrey\" stroke=\"lightgrey\" cx=\"598.71\" cy=\"-100\" rx=\"55.49\" ry=\"18\"/>\n",
       "<text text-anchor=\"middle\" x=\"598.71\" y=\"-96.3\" font-family=\"Times,serif\" font-size=\"14.00\">Response</text>\n",
       "</g>\n",
       "<!-- New Feature&#45;&gt;Response -->\n",
       "<g id=\"edge8\" class=\"edge\">\n",
       "<title>New Feature&#45;&gt;Response</title>\n",
       "<path fill=\"none\" stroke=\"black\" d=\"M241.57,-119.28C322.26,-114.91 455.03,-107.72 533.64,-103.47\"/>\n",
       "<polygon fill=\"black\" stroke=\"black\" points=\"534.1,-106.95 543.89,-102.91 533.72,-99.96 534.1,-106.95\"/>\n",
       "</g>\n",
       "<!-- NPS -->\n",
       "<g id=\"node7\" class=\"node\">\n",
       "<title>NPS</title>\n",
       "<ellipse fill=\"none\" stroke=\"black\" cx=\"598.71\" cy=\"-154\" rx=\"31.4\" ry=\"18\"/>\n",
       "<text text-anchor=\"middle\" x=\"598.71\" y=\"-150.3\" font-family=\"Times,serif\" font-size=\"14.00\">NPS</text>\n",
       "</g>\n",
       "<!-- Customer Satisfaction&#45;&gt;NPS -->\n",
       "<g id=\"edge6\" class=\"edge\">\n",
       "<title>Customer Satisfaction&#45;&gt;NPS</title>\n",
       "<path fill=\"none\" stroke=\"black\" d=\"M504.23,-150.33C523.12,-151.07 541.61,-151.8 557.1,-152.4\"/>\n",
       "<polygon fill=\"black\" stroke=\"black\" points=\"557.19,-155.91 567.32,-152.81 557.46,-148.92 557.19,-155.91\"/>\n",
       "</g>\n",
       "<!-- Customer Satisfaction&#45;&gt;Response -->\n",
       "<g id=\"edge7\" class=\"edge\">\n",
       "<title>Customer Satisfaction&#45;&gt;Response</title>\n",
       "<path fill=\"none\" stroke=\"black\" d=\"M459.34,-131.26C486.25,-125.18 517.08,-118.21 542.81,-112.4\"/>\n",
       "<polygon fill=\"black\" stroke=\"black\" points=\"543.77,-115.77 552.76,-110.15 542.23,-108.94 543.77,-115.77\"/>\n",
       "</g>\n",
       "</g>\n",
       "</svg>\n"
      ],
      "text/plain": [
       "<graphviz.graphs.Digraph at 0xffff672fcf90>"
      ]
     },
     "execution_count": 32,
     "metadata": {},
     "output_type": "execute_result"
    }
   ],
   "source": [
    "g = gr.Digraph(graph_attr={\"rankdir\": \"LR\"})\n",
    "g.edge(\"T\", \"S\")\n",
    "g.edge(\"T\", \"Y\")\n",
    "g.edge(\"Y\", \"S\")\n",
    "g.node(\"S\", color=\"lightgrey\", style=\"filled\")\n",
    "\n",
    "g.edge(\"RND\", \"New Feature\"),\n",
    "g.edge(\"New Feature\", \"Customer Satisfaction\"),\n",
    "g.edge(\"Customer Satisfaction\", \"NPS\"),\n",
    "g.edge(\"Customer Satisfaction\", \"Response\"),\n",
    "g.edge(\"New Feature\", \"Response\"),\n",
    "g.node(\"Response\", \"Response\", color=\"lightgrey\", style=\"filled\")\n",
    "\n",
    "g"
   ]
  },
  {
   "cell_type": "code",
   "execution_count": 33,
   "metadata": {
    "ExecuteTime": {
     "end_time": "2023-06-25T15:09:32.581278Z",
     "start_time": "2023-06-25T15:09:32.576515Z"
    }
   },
   "outputs": [
    {
     "data": {
      "text/plain": [
       "True"
      ]
     },
     "execution_count": 33,
     "metadata": {},
     "output_type": "execute_result"
    }
   ],
   "source": [
    "nps_model = nx.DiGraph([\n",
    "   (\"RND\", \"New Feature\"),\n",
    "#     (\"New Feature\", \"Customer Satisfaction\"),\n",
    "    (\"Customer Satisfaction\", \"NPS\"),\n",
    "    (\"Customer Satisfaction\", \"Response\"),\n",
    "    (\"New Feature\", \"Response\"),\n",
    "])\n",
    "\n",
    "\n",
    "not(nx.d_separated(nps_model, {\"NPS\"}, {\"New Feature\"}, {\"Response\"}))"
   ]
  },
  {
   "cell_type": "code",
   "execution_count": 34,
   "metadata": {
    "ExecuteTime": {
     "end_time": "2023-06-25T15:09:32.622363Z",
     "start_time": "2023-06-25T15:09:32.582667Z"
    },
    "scrolled": true,
    "tags": [
     "hide-input"
    ]
   },
   "outputs": [
    {
     "data": {
      "text/html": [
       "<div>\n",
       "<style scoped>\n",
       "    .dataframe tbody tr th:only-of-type {\n",
       "        vertical-align: middle;\n",
       "    }\n",
       "\n",
       "    .dataframe tbody tr th {\n",
       "        vertical-align: top;\n",
       "    }\n",
       "\n",
       "    .dataframe thead th {\n",
       "        text-align: right;\n",
       "    }\n",
       "</style>\n",
       "<table border=\"1\" class=\"dataframe\">\n",
       "  <thead>\n",
       "    <tr style=\"text-align: right;\">\n",
       "      <th></th>\n",
       "      <th>responded</th>\n",
       "      <th>nps_0</th>\n",
       "      <th>nps_1</th>\n",
       "      <th>nps</th>\n",
       "    </tr>\n",
       "    <tr>\n",
       "      <th>new_feature</th>\n",
       "      <th></th>\n",
       "      <th></th>\n",
       "      <th></th>\n",
       "      <th></th>\n",
       "    </tr>\n",
       "  </thead>\n",
       "  <tbody>\n",
       "    <tr>\n",
       "      <th>0</th>\n",
       "      <td>0.183715</td>\n",
       "      <td>-0.005047</td>\n",
       "      <td>0.395015</td>\n",
       "      <td>-0.005047</td>\n",
       "    </tr>\n",
       "    <tr>\n",
       "      <th>1</th>\n",
       "      <td>0.639342</td>\n",
       "      <td>-0.005239</td>\n",
       "      <td>0.401082</td>\n",
       "      <td>0.401082</td>\n",
       "    </tr>\n",
       "  </tbody>\n",
       "</table>\n",
       "</div>"
      ],
      "text/plain": [
       "             responded     nps_0     nps_1       nps\n",
       "new_feature                                         \n",
       "0             0.183715 -0.005047  0.395015 -0.005047\n",
       "1             0.639342 -0.005239  0.401082  0.401082"
      ]
     },
     "execution_count": 34,
     "metadata": {},
     "output_type": "execute_result"
    }
   ],
   "source": [
    "np.random.seed(2)\n",
    "n = 100000\n",
    "new_feature = np.random.binomial(1, 0.5, n)\n",
    "\n",
    "satisfaction_0 = np.random.normal(0, 0.5, n)\n",
    "satisfaction_1 = satisfaction_0 + 0.4\n",
    "satisfaction = new_feature*satisfaction_1 + (1-new_feature)*satisfaction_0\n",
    "\n",
    "nps_0 = np.random.normal(satisfaction_0, 1)\n",
    "nps_1 = np.random.normal(satisfaction_1, 1)\n",
    "nps = new_feature*nps_1 + (1-new_feature)*nps_0\n",
    "\n",
    "\n",
    "responded  = (np.random.normal(0 + new_feature + satisfaction, 1) > 1).astype(int)\n",
    "\n",
    "tr_df = pd.DataFrame(dict(new_feature=new_feature,\n",
    "                          responded=responded,\n",
    "                          nps_0=nps_0,\n",
    "                          nps_1=nps_1,\n",
    "                          nps=nps))\n",
    "\n",
    "tr_df_measurable = pd.DataFrame(dict(new_feature=new_feature,\n",
    "                                     responded=responded,\n",
    "                                     nps_0=np.nan,\n",
    "                                     nps_1=np.nan,\n",
    "                                     nps=np.where(responded, nps, np.nan)))\n",
    "\n",
    "tr_df.groupby(\"new_feature\").mean()"
   ]
  },
  {
   "cell_type": "code",
   "execution_count": 35,
   "metadata": {
    "ExecuteTime": {
     "end_time": "2023-06-25T15:09:32.634960Z",
     "start_time": "2023-06-25T15:09:32.624532Z"
    },
    "tags": [
     "hide-input"
    ]
   },
   "outputs": [
    {
     "data": {
      "text/html": [
       "<div>\n",
       "<style scoped>\n",
       "    .dataframe tbody tr th:only-of-type {\n",
       "        vertical-align: middle;\n",
       "    }\n",
       "\n",
       "    .dataframe tbody tr th {\n",
       "        vertical-align: top;\n",
       "    }\n",
       "\n",
       "    .dataframe thead th {\n",
       "        text-align: right;\n",
       "    }\n",
       "</style>\n",
       "<table border=\"1\" class=\"dataframe\">\n",
       "  <thead>\n",
       "    <tr style=\"text-align: right;\">\n",
       "      <th></th>\n",
       "      <th>responded</th>\n",
       "      <th>nps_0</th>\n",
       "      <th>nps_1</th>\n",
       "      <th>nps</th>\n",
       "    </tr>\n",
       "    <tr>\n",
       "      <th>new_feature</th>\n",
       "      <th></th>\n",
       "      <th></th>\n",
       "      <th></th>\n",
       "      <th></th>\n",
       "    </tr>\n",
       "  </thead>\n",
       "  <tbody>\n",
       "    <tr>\n",
       "      <th>0</th>\n",
       "      <td>0.183715</td>\n",
       "      <td>NaN</td>\n",
       "      <td>NaN</td>\n",
       "      <td>NaN</td>\n",
       "    </tr>\n",
       "    <tr>\n",
       "      <th>1</th>\n",
       "      <td>0.639342</td>\n",
       "      <td>NaN</td>\n",
       "      <td>NaN</td>\n",
       "      <td>NaN</td>\n",
       "    </tr>\n",
       "  </tbody>\n",
       "</table>\n",
       "</div>"
      ],
      "text/plain": [
       "             responded  nps_0  nps_1  nps\n",
       "new_feature                              \n",
       "0             0.183715    NaN    NaN  NaN\n",
       "1             0.639342    NaN    NaN  NaN"
      ]
     },
     "execution_count": 35,
     "metadata": {},
     "output_type": "execute_result"
    }
   ],
   "source": [
    "tr_df_measurable.groupby(\"new_feature\").mean().assign(**{\"nps\": np.nan})"
   ]
  },
  {
   "cell_type": "code",
   "execution_count": 36,
   "metadata": {
    "ExecuteTime": {
     "end_time": "2023-06-25T15:09:32.647398Z",
     "start_time": "2023-06-25T15:09:32.636260Z"
    },
    "tags": [
     "hide-input"
    ]
   },
   "outputs": [
    {
     "data": {
      "text/html": [
       "<div>\n",
       "<style scoped>\n",
       "    .dataframe tbody tr th:only-of-type {\n",
       "        vertical-align: middle;\n",
       "    }\n",
       "\n",
       "    .dataframe tbody tr th {\n",
       "        vertical-align: top;\n",
       "    }\n",
       "\n",
       "    .dataframe thead th {\n",
       "        text-align: right;\n",
       "    }\n",
       "</style>\n",
       "<table border=\"1\" class=\"dataframe\">\n",
       "  <thead>\n",
       "    <tr style=\"text-align: right;\">\n",
       "      <th></th>\n",
       "      <th></th>\n",
       "      <th>nps_0</th>\n",
       "      <th>nps_1</th>\n",
       "      <th>nps</th>\n",
       "    </tr>\n",
       "    <tr>\n",
       "      <th>responded</th>\n",
       "      <th>new_feature</th>\n",
       "      <th></th>\n",
       "      <th></th>\n",
       "      <th></th>\n",
       "    </tr>\n",
       "  </thead>\n",
       "  <tbody>\n",
       "    <tr>\n",
       "      <th rowspan=\"2\" valign=\"top\">0</th>\n",
       "      <th>0</th>\n",
       "      <td>NaN</td>\n",
       "      <td>NaN</td>\n",
       "      <td>NaN</td>\n",
       "    </tr>\n",
       "    <tr>\n",
       "      <th>1</th>\n",
       "      <td>NaN</td>\n",
       "      <td>NaN</td>\n",
       "      <td>NaN</td>\n",
       "    </tr>\n",
       "    <tr>\n",
       "      <th rowspan=\"2\" valign=\"top\">1</th>\n",
       "      <th>0</th>\n",
       "      <td>NaN</td>\n",
       "      <td>NaN</td>\n",
       "      <td>0.314073</td>\n",
       "    </tr>\n",
       "    <tr>\n",
       "      <th>1</th>\n",
       "      <td>NaN</td>\n",
       "      <td>NaN</td>\n",
       "      <td>0.536106</td>\n",
       "    </tr>\n",
       "  </tbody>\n",
       "</table>\n",
       "</div>"
      ],
      "text/plain": [
       "                       nps_0  nps_1       nps\n",
       "responded new_feature                        \n",
       "0         0              NaN    NaN       NaN\n",
       "          1              NaN    NaN       NaN\n",
       "1         0              NaN    NaN  0.314073\n",
       "          1              NaN    NaN  0.536106"
      ]
     },
     "execution_count": 36,
     "metadata": {},
     "output_type": "execute_result"
    }
   ],
   "source": [
    "tr_df_measurable.groupby([\"responded\", \"new_feature\"]).mean()"
   ]
  },
  {
   "cell_type": "code",
   "execution_count": 37,
   "metadata": {
    "ExecuteTime": {
     "end_time": "2023-06-25T15:09:32.658749Z",
     "start_time": "2023-06-25T15:09:32.648693Z"
    },
    "tags": [
     "hide-input"
    ]
   },
   "outputs": [
    {
     "data": {
      "text/html": [
       "<div>\n",
       "<style scoped>\n",
       "    .dataframe tbody tr th:only-of-type {\n",
       "        vertical-align: middle;\n",
       "    }\n",
       "\n",
       "    .dataframe tbody tr th {\n",
       "        vertical-align: top;\n",
       "    }\n",
       "\n",
       "    .dataframe thead th {\n",
       "        text-align: right;\n",
       "    }\n",
       "</style>\n",
       "<table border=\"1\" class=\"dataframe\">\n",
       "  <thead>\n",
       "    <tr style=\"text-align: right;\">\n",
       "      <th></th>\n",
       "      <th></th>\n",
       "      <th>nps_0</th>\n",
       "      <th>nps_1</th>\n",
       "      <th>nps</th>\n",
       "    </tr>\n",
       "    <tr>\n",
       "      <th>responded</th>\n",
       "      <th>new_feature</th>\n",
       "      <th></th>\n",
       "      <th></th>\n",
       "      <th></th>\n",
       "    </tr>\n",
       "  </thead>\n",
       "  <tbody>\n",
       "    <tr>\n",
       "      <th rowspan=\"2\" valign=\"top\">0</th>\n",
       "      <th>0</th>\n",
       "      <td>-0.076869</td>\n",
       "      <td>0.320616</td>\n",
       "      <td>-0.076869</td>\n",
       "    </tr>\n",
       "    <tr>\n",
       "      <th>1</th>\n",
       "      <td>-0.234852</td>\n",
       "      <td>0.161725</td>\n",
       "      <td>0.161725</td>\n",
       "    </tr>\n",
       "    <tr>\n",
       "      <th rowspan=\"2\" valign=\"top\">1</th>\n",
       "      <th>0</th>\n",
       "      <td>0.314073</td>\n",
       "      <td>0.725585</td>\n",
       "      <td>0.314073</td>\n",
       "    </tr>\n",
       "    <tr>\n",
       "      <th>1</th>\n",
       "      <td>0.124287</td>\n",
       "      <td>0.536106</td>\n",
       "      <td>0.536106</td>\n",
       "    </tr>\n",
       "  </tbody>\n",
       "</table>\n",
       "</div>"
      ],
      "text/plain": [
       "                          nps_0     nps_1       nps\n",
       "responded new_feature                              \n",
       "0         0           -0.076869  0.320616 -0.076869\n",
       "          1           -0.234852  0.161725  0.161725\n",
       "1         0            0.314073  0.725585  0.314073\n",
       "          1            0.124287  0.536106  0.536106"
      ]
     },
     "execution_count": 37,
     "metadata": {},
     "output_type": "execute_result"
    }
   ],
   "source": [
    "tr_df.groupby([\"responded\", \"new_feature\"]).mean()"
   ]
  },
  {
   "cell_type": "markdown",
   "metadata": {},
   "source": [
    "### Adjusting for Selection Bias\n"
   ]
  },
  {
   "cell_type": "code",
   "execution_count": 38,
   "metadata": {
    "ExecuteTime": {
     "end_time": "2023-06-25T15:09:32.862849Z",
     "start_time": "2023-06-25T15:09:32.660473Z"
    },
    "tags": [
     "hide-input"
    ]
   },
   "outputs": [
    {
     "data": {
      "image/svg+xml": [
       "<?xml version=\"1.0\" encoding=\"UTF-8\" standalone=\"no\"?>\n",
       "<!DOCTYPE svg PUBLIC \"-//W3C//DTD SVG 1.1//EN\"\n",
       " \"http://www.w3.org/Graphics/SVG/1.1/DTD/svg11.dtd\">\n",
       "<!-- Generated by graphviz version 2.43.0 (0)\n",
       " -->\n",
       "<!-- Title: %3 Pages: 1 -->\n",
       "<svg width=\"638pt\" height=\"188pt\"\n",
       " viewBox=\"0.00 0.00 638.29 188.00\" xmlns=\"http://www.w3.org/2000/svg\" xmlns:xlink=\"http://www.w3.org/1999/xlink\">\n",
       "<g id=\"graph0\" class=\"graph\" transform=\"scale(1 1) rotate(0) translate(4 184)\">\n",
       "<title>%3</title>\n",
       "<polygon fill=\"white\" stroke=\"transparent\" points=\"-4,4 -4,-184 634.29,-184 634.29,4 -4,4\"/>\n",
       "<!-- U -->\n",
       "<g id=\"node1\" class=\"node\">\n",
       "<title>U</title>\n",
       "<ellipse fill=\"none\" stroke=\"black\" cx=\"54\" cy=\"-162\" rx=\"27\" ry=\"18\"/>\n",
       "<text text-anchor=\"middle\" x=\"54\" y=\"-158.3\" font-family=\"Times,serif\" font-size=\"14.00\">U</text>\n",
       "</g>\n",
       "<!-- X -->\n",
       "<g id=\"node2\" class=\"node\">\n",
       "<title>X</title>\n",
       "<ellipse fill=\"none\" stroke=\"black\" cx=\"27\" cy=\"-90\" rx=\"27\" ry=\"18\"/>\n",
       "<text text-anchor=\"middle\" x=\"27\" y=\"-86.3\" font-family=\"Times,serif\" font-size=\"14.00\">X</text>\n",
       "</g>\n",
       "<!-- U&#45;&gt;X -->\n",
       "<g id=\"edge1\" class=\"edge\">\n",
       "<title>U&#45;&gt;X</title>\n",
       "<path fill=\"none\" stroke=\"black\" d=\"M47.6,-144.41C44.49,-136.34 40.67,-126.43 37.17,-117.35\"/>\n",
       "<polygon fill=\"black\" stroke=\"black\" points=\"40.4,-116.03 33.54,-107.96 33.87,-118.55 40.4,-116.03\"/>\n",
       "</g>\n",
       "<!-- Y -->\n",
       "<g id=\"node4\" class=\"node\">\n",
       "<title>Y</title>\n",
       "<ellipse fill=\"none\" stroke=\"black\" cx=\"99\" cy=\"-90\" rx=\"27\" ry=\"18\"/>\n",
       "<text text-anchor=\"middle\" x=\"99\" y=\"-86.3\" font-family=\"Times,serif\" font-size=\"14.00\">Y</text>\n",
       "</g>\n",
       "<!-- U&#45;&gt;Y -->\n",
       "<g id=\"edge3\" class=\"edge\">\n",
       "<title>U&#45;&gt;Y</title>\n",
       "<path fill=\"none\" stroke=\"black\" d=\"M64.21,-145.12C69.85,-136.34 76.97,-125.26 83.3,-115.42\"/>\n",
       "<polygon fill=\"black\" stroke=\"black\" points=\"86.37,-117.13 88.83,-106.82 80.48,-113.34 86.37,-117.13\"/>\n",
       "</g>\n",
       "<!-- S -->\n",
       "<g id=\"node3\" class=\"node\">\n",
       "<title>S</title>\n",
       "<ellipse fill=\"lightgrey\" stroke=\"lightgrey\" cx=\"114\" cy=\"-18\" rx=\"27\" ry=\"18\"/>\n",
       "<text text-anchor=\"middle\" x=\"114\" y=\"-14.3\" font-family=\"Times,serif\" font-size=\"14.00\">S</text>\n",
       "</g>\n",
       "<!-- X&#45;&gt;S -->\n",
       "<g id=\"edge2\" class=\"edge\">\n",
       "<title>X&#45;&gt;S</title>\n",
       "<path fill=\"none\" stroke=\"black\" d=\"M43.77,-75.5C56.65,-65.14 74.63,-50.67 89.18,-38.97\"/>\n",
       "<polygon fill=\"black\" stroke=\"black\" points=\"91.68,-41.45 97.28,-32.46 87.29,-36 91.68,-41.45\"/>\n",
       "</g>\n",
       "<!-- T -->\n",
       "<g id=\"node5\" class=\"node\">\n",
       "<title>T</title>\n",
       "<ellipse fill=\"none\" stroke=\"black\" cx=\"140\" cy=\"-162\" rx=\"27\" ry=\"18\"/>\n",
       "<text text-anchor=\"middle\" x=\"140\" y=\"-158.3\" font-family=\"Times,serif\" font-size=\"14.00\">T</text>\n",
       "</g>\n",
       "<!-- T&#45;&gt;S -->\n",
       "<g id=\"edge5\" class=\"edge\">\n",
       "<title>T&#45;&gt;S</title>\n",
       "<path fill=\"none\" stroke=\"black\" d=\"M140.65,-143.72C140.96,-125.62 140.39,-96.48 135,-72 132.98,-62.83 129.57,-53.18 126.09,-44.66\"/>\n",
       "<polygon fill=\"black\" stroke=\"black\" points=\"129.21,-43.07 122.03,-35.28 122.79,-45.85 129.21,-43.07\"/>\n",
       "</g>\n",
       "<!-- T&#45;&gt;Y -->\n",
       "<g id=\"edge4\" class=\"edge\">\n",
       "<title>T&#45;&gt;Y</title>\n",
       "<path fill=\"none\" stroke=\"black\" d=\"M130.49,-144.76C125.47,-136.19 119.2,-125.49 113.58,-115.9\"/>\n",
       "<polygon fill=\"black\" stroke=\"black\" points=\"116.53,-114.01 108.46,-107.15 110.49,-117.55 116.53,-114.01\"/>\n",
       "</g>\n",
       "<!-- New Feature -->\n",
       "<g id=\"node6\" class=\"node\">\n",
       "<title>New Feature</title>\n",
       "<ellipse fill=\"none\" stroke=\"black\" cx=\"295\" cy=\"-162\" rx=\"70.69\" ry=\"18\"/>\n",
       "<text text-anchor=\"middle\" x=\"295\" y=\"-158.3\" font-family=\"Times,serif\" font-size=\"14.00\">New Feature</text>\n",
       "</g>\n",
       "<!-- Customer Satisfaction -->\n",
       "<g id=\"node7\" class=\"node\">\n",
       "<title>Customer Satisfaction</title>\n",
       "<ellipse fill=\"none\" stroke=\"black\" cx=\"365\" cy=\"-90\" rx=\"114.28\" ry=\"18\"/>\n",
       "<text text-anchor=\"middle\" x=\"365\" y=\"-86.3\" font-family=\"Times,serif\" font-size=\"14.00\">Customer Satisfaction</text>\n",
       "</g>\n",
       "<!-- New Feature&#45;&gt;Customer Satisfaction -->\n",
       "<g id=\"edge6\" class=\"edge\">\n",
       "<title>New Feature&#45;&gt;Customer Satisfaction</title>\n",
       "<path fill=\"none\" stroke=\"black\" d=\"M311.59,-144.41C320.35,-135.65 331.27,-124.73 340.94,-115.06\"/>\n",
       "<polygon fill=\"black\" stroke=\"black\" points=\"343.45,-117.5 348.04,-107.96 338.5,-112.55 343.45,-117.5\"/>\n",
       "</g>\n",
       "<!-- Response -->\n",
       "<g id=\"node10\" class=\"node\">\n",
       "<title>Response</title>\n",
       "<ellipse fill=\"lightgrey\" stroke=\"lightgrey\" cx=\"262\" cy=\"-18\" rx=\"55.49\" ry=\"18\"/>\n",
       "<text text-anchor=\"middle\" x=\"262\" y=\"-14.3\" font-family=\"Times,serif\" font-size=\"14.00\">Response</text>\n",
       "</g>\n",
       "<!-- New Feature&#45;&gt;Response -->\n",
       "<g id=\"edge10\" class=\"edge\">\n",
       "<title>New Feature&#45;&gt;Response</title>\n",
       "<path fill=\"none\" stroke=\"black\" d=\"M271.91,-144.92C260.6,-135.6 248.13,-122.79 242,-108 233.61,-87.75 240.14,-63.39 247.9,-45.28\"/>\n",
       "<polygon fill=\"black\" stroke=\"black\" points=\"251.21,-46.47 252.26,-35.92 244.86,-43.51 251.21,-46.47\"/>\n",
       "</g>\n",
       "<!-- Unknown Stuff -->\n",
       "<g id=\"node8\" class=\"node\">\n",
       "<title>Unknown Stuff</title>\n",
       "<ellipse fill=\"none\" stroke=\"black\" cx=\"498\" cy=\"-162\" rx=\"79.89\" ry=\"18\"/>\n",
       "<text text-anchor=\"middle\" x=\"498\" y=\"-158.3\" font-family=\"Times,serif\" font-size=\"14.00\">Unknown Stuff</text>\n",
       "</g>\n",
       "<!-- Unknown Stuff&#45;&gt;Customer Satisfaction -->\n",
       "<g id=\"edge7\" class=\"edge\">\n",
       "<title>Unknown Stuff&#45;&gt;Customer Satisfaction</title>\n",
       "<path fill=\"none\" stroke=\"black\" d=\"M468.15,-145.29C449.56,-135.5 425.4,-122.79 405.14,-112.12\"/>\n",
       "<polygon fill=\"black\" stroke=\"black\" points=\"406.61,-108.95 396.14,-107.39 403.35,-115.14 406.61,-108.95\"/>\n",
       "</g>\n",
       "<!-- Time in App -->\n",
       "<g id=\"node9\" class=\"node\">\n",
       "<title>Time in App</title>\n",
       "<ellipse fill=\"none\" stroke=\"black\" cx=\"564\" cy=\"-90\" rx=\"66.09\" ry=\"18\"/>\n",
       "<text text-anchor=\"middle\" x=\"564\" y=\"-86.3\" font-family=\"Times,serif\" font-size=\"14.00\">Time in App</text>\n",
       "</g>\n",
       "<!-- Unknown Stuff&#45;&gt;Time in App -->\n",
       "<g id=\"edge8\" class=\"edge\">\n",
       "<title>Unknown Stuff&#45;&gt;Time in App</title>\n",
       "<path fill=\"none\" stroke=\"black\" d=\"M513.98,-144.05C522.16,-135.37 532.28,-124.64 541.26,-115.11\"/>\n",
       "<polygon fill=\"black\" stroke=\"black\" points=\"543.86,-117.47 548.17,-107.79 538.76,-112.66 543.86,-117.47\"/>\n",
       "</g>\n",
       "<!-- Time in App&#45;&gt;Response -->\n",
       "<g id=\"edge9\" class=\"edge\">\n",
       "<title>Time in App&#45;&gt;Response</title>\n",
       "<path fill=\"none\" stroke=\"black\" d=\"M515.14,-77.68C460.5,-65.01 372.25,-44.55 315.71,-31.45\"/>\n",
       "<polygon fill=\"black\" stroke=\"black\" points=\"316.41,-28.02 305.88,-29.17 314.83,-34.84 316.41,-28.02\"/>\n",
       "</g>\n",
       "</g>\n",
       "</svg>\n"
      ],
      "text/plain": [
       "<graphviz.graphs.Digraph at 0xffff67316350>"
      ]
     },
     "execution_count": 38,
     "metadata": {},
     "output_type": "execute_result"
    }
   ],
   "source": [
    "g = gr.Digraph()\n",
    "\n",
    "g.edge(\"U\", \"X\")\n",
    "g.edge(\"X\", \"S\")\n",
    "g.edge(\"U\", \"Y\")\n",
    "g.edge(\"T\", \"Y\")\n",
    "g.edge(\"T\", \"S\")\n",
    "g.node(\"S\", color=\"lightgrey\", style=\"filled\")\n",
    "\n",
    "g.edge(\"New Feature\", \"Customer Satisfaction\"),\n",
    "g.edge(\"Unknown Stuff\", \"Customer Satisfaction\"),\n",
    "g.edge(\"Unknown Stuff\", \"Time in App\"),\n",
    "g.edge(\"Time in App\", \"Response\"),\n",
    "g.edge(\"New Feature\", \"Response\"),\n",
    "\n",
    "g.node(\"Response\", \"Response\", color=\"lightgrey\", style=\"filled\")\n",
    "\n",
    "g"
   ]
  },
  {
   "cell_type": "code",
   "execution_count": 39,
   "metadata": {
    "ExecuteTime": {
     "end_time": "2023-06-25T15:09:33.077565Z",
     "start_time": "2023-06-25T15:09:32.864909Z"
    },
    "tags": [
     "hide-input"
    ]
   },
   "outputs": [
    {
     "data": {
      "image/svg+xml": [
       "<?xml version=\"1.0\" encoding=\"UTF-8\" standalone=\"no\"?>\n",
       "<!DOCTYPE svg PUBLIC \"-//W3C//DTD SVG 1.1//EN\"\n",
       " \"http://www.w3.org/Graphics/SVG/1.1/DTD/svg11.dtd\">\n",
       "<!-- Generated by graphviz version 2.43.0 (0)\n",
       " -->\n",
       "<!-- Title: %3 Pages: 1 -->\n",
       "<svg width=\"422pt\" height=\"266pt\"\n",
       " viewBox=\"0.00 0.00 422.00 266.27\" xmlns=\"http://www.w3.org/2000/svg\" xmlns:xlink=\"http://www.w3.org/1999/xlink\">\n",
       "<g id=\"graph0\" class=\"graph\" transform=\"scale(1 1) rotate(0) translate(4 262.27)\">\n",
       "<title>%3</title>\n",
       "<polygon fill=\"white\" stroke=\"transparent\" points=\"-4,4 -4,-262.27 418,-262.27 418,4 -4,4\"/>\n",
       "<!-- X1 -->\n",
       "<g id=\"node1\" class=\"node\">\n",
       "<title>X1</title>\n",
       "<ellipse fill=\"none\" stroke=\"black\" cx=\"27\" cy=\"-173.27\" rx=\"27\" ry=\"18\"/>\n",
       "<text text-anchor=\"middle\" x=\"27\" y=\"-169.57\" font-family=\"Times,serif\" font-size=\"14.00\">X1</text>\n",
       "</g>\n",
       "<!-- U -->\n",
       "<g id=\"node2\" class=\"node\">\n",
       "<title>U</title>\n",
       "<ellipse fill=\"none\" stroke=\"black\" cx=\"117\" cy=\"-173.27\" rx=\"27\" ry=\"18\"/>\n",
       "<text text-anchor=\"middle\" x=\"117\" y=\"-169.57\" font-family=\"Times,serif\" font-size=\"14.00\">U</text>\n",
       "</g>\n",
       "<!-- X1&#45;&gt;U -->\n",
       "<g id=\"edge1\" class=\"edge\">\n",
       "<title>X1&#45;&gt;U</title>\n",
       "<path fill=\"none\" stroke=\"black\" d=\"M54.4,-173.27C62.39,-173.27 71.31,-173.27 79.82,-173.27\"/>\n",
       "<polygon fill=\"black\" stroke=\"black\" points=\"79.92,-176.77 89.92,-173.27 79.92,-169.77 79.92,-176.77\"/>\n",
       "</g>\n",
       "<!-- X2 -->\n",
       "<g id=\"node3\" class=\"node\">\n",
       "<title>X2</title>\n",
       "<ellipse fill=\"none\" stroke=\"black\" cx=\"207\" cy=\"-240.27\" rx=\"27\" ry=\"18\"/>\n",
       "<text text-anchor=\"middle\" x=\"207\" y=\"-236.57\" font-family=\"Times,serif\" font-size=\"14.00\">X2</text>\n",
       "</g>\n",
       "<!-- U&#45;&gt;X2 -->\n",
       "<g id=\"edge2\" class=\"edge\">\n",
       "<title>U&#45;&gt;X2</title>\n",
       "<path fill=\"none\" stroke=\"black\" d=\"M135.39,-186.51C148.28,-196.33 166.07,-209.87 180.56,-220.9\"/>\n",
       "<polygon fill=\"black\" stroke=\"black\" points=\"178.57,-223.79 188.65,-227.06 182.81,-218.22 178.57,-223.79\"/>\n",
       "</g>\n",
       "<!-- S -->\n",
       "<g id=\"node5\" class=\"node\">\n",
       "<title>S</title>\n",
       "<ellipse fill=\"lightgrey\" stroke=\"lightgrey\" cx=\"387\" cy=\"-94.27\" rx=\"27\" ry=\"18\"/>\n",
       "<text text-anchor=\"middle\" x=\"387\" y=\"-90.57\" font-family=\"Times,serif\" font-size=\"14.00\">S</text>\n",
       "</g>\n",
       "<!-- U&#45;&gt;S -->\n",
       "<g id=\"edge5\" class=\"edge\">\n",
       "<title>U&#45;&gt;S</title>\n",
       "<path fill=\"none\" stroke=\"black\" stroke-dasharray=\"5,2\" d=\"M142.08,-180.16C182.2,-190.25 264.19,-204.81 324,-175.27 346.82,-164 363.56,-139.86 373.85,-120.84\"/>\n",
       "<polygon fill=\"black\" stroke=\"black\" points=\"377.07,-122.23 378.51,-111.73 370.84,-119.04 377.07,-122.23\"/>\n",
       "</g>\n",
       "<!-- Y -->\n",
       "<g id=\"node6\" class=\"node\">\n",
       "<title>Y</title>\n",
       "<ellipse fill=\"none\" stroke=\"black\" cx=\"207\" cy=\"-94.27\" rx=\"27\" ry=\"18\"/>\n",
       "<text text-anchor=\"middle\" x=\"207\" y=\"-90.57\" font-family=\"Times,serif\" font-size=\"14.00\">Y</text>\n",
       "</g>\n",
       "<!-- U&#45;&gt;Y -->\n",
       "<g id=\"edge4\" class=\"edge\">\n",
       "<title>U&#45;&gt;Y</title>\n",
       "<path fill=\"none\" stroke=\"black\" stroke-dasharray=\"5,2\" d=\"M134.14,-158.78C147.75,-146.57 167.39,-128.93 182.7,-115.19\"/>\n",
       "<polygon fill=\"black\" stroke=\"black\" points=\"185.15,-117.69 190.26,-108.4 180.48,-112.48 185.15,-117.69\"/>\n",
       "</g>\n",
       "<!-- X3 -->\n",
       "<g id=\"node7\" class=\"node\">\n",
       "<title>X3</title>\n",
       "<ellipse fill=\"none\" stroke=\"black\" cx=\"297\" cy=\"-148.27\" rx=\"27\" ry=\"18\"/>\n",
       "<text text-anchor=\"middle\" x=\"297\" y=\"-144.57\" font-family=\"Times,serif\" font-size=\"14.00\">X3</text>\n",
       "</g>\n",
       "<!-- U&#45;&gt;X3 -->\n",
       "<g id=\"edge6\" class=\"edge\">\n",
       "<title>U&#45;&gt;X3</title>\n",
       "<path fill=\"none\" stroke=\"black\" d=\"M143.5,-169.69C174.08,-165.39 225.53,-158.17 260.11,-153.31\"/>\n",
       "<polygon fill=\"black\" stroke=\"black\" points=\"260.84,-156.74 270.26,-151.89 259.87,-149.81 260.84,-156.74\"/>\n",
       "</g>\n",
       "<!-- X5 -->\n",
       "<g id=\"node4\" class=\"node\">\n",
       "<title>X5</title>\n",
       "<ellipse fill=\"none\" stroke=\"black\" cx=\"297\" cy=\"-40.27\" rx=\"27\" ry=\"18\"/>\n",
       "<text text-anchor=\"middle\" x=\"297\" y=\"-36.57\" font-family=\"Times,serif\" font-size=\"14.00\">X5</text>\n",
       "</g>\n",
       "<!-- X5&#45;&gt;S -->\n",
       "<g id=\"edge3\" class=\"edge\">\n",
       "<title>X5&#45;&gt;S</title>\n",
       "<path fill=\"none\" stroke=\"black\" d=\"M317.53,-52.26C329.38,-59.53 344.7,-68.93 357.84,-76.99\"/>\n",
       "<polygon fill=\"black\" stroke=\"black\" points=\"356.17,-80.07 366.52,-82.32 359.83,-74.11 356.17,-80.07\"/>\n",
       "</g>\n",
       "<!-- X4 -->\n",
       "<g id=\"node8\" class=\"node\">\n",
       "<title>X4</title>\n",
       "<ellipse fill=\"none\" stroke=\"black\" cx=\"297\" cy=\"-94.27\" rx=\"27\" ry=\"18\"/>\n",
       "<text text-anchor=\"middle\" x=\"297\" y=\"-90.57\" font-family=\"Times,serif\" font-size=\"14.00\">X4</text>\n",
       "</g>\n",
       "<!-- Y&#45;&gt;X4 -->\n",
       "<g id=\"edge8\" class=\"edge\">\n",
       "<title>Y&#45;&gt;X4</title>\n",
       "<path fill=\"none\" stroke=\"black\" d=\"M234.4,-94.27C242.39,-94.27 251.31,-94.27 259.82,-94.27\"/>\n",
       "<polygon fill=\"black\" stroke=\"black\" points=\"259.92,-97.77 269.92,-94.27 259.92,-90.77 259.92,-97.77\"/>\n",
       "</g>\n",
       "<!-- X3&#45;&gt;S -->\n",
       "<g id=\"edge7\" class=\"edge\">\n",
       "<title>X3&#45;&gt;S</title>\n",
       "<path fill=\"none\" stroke=\"black\" d=\"M317.53,-136.29C329.38,-129.02 344.7,-119.62 357.84,-111.55\"/>\n",
       "<polygon fill=\"black\" stroke=\"black\" points=\"359.83,-114.44 366.52,-106.22 356.17,-108.47 359.83,-114.44\"/>\n",
       "</g>\n",
       "<!-- X4&#45;&gt;S -->\n",
       "<g id=\"edge9\" class=\"edge\">\n",
       "<title>X4&#45;&gt;S</title>\n",
       "<path fill=\"none\" stroke=\"black\" d=\"M324.4,-94.27C332.39,-94.27 341.31,-94.27 349.82,-94.27\"/>\n",
       "<polygon fill=\"black\" stroke=\"black\" points=\"349.92,-97.77 359.92,-94.27 349.92,-90.77 349.92,-97.77\"/>\n",
       "</g>\n",
       "<!-- T -->\n",
       "<g id=\"node9\" class=\"node\">\n",
       "<title>T</title>\n",
       "<ellipse fill=\"none\" stroke=\"black\" cx=\"117\" cy=\"-40.27\" rx=\"27\" ry=\"18\"/>\n",
       "<text text-anchor=\"middle\" x=\"117\" y=\"-36.57\" font-family=\"Times,serif\" font-size=\"14.00\">T</text>\n",
       "</g>\n",
       "<!-- T&#45;&gt;X5 -->\n",
       "<g id=\"edge10\" class=\"edge\">\n",
       "<title>T&#45;&gt;X5</title>\n",
       "<path fill=\"none\" stroke=\"black\" d=\"M144.26,-40.27C174.85,-40.27 225.55,-40.27 259.84,-40.27\"/>\n",
       "<polygon fill=\"black\" stroke=\"black\" points=\"259.92,-43.77 269.92,-40.27 259.92,-36.77 259.92,-43.77\"/>\n",
       "</g>\n",
       "<!-- T&#45;&gt;S -->\n",
       "<g id=\"edge12\" class=\"edge\">\n",
       "<title>T&#45;&gt;S</title>\n",
       "<path fill=\"none\" stroke=\"black\" stroke-dasharray=\"5,2\" d=\"M139.46,-29.9C178.4,-12.65 262.39,17.16 324,-13.27 346.82,-24.54 363.56,-48.69 373.85,-67.7\"/>\n",
       "<polygon fill=\"black\" stroke=\"black\" points=\"370.84,-69.5 378.51,-76.81 377.07,-66.31 370.84,-69.5\"/>\n",
       "</g>\n",
       "<!-- T&#45;&gt;Y -->\n",
       "<g id=\"edge11\" class=\"edge\">\n",
       "<title>T&#45;&gt;Y</title>\n",
       "<path fill=\"none\" stroke=\"black\" d=\"M137.53,-52.26C149.38,-59.53 164.7,-68.93 177.84,-76.99\"/>\n",
       "<polygon fill=\"black\" stroke=\"black\" points=\"176.17,-80.07 186.52,-82.32 179.83,-74.11 176.17,-80.07\"/>\n",
       "</g>\n",
       "</g>\n",
       "</svg>\n"
      ],
      "text/plain": [
       "<graphviz.graphs.Digraph at 0xffff67317410>"
      ]
     },
     "execution_count": 39,
     "metadata": {},
     "output_type": "execute_result"
    }
   ],
   "source": [
    "g = gr.Digraph(graph_attr={\"rankdir\": \"LR\"})\n",
    "\n",
    "g.edge(\"X1\", \"U\")\n",
    "g.edge(\"U\", \"X2\")\n",
    "g.edge(\"X5\", \"S\")\n",
    "g.edge(\"U\", \"Y\",style=\"dashed\")\n",
    "g.edge(\"U\", \"S\",style=\"dashed\")\n",
    "g.edge(\"U\", \"X3\")\n",
    "g.edge(\"X3\", \"S\")\n",
    "g.edge(\"Y\", \"X4\")\n",
    "g.edge(\"X4\", \"S\")\n",
    "g.edge(\"T\", \"X5\")\n",
    "g.edge(\"T\", \"Y\")\n",
    "g.edge(\"T\", \"S\", style=\"dashed\")\n",
    "g.node(\"S\", color=\"lightgrey\", style=\"filled\")\n",
    "\n",
    "g"
   ]
  },
  {
   "cell_type": "code",
   "execution_count": 40,
   "metadata": {
    "ExecuteTime": {
     "end_time": "2023-06-25T15:09:33.083084Z",
     "start_time": "2023-06-25T15:09:33.079557Z"
    },
    "tags": [
     "hide-input"
    ]
   },
   "outputs": [],
   "source": [
    "g = gr.Digraph(graph_attr={\"rankdir\":\"LR\"})\n",
    "\n",
    "g.edge(\"Y\", \"X\")\n",
    "g.edge(\"T\", \"X\")\n",
    "g.edge(\"T\", \"Y\")\n",
    "\n",
    "g;"
   ]
  },
  {
   "cell_type": "markdown",
   "metadata": {},
   "source": [
    "### Conditioning on a Mediator\n"
   ]
  },
  {
   "cell_type": "code",
   "execution_count": 41,
   "metadata": {
    "ExecuteTime": {
     "end_time": "2023-06-25T15:09:33.283592Z",
     "start_time": "2023-06-25T15:09:33.084471Z"
    },
    "tags": [
     "hide-input"
    ]
   },
   "outputs": [
    {
     "data": {
      "image/svg+xml": [
       "<?xml version=\"1.0\" encoding=\"UTF-8\" standalone=\"no\"?>\n",
       "<!DOCTYPE svg PUBLIC \"-//W3C//DTD SVG 1.1//EN\"\n",
       " \"http://www.w3.org/Graphics/SVG/1.1/DTD/svg11.dtd\">\n",
       "<!-- Generated by graphviz version 2.43.0 (0)\n",
       " -->\n",
       "<!-- Title: %3 Pages: 1 -->\n",
       "<svg width=\"350pt\" height=\"166pt\"\n",
       " viewBox=\"0.00 0.00 350.38 166.00\" xmlns=\"http://www.w3.org/2000/svg\" xmlns:xlink=\"http://www.w3.org/1999/xlink\">\n",
       "<g id=\"graph0\" class=\"graph\" transform=\"scale(1 1) rotate(0) translate(4 162)\">\n",
       "<title>%3</title>\n",
       "<polygon fill=\"white\" stroke=\"transparent\" points=\"-4,4 -4,-162 346.38,-162 346.38,4 -4,4\"/>\n",
       "<!-- T -->\n",
       "<g id=\"node1\" class=\"node\">\n",
       "<title>T</title>\n",
       "<ellipse fill=\"none\" stroke=\"black\" cx=\"44.2\" cy=\"-34\" rx=\"27\" ry=\"18\"/>\n",
       "<text text-anchor=\"middle\" x=\"44.2\" y=\"-30.3\" font-family=\"Times,serif\" font-size=\"14.00\">T</text>\n",
       "</g>\n",
       "<!-- M -->\n",
       "<g id=\"node2\" class=\"node\">\n",
       "<title>M</title>\n",
       "<ellipse fill=\"lightgrey\" stroke=\"lightgrey\" cx=\"176.39\" cy=\"-41\" rx=\"27\" ry=\"18\"/>\n",
       "<text text-anchor=\"middle\" x=\"176.39\" y=\"-37.3\" font-family=\"Times,serif\" font-size=\"14.00\">M</text>\n",
       "</g>\n",
       "<!-- T&#45;&gt;M -->\n",
       "<g id=\"edge1\" class=\"edge\">\n",
       "<title>T&#45;&gt;M</title>\n",
       "<path fill=\"none\" stroke=\"black\" d=\"M71.23,-35.4C90.74,-36.45 117.69,-37.9 139.28,-39.06\"/>\n",
       "<polygon fill=\"black\" stroke=\"black\" points=\"139.23,-42.56 149.4,-39.6 139.6,-35.57 139.23,-42.56\"/>\n",
       "</g>\n",
       "<!-- Y -->\n",
       "<g id=\"node3\" class=\"node\">\n",
       "<title>Y</title>\n",
       "<ellipse fill=\"none\" stroke=\"black\" cx=\"303.38\" cy=\"-18\" rx=\"27\" ry=\"18\"/>\n",
       "<text text-anchor=\"middle\" x=\"303.38\" y=\"-14.3\" font-family=\"Times,serif\" font-size=\"14.00\">Y</text>\n",
       "</g>\n",
       "<!-- T&#45;&gt;Y -->\n",
       "<g id=\"edge2\" class=\"edge\">\n",
       "<title>T&#45;&gt;Y</title>\n",
       "<path fill=\"none\" stroke=\"black\" d=\"M68.82,-26.4C84.41,-21.79 105.39,-16.36 124.39,-14 173.39,-7.91 230.53,-10.98 266.59,-14.14\"/>\n",
       "<polygon fill=\"black\" stroke=\"black\" points=\"266.34,-17.64 276.62,-15.08 266.98,-10.67 266.34,-17.64\"/>\n",
       "</g>\n",
       "<!-- M&#45;&gt;Y -->\n",
       "<g id=\"edge3\" class=\"edge\">\n",
       "<title>M&#45;&gt;Y</title>\n",
       "<path fill=\"none\" stroke=\"black\" d=\"M202.68,-36.35C221.23,-32.93 246.66,-28.25 267.19,-24.47\"/>\n",
       "<polygon fill=\"black\" stroke=\"black\" points=\"267.92,-27.9 277.12,-22.65 266.65,-21.02 267.92,-27.9\"/>\n",
       "</g>\n",
       "<!-- woman -->\n",
       "<g id=\"node4\" class=\"node\">\n",
       "<title>woman</title>\n",
       "<ellipse fill=\"none\" stroke=\"black\" cx=\"44.2\" cy=\"-107\" rx=\"44.39\" ry=\"18\"/>\n",
       "<text text-anchor=\"middle\" x=\"44.2\" y=\"-103.3\" font-family=\"Times,serif\" font-size=\"14.00\">woman</text>\n",
       "</g>\n",
       "<!-- seniority -->\n",
       "<g id=\"node5\" class=\"node\">\n",
       "<title>seniority</title>\n",
       "<ellipse fill=\"lightgrey\" stroke=\"lightgrey\" cx=\"176.39\" cy=\"-140\" rx=\"51.99\" ry=\"18\"/>\n",
       "<text text-anchor=\"middle\" x=\"176.39\" y=\"-136.3\" font-family=\"Times,serif\" font-size=\"14.00\">seniority</text>\n",
       "</g>\n",
       "<!-- woman&#45;&gt;seniority -->\n",
       "<g id=\"edge4\" class=\"edge\">\n",
       "<title>woman&#45;&gt;seniority</title>\n",
       "<path fill=\"none\" stroke=\"black\" d=\"M82.16,-116.37C95.1,-119.65 109.89,-123.4 123.81,-126.93\"/>\n",
       "<polygon fill=\"black\" stroke=\"black\" points=\"123.2,-130.38 133.75,-129.45 124.92,-123.6 123.2,-130.38\"/>\n",
       "</g>\n",
       "<!-- salary -->\n",
       "<g id=\"node6\" class=\"node\">\n",
       "<title>salary</title>\n",
       "<ellipse fill=\"none\" stroke=\"black\" cx=\"303.38\" cy=\"-117\" rx=\"38.99\" ry=\"18\"/>\n",
       "<text text-anchor=\"middle\" x=\"303.38\" y=\"-113.3\" font-family=\"Times,serif\" font-size=\"14.00\">salary</text>\n",
       "</g>\n",
       "<!-- woman&#45;&gt;salary -->\n",
       "<g id=\"edge5\" class=\"edge\">\n",
       "<title>woman&#45;&gt;salary</title>\n",
       "<path fill=\"none\" stroke=\"black\" d=\"M88.51,-108.16C125.64,-109.21 180.54,-110.92 228.38,-113 236.7,-113.36 245.54,-113.79 254.1,-114.24\"/>\n",
       "<polygon fill=\"black\" stroke=\"black\" points=\"254.19,-117.75 264.36,-114.79 254.56,-110.76 254.19,-117.75\"/>\n",
       "</g>\n",
       "<!-- seniority&#45;&gt;salary -->\n",
       "<g id=\"edge6\" class=\"edge\">\n",
       "<title>seniority&#45;&gt;salary</title>\n",
       "<path fill=\"none\" stroke=\"black\" d=\"M222.87,-131.63C233.98,-129.59 245.88,-127.4 256.99,-125.35\"/>\n",
       "<polygon fill=\"black\" stroke=\"black\" points=\"257.73,-128.78 266.93,-123.52 256.46,-121.89 257.73,-128.78\"/>\n",
       "</g>\n",
       "</g>\n",
       "</svg>\n"
      ],
      "text/plain": [
       "<graphviz.graphs.Digraph at 0xffff67316710>"
      ]
     },
     "execution_count": 41,
     "metadata": {},
     "output_type": "execute_result"
    }
   ],
   "source": [
    "g = gr.Digraph(graph_attr={\"rankdir\": \"LR\"})\n",
    "g.edge(\"T\", \"M\")\n",
    "g.edge(\"T\", \"Y\")\n",
    "g.edge(\"M\", \"Y\")\n",
    "g.node(\"M\", color=\"lightgrey\", style=\"filled\")\n",
    "\n",
    "g.edge(\"woman\", \"seniority\")\n",
    "g.edge(\"woman\", \"salary\")\n",
    "g.edge(\"seniority\", \"salary\")\n",
    "g.node(\"seniority\", color=\"lightgrey\", style=\"filled\")\n",
    "\n",
    "g"
   ]
  },
  {
   "cell_type": "code",
   "execution_count": 42,
   "metadata": {
    "ExecuteTime": {
     "end_time": "2023-06-25T15:09:33.488061Z",
     "start_time": "2023-06-25T15:09:33.285736Z"
    },
    "tags": [
     "hide-input"
    ]
   },
   "outputs": [
    {
     "data": {
      "image/svg+xml": [
       "<?xml version=\"1.0\" encoding=\"UTF-8\" standalone=\"no\"?>\n",
       "<!DOCTYPE svg PUBLIC \"-//W3C//DTD SVG 1.1//EN\"\n",
       " \"http://www.w3.org/Graphics/SVG/1.1/DTD/svg11.dtd\">\n",
       "<!-- Generated by graphviz version 2.43.0 (0)\n",
       " -->\n",
       "<!-- Title: %3 Pages: 1 -->\n",
       "<svg width=\"242pt\" height=\"98pt\"\n",
       " viewBox=\"0.00 0.00 242.00 98.00\" xmlns=\"http://www.w3.org/2000/svg\" xmlns:xlink=\"http://www.w3.org/1999/xlink\">\n",
       "<g id=\"graph0\" class=\"graph\" transform=\"scale(1 1) rotate(0) translate(4 94)\">\n",
       "<title>%3</title>\n",
       "<polygon fill=\"white\" stroke=\"transparent\" points=\"-4,4 -4,-94 238,-94 238,4 -4,4\"/>\n",
       "<!-- T -->\n",
       "<g id=\"node1\" class=\"node\">\n",
       "<title>T</title>\n",
       "<ellipse fill=\"none\" stroke=\"black\" cx=\"27\" cy=\"-49\" rx=\"27\" ry=\"18\"/>\n",
       "<text text-anchor=\"middle\" x=\"27\" y=\"-45.3\" font-family=\"Times,serif\" font-size=\"14.00\">T</text>\n",
       "</g>\n",
       "<!-- M -->\n",
       "<g id=\"node2\" class=\"node\">\n",
       "<title>M</title>\n",
       "<ellipse fill=\"none\" stroke=\"black\" cx=\"117\" cy=\"-26\" rx=\"27\" ry=\"18\"/>\n",
       "<text text-anchor=\"middle\" x=\"117\" y=\"-22.3\" font-family=\"Times,serif\" font-size=\"14.00\">M</text>\n",
       "</g>\n",
       "<!-- T&#45;&gt;M -->\n",
       "<g id=\"edge1\" class=\"edge\">\n",
       "<title>T&#45;&gt;M</title>\n",
       "<path fill=\"none\" stroke=\"black\" d=\"M52.51,-42.59C61.57,-40.23 72.01,-37.5 81.78,-34.95\"/>\n",
       "<polygon fill=\"black\" stroke=\"black\" points=\"82.83,-38.29 91.62,-32.37 81.06,-31.51 82.83,-38.29\"/>\n",
       "</g>\n",
       "<!-- Y -->\n",
       "<g id=\"node3\" class=\"node\">\n",
       "<title>Y</title>\n",
       "<ellipse fill=\"none\" stroke=\"black\" cx=\"207\" cy=\"-72\" rx=\"27\" ry=\"18\"/>\n",
       "<text text-anchor=\"middle\" x=\"207\" y=\"-68.3\" font-family=\"Times,serif\" font-size=\"14.00\">Y</text>\n",
       "</g>\n",
       "<!-- T&#45;&gt;Y -->\n",
       "<g id=\"edge2\" class=\"edge\">\n",
       "<title>T&#45;&gt;Y</title>\n",
       "<path fill=\"none\" stroke=\"black\" d=\"M53.88,-52.34C84.55,-56.31 135.83,-62.93 170.27,-67.38\"/>\n",
       "<polygon fill=\"black\" stroke=\"black\" points=\"170.01,-70.88 180.37,-68.69 170.91,-63.94 170.01,-70.88\"/>\n",
       "</g>\n",
       "<!-- M&#45;&gt;Y -->\n",
       "<g id=\"edge3\" class=\"edge\">\n",
       "<title>M&#45;&gt;Y</title>\n",
       "<path fill=\"none\" stroke=\"black\" d=\"M138.85,-36.9C150.03,-42.74 164,-50.04 176.29,-56.47\"/>\n",
       "<polygon fill=\"black\" stroke=\"black\" points=\"174.81,-59.65 185.29,-61.18 178.05,-53.44 174.81,-59.65\"/>\n",
       "</g>\n",
       "<!-- X -->\n",
       "<g id=\"node4\" class=\"node\">\n",
       "<title>X</title>\n",
       "<ellipse fill=\"lightgrey\" stroke=\"lightgrey\" cx=\"207\" cy=\"-18\" rx=\"27\" ry=\"18\"/>\n",
       "<text text-anchor=\"middle\" x=\"207\" y=\"-14.3\" font-family=\"Times,serif\" font-size=\"14.00\">X</text>\n",
       "</g>\n",
       "<!-- M&#45;&gt;X -->\n",
       "<g id=\"edge4\" class=\"edge\">\n",
       "<title>M&#45;&gt;X</title>\n",
       "<path fill=\"none\" stroke=\"black\" d=\"M143.93,-23.64C152.09,-22.9 161.26,-22.07 169.99,-21.27\"/>\n",
       "<polygon fill=\"black\" stroke=\"black\" points=\"170.31,-24.76 179.95,-20.37 169.68,-17.79 170.31,-24.76\"/>\n",
       "</g>\n",
       "</g>\n",
       "</svg>\n"
      ],
      "text/plain": [
       "<graphviz.graphs.Digraph at 0xffff67315610>"
      ]
     },
     "execution_count": 42,
     "metadata": {},
     "output_type": "execute_result"
    }
   ],
   "source": [
    "g = gr.Digraph(graph_attr={\"rankdir\": \"LR\"})\n",
    "g.edge(\"T\", \"M\")\n",
    "g.edge(\"T\", \"Y\")\n",
    "g.edge(\"M\", \"Y\")\n",
    "g.edge(\"M\", \"X\")\n",
    "g.node(\"X\", color=\"lightgrey\", style=\"filled\")\n",
    "\n",
    "g"
   ]
  },
  {
   "cell_type": "markdown",
   "metadata": {},
   "source": [
    "## Key Ideas\n"
   ]
  },
  {
   "cell_type": "code",
   "execution_count": 43,
   "metadata": {
    "ExecuteTime": {
     "end_time": "2023-06-25T15:09:33.691694Z",
     "start_time": "2023-06-25T15:09:33.489722Z"
    },
    "tags": [
     "hide-input"
    ]
   },
   "outputs": [
    {
     "data": {
      "image/svg+xml": [
       "<?xml version=\"1.0\" encoding=\"UTF-8\" standalone=\"no\"?>\n",
       "<!DOCTYPE svg PUBLIC \"-//W3C//DTD SVG 1.1//EN\"\n",
       " \"http://www.w3.org/Graphics/SVG/1.1/DTD/svg11.dtd\">\n",
       "<!-- Generated by graphviz version 2.43.0 (0)\n",
       " -->\n",
       "<!-- Title: %3 Pages: 1 -->\n",
       "<svg width=\"242pt\" height=\"78pt\"\n",
       " viewBox=\"0.00 0.00 242.00 78.20\" xmlns=\"http://www.w3.org/2000/svg\" xmlns:xlink=\"http://www.w3.org/1999/xlink\">\n",
       "<g id=\"graph0\" class=\"graph\" transform=\"scale(1 1) rotate(0) translate(4 74.2)\">\n",
       "<title>%3</title>\n",
       "<polygon fill=\"white\" stroke=\"transparent\" points=\"-4,4 -4,-74.2 238,-74.2 238,4 -4,4\"/>\n",
       "<!-- U -->\n",
       "<g id=\"node1\" class=\"node\">\n",
       "<title>U</title>\n",
       "<ellipse fill=\"none\" stroke=\"black\" cx=\"27\" cy=\"-21.05\" rx=\"27\" ry=\"18\"/>\n",
       "<text text-anchor=\"middle\" x=\"27\" y=\"-17.35\" font-family=\"Times,serif\" font-size=\"14.00\">U</text>\n",
       "</g>\n",
       "<!-- T -->\n",
       "<g id=\"node2\" class=\"node\">\n",
       "<title>T</title>\n",
       "<ellipse fill=\"none\" stroke=\"black\" cx=\"117\" cy=\"-49.05\" rx=\"27\" ry=\"18\"/>\n",
       "<text text-anchor=\"middle\" x=\"117\" y=\"-45.35\" font-family=\"Times,serif\" font-size=\"14.00\">T</text>\n",
       "</g>\n",
       "<!-- U&#45;&gt;T -->\n",
       "<g id=\"edge1\" class=\"edge\">\n",
       "<title>U&#45;&gt;T</title>\n",
       "<path fill=\"none\" stroke=\"black\" d=\"M51.58,-28.55C61.15,-31.6 72.37,-35.17 82.75,-38.47\"/>\n",
       "<polygon fill=\"black\" stroke=\"black\" points=\"81.76,-41.83 92.35,-41.53 83.88,-35.16 81.76,-41.83\"/>\n",
       "</g>\n",
       "<!-- Y -->\n",
       "<g id=\"node3\" class=\"node\">\n",
       "<title>Y</title>\n",
       "<ellipse fill=\"none\" stroke=\"black\" cx=\"207\" cy=\"-21.05\" rx=\"27\" ry=\"18\"/>\n",
       "<text text-anchor=\"middle\" x=\"207\" y=\"-17.35\" font-family=\"Times,serif\" font-size=\"14.00\">Y</text>\n",
       "</g>\n",
       "<!-- U&#45;&gt;Y -->\n",
       "<g id=\"edge2\" class=\"edge\">\n",
       "<title>U&#45;&gt;Y</title>\n",
       "<path fill=\"none\" stroke=\"black\" d=\"M54.26,-21.05C84.85,-21.05 135.55,-21.05 169.84,-21.05\"/>\n",
       "<polygon fill=\"black\" stroke=\"black\" points=\"169.92,-24.55 179.92,-21.05 169.92,-17.55 169.92,-24.55\"/>\n",
       "</g>\n",
       "<!-- T&#45;&gt;Y -->\n",
       "<g id=\"edge3\" class=\"edge\">\n",
       "<title>T&#45;&gt;Y</title>\n",
       "<path fill=\"none\" stroke=\"black\" d=\"M141.58,-41.55C151.15,-38.5 162.37,-34.93 172.75,-31.63\"/>\n",
       "<polygon fill=\"black\" stroke=\"black\" points=\"173.88,-34.94 182.35,-28.58 171.76,-28.27 173.88,-34.94\"/>\n",
       "</g>\n",
       "</g>\n",
       "</svg>\n"
      ],
      "text/plain": [
       "<graphviz.graphs.Digraph at 0xffff672fd510>"
      ]
     },
     "execution_count": 43,
     "metadata": {},
     "output_type": "execute_result"
    }
   ],
   "source": [
    "g = gr.Digraph(graph_attr={\"rankdir\":\"LR\", \"ratio\": \"0.3\"})\n",
    "g.edge(\"U\", \"T\")\n",
    "g.edge(\"U\", \"Y\")\n",
    "g.edge(\"T\", \"Y\")\n",
    "\n",
    "g"
   ]
  },
  {
   "cell_type": "code",
   "execution_count": 44,
   "metadata": {
    "ExecuteTime": {
     "end_time": "2023-06-25T15:09:33.906872Z",
     "start_time": "2023-06-25T15:09:33.693870Z"
    },
    "tags": [
     "hide-input"
    ]
   },
   "outputs": [
    {
     "data": {
      "image/svg+xml": [
       "<?xml version=\"1.0\" encoding=\"UTF-8\" standalone=\"no\"?>\n",
       "<!DOCTYPE svg PUBLIC \"-//W3C//DTD SVG 1.1//EN\"\n",
       " \"http://www.w3.org/Graphics/SVG/1.1/DTD/svg11.dtd\">\n",
       "<!-- Generated by graphviz version 2.43.0 (0)\n",
       " -->\n",
       "<!-- Title: %3 Pages: 1 -->\n",
       "<svg width=\"332pt\" height=\"105pt\"\n",
       " viewBox=\"0.00 0.00 332.00 105.00\" xmlns=\"http://www.w3.org/2000/svg\" xmlns:xlink=\"http://www.w3.org/1999/xlink\">\n",
       "<g id=\"graph0\" class=\"graph\" transform=\"scale(1 1) rotate(0) translate(4 101)\">\n",
       "<title>%3</title>\n",
       "<polygon fill=\"white\" stroke=\"transparent\" points=\"-4,4 -4,-101 328,-101 328,4 -4,4\"/>\n",
       "<!-- T -->\n",
       "<g id=\"node1\" class=\"node\">\n",
       "<title>T</title>\n",
       "<ellipse fill=\"none\" stroke=\"black\" cx=\"27\" cy=\"-33\" rx=\"27\" ry=\"18\"/>\n",
       "<text text-anchor=\"middle\" x=\"27\" y=\"-29.3\" font-family=\"Times,serif\" font-size=\"14.00\">T</text>\n",
       "</g>\n",
       "<!-- M -->\n",
       "<g id=\"node2\" class=\"node\">\n",
       "<title>M</title>\n",
       "<ellipse fill=\"lightgrey\" stroke=\"lightgrey\" cx=\"117\" cy=\"-79\" rx=\"27\" ry=\"18\"/>\n",
       "<text text-anchor=\"middle\" x=\"117\" y=\"-75.3\" font-family=\"Times,serif\" font-size=\"14.00\">M</text>\n",
       "</g>\n",
       "<!-- T&#45;&gt;M -->\n",
       "<g id=\"edge1\" class=\"edge\">\n",
       "<title>T&#45;&gt;M</title>\n",
       "<path fill=\"none\" stroke=\"black\" d=\"M48.85,-43.9C60.03,-49.74 74,-57.04 86.29,-63.47\"/>\n",
       "<polygon fill=\"black\" stroke=\"black\" points=\"84.81,-66.65 95.29,-68.18 88.05,-60.44 84.81,-66.65\"/>\n",
       "</g>\n",
       "<!-- Y -->\n",
       "<g id=\"node3\" class=\"node\">\n",
       "<title>Y</title>\n",
       "<ellipse fill=\"none\" stroke=\"black\" cx=\"207\" cy=\"-41\" rx=\"27\" ry=\"18\"/>\n",
       "<text text-anchor=\"middle\" x=\"207\" y=\"-37.3\" font-family=\"Times,serif\" font-size=\"14.00\">Y</text>\n",
       "</g>\n",
       "<!-- T&#45;&gt;Y -->\n",
       "<g id=\"edge3\" class=\"edge\">\n",
       "<title>T&#45;&gt;Y</title>\n",
       "<path fill=\"none\" stroke=\"black\" d=\"M54.26,-34.18C84.85,-35.56 135.55,-37.83 169.84,-39.37\"/>\n",
       "<polygon fill=\"black\" stroke=\"black\" points=\"169.77,-42.88 179.92,-39.83 170.08,-35.88 169.77,-42.88\"/>\n",
       "</g>\n",
       "<!-- S -->\n",
       "<g id=\"node4\" class=\"node\">\n",
       "<title>S</title>\n",
       "<ellipse fill=\"lightgrey\" stroke=\"lightgrey\" cx=\"297\" cy=\"-18\" rx=\"27\" ry=\"18\"/>\n",
       "<text text-anchor=\"middle\" x=\"297\" y=\"-14.3\" font-family=\"Times,serif\" font-size=\"14.00\">S</text>\n",
       "</g>\n",
       "<!-- T&#45;&gt;S -->\n",
       "<g id=\"edge4\" class=\"edge\">\n",
       "<title>T&#45;&gt;S</title>\n",
       "<path fill=\"none\" stroke=\"black\" d=\"M53.46,-28.83C83.58,-24.13 135.28,-16.78 180,-14 203.95,-12.51 210.01,-13.23 234,-14 242.43,-14.27 251.5,-14.75 260.02,-15.28\"/>\n",
       "<polygon fill=\"black\" stroke=\"black\" points=\"259.87,-18.78 270.08,-15.95 260.33,-11.8 259.87,-18.78\"/>\n",
       "</g>\n",
       "<!-- M&#45;&gt;Y -->\n",
       "<g id=\"edge2\" class=\"edge\">\n",
       "<title>M&#45;&gt;Y</title>\n",
       "<path fill=\"none\" stroke=\"black\" d=\"M140.21,-69.41C150.63,-64.91 163.23,-59.47 174.61,-54.56\"/>\n",
       "<polygon fill=\"black\" stroke=\"black\" points=\"176.01,-57.76 183.8,-50.59 173.23,-51.34 176.01,-57.76\"/>\n",
       "</g>\n",
       "<!-- Y&#45;&gt;S -->\n",
       "<g id=\"edge5\" class=\"edge\">\n",
       "<title>Y&#45;&gt;S</title>\n",
       "<path fill=\"none\" stroke=\"black\" d=\"M232.51,-34.59C241.57,-32.23 252.01,-29.5 261.78,-26.95\"/>\n",
       "<polygon fill=\"black\" stroke=\"black\" points=\"262.83,-30.29 271.62,-24.37 261.06,-23.51 262.83,-30.29\"/>\n",
       "</g>\n",
       "</g>\n",
       "</svg>\n"
      ],
      "text/plain": [
       "<graphviz.graphs.Digraph at 0xffff67317ad0>"
      ]
     },
     "execution_count": 44,
     "metadata": {},
     "output_type": "execute_result"
    }
   ],
   "source": [
    "g = gr.Digraph(graph_attr={\"rankdir\":\"LR\"})\n",
    "g.edge(\"T\", \"M\")\n",
    "g.edge(\"M\", \"Y\")\n",
    "g.edge(\"T\", \"Y\")\n",
    "g.edge(\"T\", \"S\")\n",
    "g.edge(\"Y\", \"S\")\n",
    "\n",
    "g.node(\"M\", color=\"lightgrey\", style=\"filled\")\n",
    "g.node(\"S\", color=\"lightgrey\", style=\"filled\")\n",
    "\n",
    "g"
   ]
  },
  {
   "cell_type": "code",
   "execution_count": 45,
   "metadata": {
    "ExecuteTime": {
     "end_time": "2023-06-25T15:09:34.134806Z",
     "start_time": "2023-06-25T15:09:33.909096Z"
    },
    "tags": [
     "hide-input"
    ]
   },
   "outputs": [
    {
     "data": {
      "image/svg+xml": [
       "<?xml version=\"1.0\" encoding=\"UTF-8\" standalone=\"no\"?>\n",
       "<!DOCTYPE svg PUBLIC \"-//W3C//DTD SVG 1.1//EN\"\n",
       " \"http://www.w3.org/Graphics/SVG/1.1/DTD/svg11.dtd\">\n",
       "<!-- Generated by graphviz version 2.43.0 (0)\n",
       " -->\n",
       "<!-- Title: %3 Pages: 1 -->\n",
       "<svg width=\"555pt\" height=\"67pt\"\n",
       " viewBox=\"0.00 0.00 555.16 67.00\" xmlns=\"http://www.w3.org/2000/svg\" xmlns:xlink=\"http://www.w3.org/1999/xlink\">\n",
       "<g id=\"graph0\" class=\"graph\" transform=\"scale(1 1) rotate(0) translate(4 63)\">\n",
       "<title>%3</title>\n",
       "<polygon fill=\"white\" stroke=\"transparent\" points=\"-4,4 -4,-63 551.16,-63 551.16,4 -4,4\"/>\n",
       "<!-- T -->\n",
       "<g id=\"node1\" class=\"node\">\n",
       "<title>T</title>\n",
       "<ellipse fill=\"none\" stroke=\"black\" cx=\"27\" cy=\"-18\" rx=\"27\" ry=\"18\"/>\n",
       "<text text-anchor=\"middle\" x=\"27\" y=\"-14.3\" font-family=\"Times,serif\" font-size=\"14.00\">T</text>\n",
       "</g>\n",
       "<!-- In&#45;Game Purchase -->\n",
       "<g id=\"node2\" class=\"node\">\n",
       "<title>In&#45;Game Purchase</title>\n",
       "<ellipse fill=\"none\" stroke=\"black\" cx=\"185.54\" cy=\"-41\" rx=\"95.58\" ry=\"18\"/>\n",
       "<text text-anchor=\"middle\" x=\"185.54\" y=\"-37.3\" font-family=\"Times,serif\" font-size=\"14.00\">In&#45;Game Purchase</text>\n",
       "</g>\n",
       "<!-- T&#45;&gt;In&#45;Game Purchase -->\n",
       "<g id=\"edge1\" class=\"edge\">\n",
       "<title>T&#45;&gt;In&#45;Game Purchase</title>\n",
       "<path fill=\"none\" stroke=\"black\" d=\"M53.5,-21.75C66.39,-23.64 82.86,-26.06 99.73,-28.54\"/>\n",
       "<polygon fill=\"black\" stroke=\"black\" points=\"99.29,-32.01 109.69,-30 100.3,-25.09 99.29,-32.01\"/>\n",
       "</g>\n",
       "<!-- In&#45;Game Purchase &gt; 0 -->\n",
       "<g id=\"node3\" class=\"node\">\n",
       "<title>In&#45;Game Purchase &gt; 0</title>\n",
       "<ellipse fill=\"lightgrey\" stroke=\"lightgrey\" cx=\"432.12\" cy=\"-18\" rx=\"115.08\" ry=\"18\"/>\n",
       "<text text-anchor=\"middle\" x=\"432.12\" y=\"-14.3\" font-family=\"Times,serif\" font-size=\"14.00\">In&#45;Game Purchase &gt; 0</text>\n",
       "</g>\n",
       "<!-- T&#45;&gt;In&#45;Game Purchase &gt; 0 -->\n",
       "<g id=\"edge2\" class=\"edge\">\n",
       "<title>T&#45;&gt;In&#45;Game Purchase &gt; 0</title>\n",
       "<path fill=\"none\" stroke=\"black\" d=\"M53.92,-15.95C65.03,-15.17 78.14,-14.38 90,-14 162.63,-11.66 243.99,-12.48 309.03,-13.97\"/>\n",
       "<polygon fill=\"black\" stroke=\"black\" points=\"309.25,-17.48 319.33,-14.22 309.41,-10.48 309.25,-17.48\"/>\n",
       "</g>\n",
       "<!-- In&#45;Game Purchase&#45;&gt;In&#45;Game Purchase &gt; 0 -->\n",
       "<g id=\"edge3\" class=\"edge\">\n",
       "<title>In&#45;Game Purchase&#45;&gt;In&#45;Game Purchase &gt; 0</title>\n",
       "<path fill=\"none\" stroke=\"black\" d=\"M271.4,-33.02C288.01,-31.46 305.63,-29.8 322.88,-28.18\"/>\n",
       "<polygon fill=\"black\" stroke=\"black\" points=\"323.36,-31.65 332.99,-27.23 322.7,-24.68 323.36,-31.65\"/>\n",
       "</g>\n",
       "</g>\n",
       "</svg>\n"
      ],
      "text/plain": [
       "<graphviz.graphs.Digraph at 0xffff672fdfd0>"
      ]
     },
     "execution_count": 45,
     "metadata": {},
     "output_type": "execute_result"
    }
   ],
   "source": [
    "g = gr.Digraph(graph_attr={\"rankdir\":\"LR\"})\n",
    "g.edge(\"T\", \"In-Game Purchase\")\n",
    "g.edge(\"T\", \"In-Game Purchase > 0\")\n",
    "g.edge(\"In-Game Purchase\", \"In-Game Purchase > 0\")\n",
    "\n",
    "g.node(\"In-Game Purchase > 0\", color=\"lightgrey\", style=\"filled\")\n",
    "\n",
    "g"
   ]
  },
  {
   "cell_type": "code",
   "execution_count": 46,
   "metadata": {
    "ExecuteTime": {
     "end_time": "2023-06-25T15:09:34.357947Z",
     "start_time": "2023-06-25T15:09:34.136697Z"
    },
    "tags": [
     "hide-input"
    ]
   },
   "outputs": [
    {
     "data": {
      "image/svg+xml": [
       "<?xml version=\"1.0\" encoding=\"UTF-8\" standalone=\"no\"?>\n",
       "<!DOCTYPE svg PUBLIC \"-//W3C//DTD SVG 1.1//EN\"\n",
       " \"http://www.w3.org/Graphics/SVG/1.1/DTD/svg11.dtd\">\n",
       "<!-- Generated by graphviz version 2.43.0 (0)\n",
       " -->\n",
       "<!-- Title: %3 Pages: 1 -->\n",
       "<svg width=\"752pt\" height=\"109pt\"\n",
       " viewBox=\"0.00 0.00 751.64 109.00\" xmlns=\"http://www.w3.org/2000/svg\" xmlns:xlink=\"http://www.w3.org/1999/xlink\">\n",
       "<g id=\"graph0\" class=\"graph\" transform=\"scale(1 1) rotate(0) translate(4 105)\">\n",
       "<title>%3</title>\n",
       "<polygon fill=\"white\" stroke=\"transparent\" points=\"-4,4 -4,-105 747.64,-105 747.64,4 -4,4\"/>\n",
       "<!-- loan amount -->\n",
       "<g id=\"node1\" class=\"node\">\n",
       "<title>loan amount</title>\n",
       "<ellipse fill=\"none\" stroke=\"black\" cx=\"68.24\" cy=\"-83\" rx=\"68.49\" ry=\"18\"/>\n",
       "<text text-anchor=\"middle\" x=\"68.24\" y=\"-79.3\" font-family=\"Times,serif\" font-size=\"14.00\">loan amount</text>\n",
       "</g>\n",
       "<!-- Default at yr=1 -->\n",
       "<g id=\"node2\" class=\"node\">\n",
       "<title>Default at yr=1</title>\n",
       "<ellipse fill=\"lightgrey\" stroke=\"lightgrey\" cx=\"255.68\" cy=\"-79\" rx=\"83.39\" ry=\"18\"/>\n",
       "<text text-anchor=\"middle\" x=\"255.68\" y=\"-75.3\" font-family=\"Times,serif\" font-size=\"14.00\">Default at yr=1</text>\n",
       "</g>\n",
       "<!-- loan amount&#45;&gt;Default at yr=1 -->\n",
       "<g id=\"edge1\" class=\"edge\">\n",
       "<title>loan amount&#45;&gt;Default at yr=1</title>\n",
       "<path fill=\"none\" stroke=\"black\" d=\"M136.45,-81.55C145.04,-81.37 153.94,-81.17 162.83,-80.98\"/>\n",
       "<polygon fill=\"black\" stroke=\"black\" points=\"162.92,-84.48 172.85,-80.77 162.77,-77.48 162.92,-84.48\"/>\n",
       "</g>\n",
       "<!-- Default at yr=2 -->\n",
       "<g id=\"node3\" class=\"node\">\n",
       "<title>Default at yr=2</title>\n",
       "<ellipse fill=\"darkgrey\" stroke=\"darkgrey\" cx=\"458.07\" cy=\"-41\" rx=\"83.39\" ry=\"18\"/>\n",
       "<text text-anchor=\"middle\" x=\"458.07\" y=\"-37.3\" font-family=\"Times,serif\" font-size=\"14.00\">Default at yr=2</text>\n",
       "</g>\n",
       "<!-- Default at yr=1&#45;&gt;Default at yr=2 -->\n",
       "<g id=\"edge2\" class=\"edge\">\n",
       "<title>Default at yr=1&#45;&gt;Default at yr=2</title>\n",
       "<path fill=\"none\" stroke=\"black\" d=\"M318.71,-67.24C339.74,-63.25 363.41,-58.76 385.15,-54.64\"/>\n",
       "<polygon fill=\"black\" stroke=\"black\" points=\"385.81,-58.07 394.98,-52.77 384.51,-51.2 385.81,-58.07\"/>\n",
       "</g>\n",
       "<!-- Default at yr=3 -->\n",
       "<g id=\"node4\" class=\"node\">\n",
       "<title>Default at yr=3</title>\n",
       "<ellipse fill=\"none\" stroke=\"black\" cx=\"660.45\" cy=\"-18\" rx=\"83.39\" ry=\"18\"/>\n",
       "<text text-anchor=\"middle\" x=\"660.45\" y=\"-14.3\" font-family=\"Times,serif\" font-size=\"14.00\">Default at yr=3</text>\n",
       "</g>\n",
       "<!-- Default at yr=2&#45;&gt;Default at yr=3 -->\n",
       "<g id=\"edge3\" class=\"edge\">\n",
       "<title>Default at yr=2&#45;&gt;Default at yr=3</title>\n",
       "<path fill=\"none\" stroke=\"black\" d=\"M531.98,-32.63C546.43,-30.97 561.71,-29.22 576.47,-27.52\"/>\n",
       "<polygon fill=\"black\" stroke=\"black\" points=\"577.06,-30.98 586.59,-26.36 576.26,-24.03 577.06,-30.98\"/>\n",
       "</g>\n",
       "<!-- U -->\n",
       "<g id=\"node5\" class=\"node\">\n",
       "<title>U</title>\n",
       "<ellipse fill=\"none\" stroke=\"black\" cx=\"68.24\" cy=\"-29\" rx=\"27\" ry=\"18\"/>\n",
       "<text text-anchor=\"middle\" x=\"68.24\" y=\"-25.3\" font-family=\"Times,serif\" font-size=\"14.00\">U</text>\n",
       "</g>\n",
       "<!-- U&#45;&gt;Default at yr=1 -->\n",
       "<g id=\"edge4\" class=\"edge\">\n",
       "<title>U&#45;&gt;Default at yr=1</title>\n",
       "<path fill=\"none\" stroke=\"black\" d=\"M93.49,-35.54C118.59,-42.31 158.84,-53.16 192.83,-62.32\"/>\n",
       "<polygon fill=\"black\" stroke=\"black\" points=\"192.13,-65.76 202.7,-64.98 193.95,-59 192.13,-65.76\"/>\n",
       "</g>\n",
       "<!-- U&#45;&gt;Default at yr=2 -->\n",
       "<g id=\"edge5\" class=\"edge\">\n",
       "<title>U&#45;&gt;Default at yr=2</title>\n",
       "<path fill=\"none\" stroke=\"black\" d=\"M95.29,-29.81C149.67,-31.49 277.5,-35.44 365.66,-38.17\"/>\n",
       "<polygon fill=\"black\" stroke=\"black\" points=\"365.57,-41.67 375.67,-38.48 365.78,-34.67 365.57,-41.67\"/>\n",
       "</g>\n",
       "<!-- U&#45;&gt;Default at yr=3 -->\n",
       "<g id=\"edge6\" class=\"edge\">\n",
       "<title>U&#45;&gt;Default at yr=3</title>\n",
       "<path fill=\"none\" stroke=\"black\" d=\"M95.39,-27.28C148.19,-23.91 271.31,-16.54 374.87,-14 448.8,-12.19 467.32,-12.75 541.26,-14 549.98,-14.15 559.07,-14.36 568.16,-14.6\"/>\n",
       "<polygon fill=\"black\" stroke=\"black\" points=\"568.3,-18.11 578.4,-14.89 568.5,-11.11 568.3,-18.11\"/>\n",
       "</g>\n",
       "</g>\n",
       "</svg>\n"
      ],
      "text/plain": [
       "<graphviz.graphs.Digraph at 0xffff67315e10>"
      ]
     },
     "execution_count": 46,
     "metadata": {},
     "output_type": "execute_result"
    }
   ],
   "source": [
    "g = gr.Digraph(graph_attr={\"rankdir\": \"LR\"})\n",
    "g.edge(\"loan amount\", \"Default at yr=1\")\n",
    "g.edge(\"Default at yr=1\", \"Default at yr=2\")\n",
    "g.edge(\"Default at yr=2\", \"Default at yr=3\")\n",
    "g.edge(\"U\", \"Default at yr=1\")\n",
    "g.edge(\"U\", \"Default at yr=2\")\n",
    "g.edge(\"U\", \"Default at yr=3\")\n",
    "\n",
    "g.node(\"Default at yr=1\", color=\"lightgrey\", style=\"filled\")\n",
    "g.node(\"Default at yr=2\", color=\"darkgrey\", style=\"filled\")\n",
    "\n",
    "g"
   ]
  },
  {
   "cell_type": "code",
   "execution_count": null,
   "metadata": {},
   "outputs": [],
   "source": []
  }
 ],
 "metadata": {
  "celltoolbar": "Tags",
  "kernelspec": {
   "display_name": "Python 3 (ipykernel)",
   "language": "python",
   "name": "python3"
  },
  "language_info": {
   "codemirror_mode": {
    "name": "ipython",
    "version": 3
   },
   "file_extension": ".py",
   "mimetype": "text/x-python",
   "name": "python",
   "nbconvert_exporter": "python",
   "pygments_lexer": "ipython3",
   "version": "3.11.4"
  },
  "toc": {
   "base_numbering": 1,
   "nav_menu": {},
   "number_sections": true,
   "sideBar": true,
   "skip_h1_title": false,
   "title_cell": "Table of Contents",
   "title_sidebar": "Contents",
   "toc_cell": false,
   "toc_position": {},
   "toc_section_display": true,
   "toc_window_display": false
  },
  "varInspector": {
   "cols": {
    "lenName": 16,
    "lenType": 16,
    "lenVar": 40
   },
   "kernels_config": {
    "python": {
     "delete_cmd_postfix": "",
     "delete_cmd_prefix": "del ",
     "library": "var_list.py",
     "varRefreshCmd": "print(var_dic_list())"
    },
    "r": {
     "delete_cmd_postfix": ") ",
     "delete_cmd_prefix": "rm(",
     "library": "var_list.r",
     "varRefreshCmd": "cat(var_dic_list()) "
    }
   },
   "types_to_exclude": [
    "module",
    "function",
    "builtin_function_or_method",
    "instance",
    "_Feature"
   ],
   "window_display": false
  }
 },
 "nbformat": 4,
 "nbformat_minor": 2
}
