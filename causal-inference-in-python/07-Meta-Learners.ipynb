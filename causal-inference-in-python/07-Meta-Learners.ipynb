{
 "cells": [
  {
   "cell_type": "markdown",
   "metadata": {},
   "source": [
    "# 07 - Meta-Learners\n"
   ]
  },
  {
   "cell_type": "code",
   "execution_count": 1,
   "metadata": {},
   "outputs": [
    {
     "name": "stdout",
     "output_type": "stream",
     "text": [
      "/code/causal-inference-in-python\n"
     ]
    }
   ],
   "source": [
    "%cd /code/causal-inference-in-python"
   ]
  },
  {
   "cell_type": "code",
   "execution_count": 2,
   "metadata": {
    "ExecuteTime": {
     "end_time": "2023-06-26T13:31:40.314930Z",
     "start_time": "2023-06-26T13:31:37.992850Z"
    },
    "tags": [
     "hide-input"
    ]
   },
   "outputs": [
    {
     "ename": "ModuleNotFoundError",
     "evalue": "No module named 'fklearn'",
     "output_type": "error",
     "traceback": [
      "\u001b[0;31m---------------------------------------------------------------------------\u001b[0m",
      "\u001b[0;31mModuleNotFoundError\u001b[0m                       Traceback (most recent call last)",
      "Cell \u001b[0;32mIn[2], line 7\u001b[0m\n\u001b[1;32m      4\u001b[0m \u001b[39mimport\u001b[39;00m \u001b[39mseaborn\u001b[39;00m \u001b[39mas\u001b[39;00m \u001b[39msns\u001b[39;00m\n\u001b[1;32m      5\u001b[0m \u001b[39mimport\u001b[39;00m \u001b[39mmatplotlib\u001b[39;00m\n\u001b[0;32m----> 7\u001b[0m \u001b[39mfrom\u001b[39;00m \u001b[39mfklearn\u001b[39;00m\u001b[39m.\u001b[39;00m\u001b[39mcausal\u001b[39;00m\u001b[39m.\u001b[39;00m\u001b[39mvalidation\u001b[39;00m\u001b[39m.\u001b[39;00m\u001b[39mcurves\u001b[39;00m \u001b[39mimport\u001b[39;00m relative_cumulative_gain_curve\n\u001b[1;32m      8\u001b[0m \u001b[39mfrom\u001b[39;00m \u001b[39mfklearn\u001b[39;00m\u001b[39m.\u001b[39;00m\u001b[39mcausal\u001b[39;00m\u001b[39m.\u001b[39;00m\u001b[39mvalidation\u001b[39;00m\u001b[39m.\u001b[39;00m\u001b[39mauc\u001b[39;00m \u001b[39mimport\u001b[39;00m area_under_the_relative_cumulative_gain_curve\n\u001b[1;32m     11\u001b[0m \u001b[39mfrom\u001b[39;00m \u001b[39mcycler\u001b[39;00m \u001b[39mimport\u001b[39;00m cycler\n",
      "\u001b[0;31mModuleNotFoundError\u001b[0m: No module named 'fklearn'"
     ]
    }
   ],
   "source": [
    "import pandas as pd\n",
    "import numpy as np\n",
    "from matplotlib import pyplot as plt\n",
    "import seaborn as sns\n",
    "import matplotlib\n",
    "\n",
    "from fklearn.causal.validation.curves import relative_cumulative_gain_curve\n",
    "from fklearn.causal.validation.auc import area_under_the_relative_cumulative_gain_curve\n",
    "\n",
    "\n",
    "from cycler import cycler\n",
    "\n",
    "color=['0.0', '0.4', '0.8']\n",
    "default_cycler = (cycler(color=color))\n",
    "linestyle=['-', '--', ':', '-.']\n",
    "marker=['o', 'v', 'd', 'p']\n",
    "\n",
    "plt.rc('axes', prop_cycle=default_cycler)"
   ]
  },
  {
   "cell_type": "markdown",
   "metadata": {},
   "source": [
    "## Meta-Learners for Discrete Treatments"
   ]
  },
  {
   "cell_type": "code",
   "execution_count": null,
   "metadata": {
    "ExecuteTime": {
     "end_time": "2023-06-26T13:31:40.318447Z",
     "start_time": "2023-06-26T13:31:40.316522Z"
    },
    "tags": [
     "hide-input"
    ]
   },
   "outputs": [],
   "source": [
    "pd.set_option('display.max_columns', 8)"
   ]
  },
  {
   "cell_type": "code",
   "execution_count": null,
   "metadata": {
    "ExecuteTime": {
     "end_time": "2023-06-26T13:31:40.722815Z",
     "start_time": "2023-06-26T13:31:40.321458Z"
    }
   },
   "outputs": [],
   "source": [
    "import pandas as pd\n",
    "import numpy as np\n",
    "\n",
    "data_biased = pd.read_csv(\"./data/email_obs_data.csv\")\n",
    "data_rnd = pd.read_csv(\"./data/email_rnd_data.csv\")\n",
    "\n",
    "print(len(data_biased), len(data_rnd))\n",
    "data_rnd.head()"
   ]
  },
  {
   "cell_type": "code",
   "execution_count": null,
   "metadata": {
    "ExecuteTime": {
     "end_time": "2023-06-26T13:31:40.726858Z",
     "start_time": "2023-06-26T13:31:40.724143Z"
    }
   },
   "outputs": [],
   "source": [
    "y = \"next_mnth_pv\"\n",
    "T = \"mkt_email\"\n",
    "X = list(data_rnd.drop(columns=[y, T]).columns)\n",
    "\n",
    "train, test = data_biased, data_rnd"
   ]
  },
  {
   "cell_type": "markdown",
   "metadata": {},
   "source": [
    " \n",
    "### T-Learner\n"
   ]
  },
  {
   "cell_type": "code",
   "execution_count": null,
   "metadata": {
    "ExecuteTime": {
     "end_time": "2023-06-26T13:31:41.649186Z",
     "start_time": "2023-06-26T13:31:40.728288Z"
    }
   },
   "outputs": [],
   "source": [
    "from lightgbm import LGBMRegressor\n",
    "\n",
    "np.random.seed(123)\n",
    "\n",
    "m0 = LGBMRegressor()\n",
    "m1 = LGBMRegressor()\n",
    "\n",
    "m0.fit(train.query(f\"{T}==0\")[X], train.query(f\"{T}==0\")[y])\n",
    "m1.fit(train.query(f\"{T}==1\")[X], train.query(f\"{T}==1\")[y]);"
   ]
  },
  {
   "cell_type": "code",
   "execution_count": null,
   "metadata": {
    "ExecuteTime": {
     "end_time": "2023-06-26T13:31:41.678015Z",
     "start_time": "2023-06-26T13:31:41.650669Z"
    }
   },
   "outputs": [],
   "source": [
    "t_learner_cate_test = test.assign(\n",
    "    cate=m1.predict(test[X]) - m0.predict(test[X])\n",
    ")"
   ]
  },
  {
   "cell_type": "code",
   "execution_count": null,
   "metadata": {
    "ExecuteTime": {
     "end_time": "2023-06-26T13:31:41.877292Z",
     "start_time": "2023-06-26T13:31:41.679607Z"
    },
    "tags": [
     "hide-input"
    ]
   },
   "outputs": [],
   "source": [
    "gain_curve_test = relative_cumulative_gain_curve(t_learner_cate_test, T, y, prediction=\"cate\")\n",
    "auc = area_under_the_relative_cumulative_gain_curve(t_learner_cate_test, T, y, prediction=\"cate\")\n",
    "\n",
    "plt.figure(figsize=(10,4))\n",
    "plt.plot(gain_curve_test, color=\"C0\", label=f\"AUC: {auc:.2f}\")\n",
    "plt.hlines(0, 0, 100, linestyle=\"--\", color=\"black\", label=\"Baseline\")\n",
    "\n",
    "plt.legend();\n",
    "plt.title(\"T-Learner\")\n",
    "\n"
   ]
  },
  {
   "cell_type": "code",
   "execution_count": null,
   "metadata": {
    "ExecuteTime": {
     "end_time": "2023-06-26T13:31:42.337106Z",
     "start_time": "2023-06-26T13:31:41.879005Z"
    },
    "tags": [
     "hide-input"
    ]
   },
   "outputs": [],
   "source": [
    "np.random.seed(123)\n",
    "\n",
    "def g_kernel(x, c=0, s=0.05): \n",
    "    return np.exp((-(x-c)**2)/s)\n",
    "\n",
    "n0 = 500\n",
    "x0 = np.random.uniform(-1, 1, n0)\n",
    "y0 = np.random.normal(0.3*g_kernel(x0), 0.1, n0)\n",
    "\n",
    "n1 = 50\n",
    "x1 = np.random.uniform(-1, 1, n1)\n",
    "y1 = np.random.normal(0.3*g_kernel(x1), 0.1, n1)+1\n",
    "\n",
    "df = pd.concat([pd.DataFrame(dict(x=x0, y=y0, t=0)), pd.DataFrame(dict(x=x1, y=y1, t=1))]).sort_values(by=\"x\")\n",
    "\n",
    "m0 = LGBMRegressor(min_child_samples=25)\n",
    "m1 = LGBMRegressor(min_child_samples=25)\n",
    "\n",
    "m0.fit(x0.reshape(-1, 1), y0)\n",
    "m1.fit(x1.reshape(-1, 1), y1)\n",
    "\n",
    "m0_hat = m0.predict(df.query(\"t==0\")[[\"x\"]])\n",
    "m1_hat = m1.predict(df.query(\"t==1\")[[\"x\"]])\n",
    "\n",
    "fig, (ax1, ax2) = plt.subplots(2, 1, figsize=(10, 10))\n",
    "\n",
    "ax1.scatter(x0, y0, alpha=0.5, label=\"T=0\", marker=marker[0], color=color[1])\n",
    "ax1.scatter(x1, y1, alpha=0.7, label=\"T=1\", marker=marker[1], color=color[0])\n",
    "\n",
    "ax1.plot(df.query(\"t==0\")[[\"x\"]], m0_hat, color=\"black\", linestyle=\"solid\",  label=\"$\\hat{\\mu}_0$\")\n",
    "ax1.plot(df.query(\"t==1\")[[\"x\"]], m1_hat, color=\"black\", linestyle=\"--\",  label=\"$\\hat{\\mu}_1$\")\n",
    "\n",
    "ax1.set_ylabel(\"Y\")\n",
    "ax1.set_xlabel(\"X\")\n",
    "ax1.legend(fontsize=14);\n",
    "\n",
    "tau_0 = m1.predict(df.query(\"t==0\")[[\"x\"]]) - df.query(\"t==0\")[\"y\"]\n",
    "tau_1 = df.query(\"t==1\")[\"y\"] - m0.predict(df.query(\"t==1\")[[\"x\"]])\n",
    "\n",
    "ax2.scatter(df.query(\"t==0\")[[\"x\"]], tau_0, label=\"$\\hat{\\\\tau_0}$\", alpha=0.5, marker=marker[0], color=color[1])\n",
    "ax2.scatter(df.query(\"t==1\")[[\"x\"]], tau_1, label=\"$\\hat{\\\\tau_1}$\", alpha=0.7, marker=marker[1], color=color[0])\n",
    "\n",
    "ax2.plot(df[[\"x\"]], m1.predict(df[[\"x\"]]) - m0.predict(df[[\"x\"]]), label=\"$\\hat{CATE}$\",  color=\"black\")\n",
    "\n",
    "ax2.set_ylabel(\"Estimated Effect\")\n",
    "ax2.set_xlabel(\"X\")\n",
    "ax2.legend(fontsize=14)\n"
   ]
  },
  {
   "cell_type": "markdown",
   "metadata": {},
   "source": [
    "### X-Learner\n"
   ]
  },
  {
   "cell_type": "code",
   "execution_count": null,
   "metadata": {
    "ExecuteTime": {
     "end_time": "2023-06-26T13:31:42.529004Z",
     "start_time": "2023-06-26T13:31:42.340193Z"
    },
    "tags": [
     "hide-input"
    ]
   },
   "outputs": [],
   "source": [
    "from sklearn.linear_model import LogisticRegression\n",
    "\n",
    "np.random.seed(1)\n",
    "\n",
    "mu_tau0 = LGBMRegressor(min_child_samples=25)\n",
    "mu_tau1 = LGBMRegressor(min_child_samples=25)\n",
    "\n",
    "mu_tau0.fit(df.query(\"t==0\")[[\"x\"]], tau_0)\n",
    "mu_tau1.fit(df.query(\"t==1\")[[\"x\"]], tau_1)\n",
    "\n",
    "mu_tau0_hat = mu_tau0.predict(df.query(\"t==0\")[[\"x\"]])\n",
    "mu_tau1_hat = mu_tau1.predict(df.query(\"t==1\")[[\"x\"]])\n",
    "\n",
    "plt.figure(figsize=(10, 4))\n",
    "plt.scatter(df.query(\"t==0\")[[\"x\"]], tau_0, label=\"$\\hat{\\\\tau_0}$\", alpha=0.5, marker=marker[0], color=color[1])\n",
    "plt.scatter(df.query(\"t==1\")[[\"x\"]], tau_1, label=\"$\\hat{\\\\tau_1}$\", alpha=0.8, marker=marker[1], color=color[0])\n",
    "plt.plot(df.query(\"t==0\")[[\"x\"]], mu_tau0_hat, color=\"black\", linestyle=\"solid\", label=\"$\\hat{\\mu}\\\\tau 0$\")\n",
    "plt.plot(df.query(\"t==1\")[[\"x\"]], mu_tau1_hat, color=\"black\", linestyle=\"dashed\", label=\"$\\hat{\\mu}\\\\tau_1$\")\n",
    "plt.ylabel(\"Estimated Effect\")\n",
    "plt.xlabel(\"X\")\n",
    "plt.legend(fontsize=14)\n",
    "\n"
   ]
  },
  {
   "cell_type": "code",
   "execution_count": null,
   "metadata": {
    "ExecuteTime": {
     "end_time": "2023-06-26T13:31:42.668637Z",
     "start_time": "2023-06-26T13:31:42.530638Z"
    },
    "tags": [
     "hide-input"
    ]
   },
   "outputs": [],
   "source": [
    "plt.figure(figsize=(10, 4))\n",
    "\n",
    "ps_model = LogisticRegression(penalty=\"none\")\n",
    "ps_model.fit(df[[\"x\"]], df[\"t\"])\n",
    "\n",
    "ps = ps_model.predict_proba(df[[\"x\"]])[:, 1]\n",
    "\n",
    "cate = ((1-ps)*mu_tau1.predict(df[[\"x\"]]) +\n",
    "        ps*mu_tau0.predict(df[[\"x\"]]))\n",
    "\n",
    "plt.scatter(df.query(\"t==0\")[[\"x\"]], tau_0, label=\"$\\hat{\\\\tau_0}$\", alpha=0.5, s=100*(ps[df[\"t\"]==0]),   marker=marker[0], color=color[1])\n",
    "plt.scatter(df.query(\"t==1\")[[\"x\"]], tau_1, label=\"$\\hat{\\\\tau_1}$\", alpha=0.5, s=100*(1-ps[df[\"t\"]==1]), marker=marker[1], color=color[0])\n",
    "\n",
    "plt.plot(df[[\"x\"]], cate, label=\"x-learner\", color=\"black\")\n",
    "plt.ylabel(\"Estimated Effect\")\n",
    "plt.xlabel(\"X\")\n",
    "plt.legend(fontsize=14)\n",
    "\n"
   ]
  },
  {
   "cell_type": "code",
   "execution_count": null,
   "metadata": {
    "ExecuteTime": {
     "end_time": "2023-06-26T13:31:44.658452Z",
     "start_time": "2023-06-26T13:31:42.670234Z"
    }
   },
   "outputs": [],
   "source": [
    "from sklearn.linear_model import LogisticRegression\n",
    "from lightgbm import LGBMRegressor\n",
    "\n",
    "# propensity score model\n",
    "ps_model = LogisticRegression(penalty='none')\n",
    "ps_model.fit(train[X], train[T])\n",
    "\n",
    "\n",
    "# first stage models\n",
    "train_t0 = train.query(f\"{T}==0\")\n",
    "train_t1 = train.query(f\"{T}==1\")\n",
    "\n",
    "m0 = LGBMRegressor()\n",
    "m1 = LGBMRegressor()\n",
    "\n",
    "np.random.seed(123)\n",
    "\n",
    "m0.fit(train_t0[X], train_t0[y],\n",
    "       sample_weight=1/ps_model.predict_proba(train_t0[X])[:, 0])\n",
    "\n",
    "m1.fit(train_t1[X], train_t1[y],\n",
    "       sample_weight=1/ps_model.predict_proba(train_t1[X])[:, 1]);\n"
   ]
  },
  {
   "cell_type": "code",
   "execution_count": null,
   "metadata": {
    "ExecuteTime": {
     "end_time": "2023-06-26T13:31:46.457530Z",
     "start_time": "2023-06-26T13:31:44.660028Z"
    }
   },
   "outputs": [],
   "source": [
    "# second stage\n",
    "tau_hat_0 = m1.predict(train_t0[X]) - train_t0[y]\n",
    "tau_hat_1 = train_t1[y] - m0.predict(train_t1[X])\n",
    "\n",
    "m_tau_0 = LGBMRegressor()\n",
    "m_tau_1 = LGBMRegressor()\n",
    "\n",
    "np.random.seed(123)\n",
    "\n",
    "m_tau_0.fit(train_t0[X], tau_hat_0)\n",
    "m_tau_1.fit(train_t1[X], tau_hat_1);"
   ]
  },
  {
   "cell_type": "code",
   "execution_count": null,
   "metadata": {
    "ExecuteTime": {
     "end_time": "2023-06-26T13:31:46.489440Z",
     "start_time": "2023-06-26T13:31:46.459210Z"
    }
   },
   "outputs": [],
   "source": [
    "# estimate the CATE\n",
    "ps_test = ps_model.predict_proba(test[X])[:, 1]\n",
    "\n",
    "x_cate_test = test.assign(\n",
    "    cate=(ps_test*m_tau_0.predict(test[X]) +\n",
    "          (1-ps_test)*m_tau_1.predict(test[X])\n",
    "         )\n",
    ")"
   ]
  },
  {
   "cell_type": "code",
   "execution_count": null,
   "metadata": {
    "ExecuteTime": {
     "end_time": "2023-06-26T13:31:46.664716Z",
     "start_time": "2023-06-26T13:31:46.490725Z"
    },
    "tags": [
     "hide-input"
    ]
   },
   "outputs": [],
   "source": [
    "gain_curve_test = relative_cumulative_gain_curve(x_cate_test, T, y, prediction=\"cate\")\n",
    "auc = area_under_the_relative_cumulative_gain_curve(x_cate_test, T, y, prediction=\"cate\")\n",
    "\n",
    "plt.figure(figsize=(10, 4))\n",
    "plt.plot(gain_curve_test, color=\"C0\", label=f\"AUC: {auc:.2f}\")\n",
    "plt.hlines(0, 0, 100, linestyle=\"--\", color=\"black\", label=\"Baseline\")\n",
    "\n",
    "plt.legend();\n",
    "plt.title(\"X-Learner\")"
   ]
  },
  {
   "cell_type": "markdown",
   "metadata": {},
   "source": [
    "## Meta-Learners for Continuous Treatments\n"
   ]
  },
  {
   "cell_type": "code",
   "execution_count": null,
   "metadata": {
    "ExecuteTime": {
     "end_time": "2023-06-26T13:31:46.681045Z",
     "start_time": "2023-06-26T13:31:46.666173Z"
    }
   },
   "outputs": [],
   "source": [
    "data_cont = pd.read_csv(\"./data/discount_data.csv\")\n",
    "data_cont.head()"
   ]
  },
  {
   "cell_type": "code",
   "execution_count": null,
   "metadata": {
    "ExecuteTime": {
     "end_time": "2023-06-26T13:31:46.688492Z",
     "start_time": "2023-06-26T13:31:46.682911Z"
    }
   },
   "outputs": [],
   "source": [
    "train = data_cont.query(\"day<'2018-01-01'\")\n",
    "test = data_cont.query(\"day>='2018-01-01'\")"
   ]
  },
  {
   "cell_type": "markdown",
   "metadata": {},
   "source": [
    "### S-Learner\n"
   ]
  },
  {
   "cell_type": "code",
   "execution_count": null,
   "metadata": {
    "ExecuteTime": {
     "end_time": "2023-06-26T13:31:46.882359Z",
     "start_time": "2023-06-26T13:31:46.689828Z"
    }
   },
   "outputs": [],
   "source": [
    "X = [\"month\", \"weekday\", \"is_holiday\", \"competitors_price\"]\n",
    "T = \"discounts\"\n",
    "y = \"sales\"\n",
    "\n",
    "np.random.seed(123)\n",
    "s_learner = LGBMRegressor()\n",
    "s_learner.fit(train[X+[T]], train[y]);"
   ]
  },
  {
   "cell_type": "code",
   "execution_count": null,
   "metadata": {
    "ExecuteTime": {
     "end_time": "2023-06-26T13:31:46.920832Z",
     "start_time": "2023-06-26T13:31:46.883985Z"
    }
   },
   "outputs": [],
   "source": [
    "t_grid = pd.DataFrame(dict(key=1,\n",
    "                           discounts=np.array([0, 10, 20, 30, 40])))\n",
    "\n",
    "test_cf = (test\n",
    "           .drop(columns=[\"discounts\"])\n",
    "           .assign(key=1)\n",
    "           .merge(t_grid)\n",
    "           # make predictions after expansion\n",
    "           .assign(sales_hat = lambda d: s_learner.predict(d[X+[T]])))\n",
    "\n",
    "test_cf.head(8)"
   ]
  },
  {
   "cell_type": "code",
   "execution_count": null,
   "metadata": {
    "ExecuteTime": {
     "end_time": "2023-06-26T13:31:47.039307Z",
     "start_time": "2023-06-26T13:31:46.922656Z"
    },
    "tags": [
     "hide-input"
    ]
   },
   "outputs": [],
   "source": [
    "days = [\"2018-12-25\", \"2018-01-01\", \"2018-06-01\", \"2018-06-18\"]\n",
    "\n",
    "plt.figure(figsize=(10, 4))\n",
    "sns.lineplot(data=test_cf.query(\"day.isin(@days)\").query(\"rest_id==2\"),\n",
    "             palette=\"gray\",\n",
    "             y=\"sales_hat\",\n",
    "             x=\"discounts\",\n",
    "             style=\"day\");\n",
    "\n"
   ]
  },
  {
   "cell_type": "code",
   "execution_count": null,
   "metadata": {
    "ExecuteTime": {
     "end_time": "2023-06-26T13:31:47.377484Z",
     "start_time": "2023-06-26T13:31:47.041083Z"
    }
   },
   "outputs": [],
   "source": [
    "from toolz import curry\n",
    "\n",
    "@curry\n",
    "def linear_effect(df, y, t):\n",
    "    return np.cov(df[y], df[t])[0, 1]/df[t].var()\n",
    "\n",
    "\n",
    "cate = (test_cf\n",
    "        .groupby([\"rest_id\", \"day\"])\n",
    "        .apply(linear_effect(t=\"discounts\", y=\"sales_hat\"))\n",
    "        .rename(\"cate\"))\n",
    "\n",
    "test_s_learner_pred = test.set_index([\"rest_id\", \"day\"]).join(cate)\n",
    "\n",
    "test_s_learner_pred.head()"
   ]
  },
  {
   "cell_type": "code",
   "execution_count": null,
   "metadata": {
    "ExecuteTime": {
     "end_time": "2023-06-26T13:31:47.545287Z",
     "start_time": "2023-06-26T13:31:47.379191Z"
    },
    "tags": [
     "hide-input"
    ]
   },
   "outputs": [],
   "source": [
    "from fklearn.causal.validation.auc import area_under_the_relative_cumulative_gain_curve\n",
    "from fklearn.causal.validation.curves import relative_cumulative_gain_curve\n",
    "\n",
    "gain_curve_test = relative_cumulative_gain_curve(test_s_learner_pred, T, y, prediction=\"cate\")\n",
    "auc = area_under_the_relative_cumulative_gain_curve(test_s_learner_pred, T, y, prediction=\"cate\")\n",
    "\n",
    "plt.figure(figsize=(10, 4))\n",
    "plt.plot(gain_curve_test, color=\"C0\", label=f\"AUC: {auc:.2f}\")\n",
    "plt.hlines(0, 0, 100, linestyle=\"--\", color=\"black\", label=\"Baseline\")\n",
    "\n",
    "plt.legend();\n",
    "plt.title(\"S-Learner\")\n"
   ]
  },
  {
   "cell_type": "code",
   "execution_count": null,
   "metadata": {
    "ExecuteTime": {
     "end_time": "2023-06-26T13:32:38.252085Z",
     "start_time": "2023-06-26T13:31:47.546907Z"
    },
    "tags": [
     "hide-input"
    ]
   },
   "outputs": [],
   "source": [
    "np.random.seed(123)\n",
    "\n",
    "def sim_s_learner_ate():\n",
    "    n = 10000\n",
    "    nx = 20\n",
    "    \n",
    "    X = np.random.normal(0, 1, (n, nx))\n",
    "    coefs_y = np.random.uniform(-1, 1, nx)\n",
    "    coefs_t = np.random.uniform(-0.5, 0.5, nx)\n",
    "    \n",
    "    ps = 1/(1+np.exp(-(X.dot(coefs_t))))\n",
    "    t = np.random.binomial(1, ps)\n",
    "    te = 1\n",
    "    \n",
    "    y = np.random.normal(t*te + X.dot(coefs_y), 1)\n",
    "    \n",
    "    s_learner = LGBMRegressor(max_depth=5, n_jobs=4)\n",
    "    s_learner.fit(np.concatenate([X, t.reshape(-1, 1)], axis=1), y);\n",
    "    \n",
    "    ate_hat = (s_learner.predict(np.concatenate([X, np.ones((n, 1))], axis=1))\n",
    "               - s_learner.predict(np.concatenate([X, np.zeros((n, 1))], axis=1))).mean()\n",
    "    \n",
    "    return ate_hat\n",
    "    \n",
    "    \n",
    "ates = [sim_s_learner_ate() for _ in range(500)]\n",
    "\n",
    "plt.figure(figsize=(10, 4))\n",
    "plt.hist(ates, alpha=0.5, bins=20, label=\"Simulations\")\n",
    "plt.vlines(1, 0, 70, label=\"True ATE\")\n",
    "plt.legend()\n",
    "plt.xlabel(\"ATE\")\n",
    "plt.title(\"500 Simulations\")"
   ]
  },
  {
   "cell_type": "markdown",
   "metadata": {},
   "source": [
    "### Double/Debiased Machine Learning\n"
   ]
  },
  {
   "cell_type": "code",
   "execution_count": null,
   "metadata": {
    "ExecuteTime": {
     "end_time": "2023-06-26T13:32:38.679431Z",
     "start_time": "2023-06-26T13:32:38.253467Z"
    }
   },
   "outputs": [],
   "source": [
    "from sklearn.model_selection import cross_val_predict\n",
    "\n",
    "X = [\"month\", \"weekday\", \"is_holiday\", \"competitors_price\"]\n",
    "T = \"discounts\"\n",
    "y = \"sales\"\n",
    "\n",
    "debias_m = LGBMRegressor()\n",
    "denoise_m = LGBMRegressor()\n",
    "\n",
    "t_res =  train[T] - cross_val_predict(debias_m,train[X],train[T],cv=5)\n",
    "y_res =  train[y] - cross_val_predict(denoise_m,train[X],train[y],cv=5)"
   ]
  },
  {
   "cell_type": "code",
   "execution_count": null,
   "metadata": {
    "ExecuteTime": {
     "end_time": "2023-06-26T13:32:39.533705Z",
     "start_time": "2023-06-26T13:32:38.680736Z"
    }
   },
   "outputs": [],
   "source": [
    "import statsmodels.api as sm\n",
    "\n",
    "sm.OLS(y_res, t_res).fit().summary().tables[1]"
   ]
  },
  {
   "cell_type": "markdown",
   "metadata": {},
   "source": [
    "#### Double-ML for CATE Estimation\n"
   ]
  },
  {
   "cell_type": "code",
   "execution_count": null,
   "metadata": {
    "ExecuteTime": {
     "end_time": "2023-06-26T13:32:39.619070Z",
     "start_time": "2023-06-26T13:32:39.534947Z"
    }
   },
   "outputs": [],
   "source": [
    "y_star = y_res/t_res\n",
    "w = t_res**2\n",
    "\n",
    "cate_model = LGBMRegressor().fit(train[X], y_star, sample_weight=w)\n",
    "\n",
    "test_r_learner_pred = test.assign(cate = cate_model.predict(test[X]))"
   ]
  },
  {
   "cell_type": "code",
   "execution_count": null,
   "metadata": {
    "ExecuteTime": {
     "end_time": "2023-06-26T13:32:39.779919Z",
     "start_time": "2023-06-26T13:32:39.620353Z"
    },
    "tags": [
     "hide-input"
    ]
   },
   "outputs": [],
   "source": [
    "gain_curve_test = relative_cumulative_gain_curve(test_r_learner_pred, T, y, prediction=\"cate\")\n",
    "auc = area_under_the_relative_cumulative_gain_curve(test_r_learner_pred, T, y, prediction=\"cate\")\n",
    "\n",
    "plt.figure(figsize=(10, 4))\n",
    "plt.plot(gain_curve_test, color=\"C0\", label=f\"AUC: {auc:.2f}\")\n",
    "plt.hlines(0, 0, 100, linestyle=\"--\", color=\"black\", label=\"Baseline\")\n",
    "\n",
    "plt.legend();\n",
    "plt.title(\"R-Learner\")"
   ]
  },
  {
   "cell_type": "markdown",
   "metadata": {},
   "source": [
    "#### Visual Intuition for Double-ML\n"
   ]
  },
  {
   "cell_type": "code",
   "execution_count": null,
   "metadata": {
    "ExecuteTime": {
     "end_time": "2023-06-26T13:32:39.790532Z",
     "start_time": "2023-06-26T13:32:39.786083Z"
    }
   },
   "outputs": [],
   "source": [
    "np.random.seed(123)\n",
    "n = 5000\n",
    "\n",
    "x_h = np.random.randint(1, 4, n)\n",
    "x_c = np.random.uniform(-1, 1, n)\n",
    "\n",
    "t = np.random.normal(10 + 1*x_c + 3*x_c**2 + x_c**3, 0.3)\n",
    "y = np.random.normal(t + x_h*t - 5*x_c - x_c**2 - x_c**3, 0.3)\n",
    "\n",
    "df_sim = pd.DataFrame(dict(x_h=x_h, x_c=x_c, t=t, y=y))"
   ]
  },
  {
   "cell_type": "code",
   "execution_count": null,
   "metadata": {
    "ExecuteTime": {
     "end_time": "2023-06-26T13:32:40.098825Z",
     "start_time": "2023-06-26T13:32:39.791603Z"
    },
    "tags": [
     "hide-input"
    ]
   },
   "outputs": [],
   "source": [
    "import matplotlib\n",
    "\n",
    "plt.figure(figsize=(10, 5))\n",
    "cmap = matplotlib.colors.LinearSegmentedColormap.from_list(\"\", [\"0.1\",\"0.5\",\"0.9\"])\n",
    "\n",
    "sns.scatterplot(data=df_sim, y=\"y\", x=\"t\", hue=\"x_c\", style=\"x_h\", palette=cmap);\n",
    "plt.legend(fontsize=14)"
   ]
  },
  {
   "cell_type": "code",
   "execution_count": null,
   "metadata": {
    "ExecuteTime": {
     "end_time": "2023-06-26T13:32:40.322592Z",
     "start_time": "2023-06-26T13:32:40.099996Z"
    }
   },
   "outputs": [],
   "source": [
    "debias_m = LGBMRegressor(max_depth=3)\n",
    "denoise_m = LGBMRegressor(max_depth=3)\n",
    "\n",
    "t_res = cross_val_predict(debias_m, df_sim[[\"x_c\"]], df_sim[\"t\"],\n",
    "                          cv=10)\n",
    "\n",
    "y_res = cross_val_predict(denoise_m, df_sim[[\"x_c\", \"x_h\"]],df_sim[\"y\"],\n",
    "                          cv=10)\n",
    "\n",
    "df_res = df_sim.assign(\n",
    "    t_res =  df_sim[\"t\"] - t_res,\n",
    "    y_res =  df_sim[\"y\"] - y_res\n",
    ")"
   ]
  },
  {
   "cell_type": "code",
   "execution_count": null,
   "metadata": {
    "ExecuteTime": {
     "end_time": "2023-06-26T13:32:40.331220Z",
     "start_time": "2023-06-26T13:32:40.323694Z"
    },
    "scrolled": true
   },
   "outputs": [],
   "source": [
    "import statsmodels.formula.api as smf\n",
    "\n",
    "smf.ols(\"y_res~t_res\", data=df_res).fit().params[\"t_res\"]"
   ]
  },
  {
   "cell_type": "code",
   "execution_count": null,
   "metadata": {
    "ExecuteTime": {
     "end_time": "2023-06-26T13:32:40.782998Z",
     "start_time": "2023-06-26T13:32:40.332507Z"
    },
    "tags": [
     "hide-input"
    ]
   },
   "outputs": [],
   "source": [
    "fig, (ax1, ax2) = plt.subplots(1, 2, figsize=(15, 5))\n",
    "\n",
    "ax1 = sns.scatterplot(data=df_res, y=\"y_res\", x=\"t_res\", hue=\"x_c\", style=\"x_h\", alpha=0.5, ax=ax1, palette=cmap)\n",
    "\n",
    "h,l = ax1.get_legend_handles_labels()\n",
    "ax1.legend(fontsize=14)\n",
    "\n",
    "sns.scatterplot(data=df_res, y=\"y_res\", x=\"t_res\", hue=\"x_h\", ax=ax2, alpha=0.5, palette=cmap)\n",
    "ax2.legend(fontsize=14)\n"
   ]
  },
  {
   "cell_type": "code",
   "execution_count": null,
   "metadata": {
    "ExecuteTime": {
     "end_time": "2023-06-26T13:32:40.794154Z",
     "start_time": "2023-06-26T13:32:40.784104Z"
    }
   },
   "outputs": [],
   "source": [
    "df_star = df_res.assign(\n",
    "    y_star = df_res[\"y_res\"]/df_res[\"t_res\"],\n",
    "    weight = df_res[\"t_res\"]**2,\n",
    ")\n",
    "\n",
    "for x in range(1, 4):\n",
    "    cate = np.average(df_star.query(f\"x_h=={x}\")[\"y_star\"],\n",
    "                      weights=df_star.query(f\"x_h=={x}\")[\"weight\"])\n",
    "    \n",
    "    print(f\"CATE x_h={x}\", cate)"
   ]
  },
  {
   "cell_type": "code",
   "execution_count": null,
   "metadata": {
    "ExecuteTime": {
     "end_time": "2023-06-26T13:32:41.134073Z",
     "start_time": "2023-06-26T13:32:40.795356Z"
    },
    "tags": [
     "hide-input"
    ]
   },
   "outputs": [],
   "source": [
    "plt.figure(figsize=(10, 6))\n",
    "\n",
    "sns.scatterplot(data=df_star, palette=cmap,\n",
    "                y=\"y_star\", x=\"t_res\", hue=\"x_h\", size=\"weight\", sizes=(1, 100)), \n",
    "\n",
    "plt.hlines(np.average(df_star.query(\"x_h==1\")[\"y_star\"], weights=df_star.query(\"x_h==1\")[\"weight\"]),\n",
    "           -1, 1, label=\"x_h=1\", color=\"0.1\")\n",
    "\n",
    "plt.hlines(np.average(df_star.query(\"x_h==2\")[\"y_star\"], weights=df_star.query(\"x_h==2\")[\"weight\"]),\n",
    "           -1, 1, label=\"x_h=2\", color=\"0.5\")\n",
    "\n",
    "plt.hlines(np.average(df_star.query(\"x_h==3\")[\"y_star\"], weights=df_star.query(\"x_h==3\")[\"weight\"]),\n",
    "           -1, 1, label=\"x_h=3\", color=\"0.9\")\n",
    "\n",
    "plt.ylim(-1, 8)\n",
    "\n",
    "plt.legend(fontsize=12)\n",
    "\n"
   ]
  },
  {
   "cell_type": "markdown",
   "metadata": {},
   "source": [
    "## Key Ideas\n",
    " \n"
   ]
  },
  {
   "cell_type": "code",
   "execution_count": null,
   "metadata": {},
   "outputs": [],
   "source": []
  }
 ],
 "metadata": {
  "celltoolbar": "Tags",
  "kernelspec": {
   "display_name": "Python 3 (ipykernel)",
   "language": "python",
   "name": "python3"
  },
  "language_info": {
   "codemirror_mode": {
    "name": "ipython",
    "version": 3
   },
   "file_extension": ".py",
   "mimetype": "text/x-python",
   "name": "python",
   "nbconvert_exporter": "python",
   "pygments_lexer": "ipython3",
   "version": "3.11.4"
  },
  "toc": {
   "base_numbering": 1,
   "nav_menu": {},
   "number_sections": true,
   "sideBar": true,
   "skip_h1_title": false,
   "title_cell": "Table of Contents",
   "title_sidebar": "Contents",
   "toc_cell": false,
   "toc_position": {},
   "toc_section_display": true,
   "toc_window_display": false
  },
  "varInspector": {
   "cols": {
    "lenName": 16,
    "lenType": 16,
    "lenVar": 40
   },
   "kernels_config": {
    "python": {
     "delete_cmd_postfix": "",
     "delete_cmd_prefix": "del ",
     "library": "var_list.py",
     "varRefreshCmd": "print(var_dic_list())"
    },
    "r": {
     "delete_cmd_postfix": ") ",
     "delete_cmd_prefix": "rm(",
     "library": "var_list.r",
     "varRefreshCmd": "cat(var_dic_list()) "
    }
   },
   "types_to_exclude": [
    "module",
    "function",
    "builtin_function_or_method",
    "instance",
    "_Feature"
   ],
   "window_display": false
  }
 },
 "nbformat": 4,
 "nbformat_minor": 4
}
