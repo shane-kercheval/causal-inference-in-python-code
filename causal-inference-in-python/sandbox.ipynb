{
 "cells": [
  {
   "cell_type": "code",
   "execution_count": 3,
   "metadata": {},
   "outputs": [
    {
     "name": "stdout",
     "output_type": "stream",
     "text": [
      "      Name  Age  Salary  Age_Squared  Salary_Increase            z\n",
      "0    Alice   25   50000          625          52500.0  2000.000000\n",
      "1      Bob   30   60000          900          63000.0  2000.000000\n",
      "2  Charlie   22   45000          484          47250.0  2045.454545\n",
      "3    David   28   70000          784          73500.0  2500.000000\n"
     ]
    }
   ],
   "source": [
    "import pandas as pd\n",
    "\n",
    "# Sample DataFrame\n",
    "data = {\n",
    "    'Name': ['Alice', 'Bob', 'Charlie', 'David'],\n",
    "    'Age': [25, 30, 22, 28],\n",
    "    'Salary': [50000, 60000, 45000, 70000]\n",
    "}\n",
    "\n",
    "df = pd.DataFrame(data)\n",
    "\n",
    "# Using assign() to create a new column and modify an existing column\n",
    "result_df = df.assign(\n",
    "    Age_Squared=lambda x: x['Age'] ** 2,\n",
    "    Salary_Increase=lambda x: x['Salary'] * 1.05,\n",
    "    z = lambda x: x['Salary'] / x['Age'],\n",
    ")\n",
    "\n",
    "print(result_df)\n"
   ]
  },
  {
   "cell_type": "code",
   "execution_count": null,
   "metadata": {},
   "outputs": [],
   "source": []
  }
 ],
 "metadata": {
  "kernelspec": {
   "display_name": "Python 3",
   "language": "python",
   "name": "python3"
  },
  "language_info": {
   "codemirror_mode": {
    "name": "ipython",
    "version": 3
   },
   "file_extension": ".py",
   "mimetype": "text/x-python",
   "name": "python",
   "nbconvert_exporter": "python",
   "pygments_lexer": "ipython3",
   "version": "3.11.4"
  },
  "orig_nbformat": 4
 },
 "nbformat": 4,
 "nbformat_minor": 2
}
